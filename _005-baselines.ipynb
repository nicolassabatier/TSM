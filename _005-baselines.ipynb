{
 "cells": [
  {
   "cell_type": "markdown",
   "metadata": {},
   "source": [
    "# How do different types of models perform on our sample data?\n",
    "\n",
    "Let's start by looking just at the first meter (Electricity)"
   ]
  },
  {
   "cell_type": "code",
   "execution_count": 1,
   "metadata": {},
   "outputs": [],
   "source": [
    "import pandas as pd"
   ]
  },
  {
   "cell_type": "code",
   "execution_count": 2,
   "metadata": {},
   "outputs": [],
   "source": [
    "from tsm.evaluators import k_fold_validator"
   ]
  },
  {
   "cell_type": "code",
   "execution_count": 3,
   "metadata": {},
   "outputs": [],
   "source": [
    "from sklearn.metrics import mean_squared_error\n",
    "from math import sqrt"
   ]
  },
  {
   "cell_type": "code",
   "execution_count": 4,
   "metadata": {},
   "outputs": [],
   "source": [
    "import joblib"
   ]
  },
  {
   "cell_type": "code",
   "execution_count": 5,
   "metadata": {},
   "outputs": [],
   "source": [
    "data = pd.read_pickle('data/prep/train_meter_0.pkl')"
   ]
  },
  {
   "cell_type": "code",
   "execution_count": 6,
   "metadata": {},
   "outputs": [],
   "source": [
    "SEED = 42"
   ]
  },
  {
   "cell_type": "markdown",
   "metadata": {},
   "source": [
    "We need to exclude some features from actual modelling"
   ]
  },
  {
   "cell_type": "code",
   "execution_count": 7,
   "metadata": {},
   "outputs": [],
   "source": [
    "exclude = ['timestamp', 'suspicious_day', 'suspicious_month']\n",
    "y_col = ['log_meter_reading']\n",
    "x_cols = [x for x in list(data) if x not in exclude + y_col]"
   ]
  },
  {
   "cell_type": "markdown",
   "metadata": {},
   "source": [
    "Default choice: **no using** suspicious"
   ]
  },
  {
   "cell_type": "code",
   "execution_count": 13,
   "metadata": {},
   "outputs": [
    {
     "data": {
      "text/plain": [
       "0    0.923804\n",
       "1    0.076196\n",
       "Name: day_suspicious, dtype: float64"
      ]
     },
     "execution_count": 13,
     "metadata": {},
     "output_type": "execute_result"
    }
   ],
   "source": [
    "# Meter 0: if suspcious_day → remove\n",
    "data.day_suspicious.value_counts(normalize=True)"
   ]
  },
  {
   "cell_type": "code",
   "execution_count": 8,
   "metadata": {},
   "outputs": [],
   "source": [
    "data = data[data.day_suspicious == False].reset_index(drop=True)"
   ]
  },
  {
   "cell_type": "markdown",
   "metadata": {},
   "source": [
    "## Baseline: DummyRegressor"
   ]
  },
  {
   "cell_type": "code",
   "execution_count": 20,
   "metadata": {},
   "outputs": [],
   "source": [
    "from sklearn.dummy import DummyRegressor"
   ]
  },
  {
   "cell_type": "code",
   "execution_count": 21,
   "metadata": {},
   "outputs": [],
   "source": [
    "dummy = DummyRegressor(\"mean\")"
   ]
  },
  {
   "cell_type": "code",
   "execution_count": 22,
   "metadata": {},
   "outputs": [
    {
     "name": "stdout",
     "output_type": "stream",
     "text": [
      "Fold rmsle: 1.4189585024174038\n",
      "Fold rmsle: 1.4184159343497882\n",
      "Fold rmsle: 1.4192611647343643\n",
      "Overall rmsle: 1.418878533833852\n"
     ]
    }
   ],
   "source": [
    "errors = []\n",
    "for tr_idx, ts_idx in k_fold_validator(k=3, data=data.index.values, shuffle=True, random_state=SEED):\n",
    "    \n",
    "    x = data[x_cols].values\n",
    "    y = data[y_col].values\n",
    "    x_tr, x_ts, y_tr, y_ts = x[tr_idx], x[ts_idx], y[tr_idx], y[ts_idx]\n",
    "    \n",
    "    dummy.fit(x_tr, y_tr)\n",
    "    rmsle = sqrt(mean_squared_error(y_ts, dummy.predict(x_ts)))\n",
    "    print('Fold rmsle:', rmsle)\n",
    "    errors.append(rmsle)\n",
    "\n",
    "print('Overall rmsle:', sum(errors) / len(errors))"
   ]
  },
  {
   "cell_type": "markdown",
   "metadata": {},
   "source": [
    "## RandomForestRegressor"
   ]
  },
  {
   "cell_type": "code",
   "execution_count": 23,
   "metadata": {},
   "outputs": [],
   "source": [
    "from sklearn.ensemble import RandomForestRegressor"
   ]
  },
  {
   "cell_type": "code",
   "execution_count": 24,
   "metadata": {},
   "outputs": [],
   "source": [
    "rfreg = RandomForestRegressor(n_estimators=7, max_depth=10, n_jobs=-1)"
   ]
  },
  {
   "cell_type": "code",
   "execution_count": 25,
   "metadata": {},
   "outputs": [
    {
     "name": "stdout",
     "output_type": "stream",
     "text": [
      "Fold rmsle: 0.6144330476351351\n",
      "Fold rmsle: 0.6134558442236404\n",
      "Fold rmsle: 0.6153539690786224\n",
      "Overall rmsle: 0.6144142869791326\n",
      "CPU times: user 2h 2min 28s, sys: 10.2 s, total: 2h 2min 38s\n",
      "Wall time: 18min 6s\n"
     ]
    }
   ],
   "source": [
    "%%time\n",
    "errors = []\n",
    "for tr_idx, ts_idx in k_fold_validator(k=3, data=data.index.values, shuffle=True, random_state=SEED):\n",
    "    \n",
    "    x = data[x_cols].values\n",
    "    y = data[y_col].values\n",
    "    x_tr, x_ts, y_tr, y_ts = x[tr_idx], x[ts_idx], y[tr_idx], y[ts_idx]\n",
    "    \n",
    "    rfreg.fit(x_tr, y_tr.ravel())\n",
    "    rmsle = sqrt(mean_squared_error(y_ts, rfreg.predict(x_ts)))\n",
    "    print('Fold rmsle:', rmsle)\n",
    "    errors.append(rmsle)\n",
    "\n",
    "print('Overall rmsle:', sum(errors) / len(errors))"
   ]
  },
  {
   "cell_type": "markdown",
   "metadata": {},
   "source": [
    "## LightGBM"
   ]
  },
  {
   "cell_type": "code",
   "execution_count": 16,
   "metadata": {},
   "outputs": [],
   "source": [
    "import lightgbm as lgb"
   ]
  },
  {
   "cell_type": "code",
   "execution_count": 17,
   "metadata": {},
   "outputs": [],
   "source": [
    "lgb_reg_params = {'objective':'regression',  'boosting_type':'gbdt', 'metric':'rmse',\n",
    "                  'n_jobs':-1, 'learning_rate':0.07, 'num_leaves': 2**8, 'max_depth':-1,\n",
    "                  'tree_learner':'serial', 'colsample_bytree': 0.7, 'subsample_freq':1,\n",
    "                  'subsample':0.5, 'max_bin': 255, 'verbose':1, 'seed': SEED,\n",
    "                  'device': 'gpu', 'gpu_platform_id': 0, 'gpu_device_id': 0}"
   ]
  },
  {
   "cell_type": "code",
   "execution_count": 18,
   "metadata": {},
   "outputs": [
    {
     "name": "stdout",
     "output_type": "stream",
     "text": [
      "Training until validation scores don't improve for 100 rounds\n",
      "[10]\ttraining's rmse: 0.917137\tvalid_1's rmse: 0.917017\n",
      "[20]\ttraining's rmse: 0.626615\tvalid_1's rmse: 0.626671\n",
      "[30]\ttraining's rmse: 0.513798\tvalid_1's rmse: 0.513991\n",
      "[40]\ttraining's rmse: 0.445297\tvalid_1's rmse: 0.445606\n",
      "[50]\ttraining's rmse: 0.406591\tvalid_1's rmse: 0.407003\n",
      "[60]\ttraining's rmse: 0.382479\tvalid_1's rmse: 0.382994\n",
      "[70]\ttraining's rmse: 0.360933\tvalid_1's rmse: 0.361521\n",
      "[80]\ttraining's rmse: 0.345488\tvalid_1's rmse: 0.346141\n",
      "[90]\ttraining's rmse: 0.330402\tvalid_1's rmse: 0.331139\n",
      "[100]\ttraining's rmse: 0.319431\tvalid_1's rmse: 0.320232\n",
      "[110]\ttraining's rmse: 0.310903\tvalid_1's rmse: 0.311788\n",
      "[120]\ttraining's rmse: 0.303564\tvalid_1's rmse: 0.304526\n",
      "[130]\ttraining's rmse: 0.297124\tvalid_1's rmse: 0.298147\n",
      "[140]\ttraining's rmse: 0.29107\tvalid_1's rmse: 0.292155\n",
      "[150]\ttraining's rmse: 0.286242\tvalid_1's rmse: 0.287419\n",
      "[160]\ttraining's rmse: 0.2818\tvalid_1's rmse: 0.283037\n",
      "[170]\ttraining's rmse: 0.277004\tvalid_1's rmse: 0.278327\n",
      "[180]\ttraining's rmse: 0.273218\tvalid_1's rmse: 0.274618\n",
      "[190]\ttraining's rmse: 0.269885\tvalid_1's rmse: 0.271362\n",
      "[200]\ttraining's rmse: 0.266861\tvalid_1's rmse: 0.268426\n",
      "[210]\ttraining's rmse: 0.263816\tvalid_1's rmse: 0.265429\n",
      "[220]\ttraining's rmse: 0.260743\tvalid_1's rmse: 0.262414\n",
      "[230]\ttraining's rmse: 0.258467\tvalid_1's rmse: 0.260213\n",
      "[240]\ttraining's rmse: 0.256342\tvalid_1's rmse: 0.258141\n",
      "[250]\ttraining's rmse: 0.253937\tvalid_1's rmse: 0.255795\n",
      "[260]\ttraining's rmse: 0.252105\tvalid_1's rmse: 0.254013\n",
      "[270]\ttraining's rmse: 0.25\tvalid_1's rmse: 0.251973\n",
      "[280]\ttraining's rmse: 0.248223\tvalid_1's rmse: 0.250244\n",
      "[290]\ttraining's rmse: 0.246611\tvalid_1's rmse: 0.248694\n",
      "[300]\ttraining's rmse: 0.244904\tvalid_1's rmse: 0.247059\n",
      "[310]\ttraining's rmse: 0.24346\tvalid_1's rmse: 0.245655\n",
      "[320]\ttraining's rmse: 0.241981\tvalid_1's rmse: 0.244245\n",
      "[330]\ttraining's rmse: 0.240323\tvalid_1's rmse: 0.242647\n",
      "[340]\ttraining's rmse: 0.238841\tvalid_1's rmse: 0.241214\n",
      "[350]\ttraining's rmse: 0.237054\tvalid_1's rmse: 0.23947\n",
      "[360]\ttraining's rmse: 0.235616\tvalid_1's rmse: 0.238119\n",
      "[370]\ttraining's rmse: 0.234149\tvalid_1's rmse: 0.236695\n",
      "[380]\ttraining's rmse: 0.232606\tvalid_1's rmse: 0.235195\n",
      "[390]\ttraining's rmse: 0.230964\tvalid_1's rmse: 0.233619\n",
      "[400]\ttraining's rmse: 0.229813\tvalid_1's rmse: 0.232519\n",
      "[410]\ttraining's rmse: 0.228741\tvalid_1's rmse: 0.231507\n",
      "[420]\ttraining's rmse: 0.227816\tvalid_1's rmse: 0.230641\n",
      "[430]\ttraining's rmse: 0.226843\tvalid_1's rmse: 0.229717\n",
      "[440]\ttraining's rmse: 0.225531\tvalid_1's rmse: 0.228451\n",
      "[450]\ttraining's rmse: 0.223976\tvalid_1's rmse: 0.226955\n",
      "[460]\ttraining's rmse: 0.22272\tvalid_1's rmse: 0.225759\n",
      "[470]\ttraining's rmse: 0.221812\tvalid_1's rmse: 0.224894\n",
      "[480]\ttraining's rmse: 0.22083\tvalid_1's rmse: 0.223956\n",
      "[490]\ttraining's rmse: 0.220201\tvalid_1's rmse: 0.22338\n",
      "[500]\ttraining's rmse: 0.219265\tvalid_1's rmse: 0.222506\n",
      "[510]\ttraining's rmse: 0.217989\tvalid_1's rmse: 0.22129\n",
      "[520]\ttraining's rmse: 0.217038\tvalid_1's rmse: 0.220397\n",
      "[530]\ttraining's rmse: 0.216079\tvalid_1's rmse: 0.219494\n",
      "[540]\ttraining's rmse: 0.215376\tvalid_1's rmse: 0.218834\n",
      "[550]\ttraining's rmse: 0.21446\tvalid_1's rmse: 0.217967\n",
      "[560]\ttraining's rmse: 0.213618\tvalid_1's rmse: 0.217168\n",
      "[570]\ttraining's rmse: 0.212673\tvalid_1's rmse: 0.216278\n",
      "[580]\ttraining's rmse: 0.212219\tvalid_1's rmse: 0.215878\n",
      "[590]\ttraining's rmse: 0.211297\tvalid_1's rmse: 0.214991\n",
      "[600]\ttraining's rmse: 0.210497\tvalid_1's rmse: 0.214236\n",
      "[610]\ttraining's rmse: 0.209628\tvalid_1's rmse: 0.213433\n",
      "[620]\ttraining's rmse: 0.208967\tvalid_1's rmse: 0.212828\n",
      "[630]\ttraining's rmse: 0.208026\tvalid_1's rmse: 0.211948\n",
      "[640]\ttraining's rmse: 0.207511\tvalid_1's rmse: 0.211482\n",
      "[650]\ttraining's rmse: 0.206857\tvalid_1's rmse: 0.210871\n",
      "[660]\ttraining's rmse: 0.206113\tvalid_1's rmse: 0.210176\n",
      "[670]\ttraining's rmse: 0.205228\tvalid_1's rmse: 0.209325\n",
      "[680]\ttraining's rmse: 0.20473\tvalid_1's rmse: 0.208873\n",
      "[690]\ttraining's rmse: 0.203844\tvalid_1's rmse: 0.208013\n",
      "[700]\ttraining's rmse: 0.202845\tvalid_1's rmse: 0.207065\n",
      "[710]\ttraining's rmse: 0.202129\tvalid_1's rmse: 0.206397\n",
      "[720]\ttraining's rmse: 0.201472\tvalid_1's rmse: 0.205775\n",
      "[730]\ttraining's rmse: 0.200613\tvalid_1's rmse: 0.204976\n",
      "[740]\ttraining's rmse: 0.199918\tvalid_1's rmse: 0.20433\n",
      "[750]\ttraining's rmse: 0.199221\tvalid_1's rmse: 0.203692\n",
      "[760]\ttraining's rmse: 0.198649\tvalid_1's rmse: 0.203155\n",
      "[770]\ttraining's rmse: 0.198086\tvalid_1's rmse: 0.202643\n",
      "[780]\ttraining's rmse: 0.197472\tvalid_1's rmse: 0.202071\n",
      "[790]\ttraining's rmse: 0.197029\tvalid_1's rmse: 0.201675\n",
      "[800]\ttraining's rmse: 0.196398\tvalid_1's rmse: 0.201088\n",
      "[810]\ttraining's rmse: 0.195729\tvalid_1's rmse: 0.200476\n",
      "[820]\ttraining's rmse: 0.195204\tvalid_1's rmse: 0.199982\n",
      "[830]\ttraining's rmse: 0.194711\tvalid_1's rmse: 0.199529\n",
      "[840]\ttraining's rmse: 0.194043\tvalid_1's rmse: 0.1989\n",
      "[850]\ttraining's rmse: 0.193521\tvalid_1's rmse: 0.198419\n",
      "[860]\ttraining's rmse: 0.193047\tvalid_1's rmse: 0.197991\n",
      "[870]\ttraining's rmse: 0.192603\tvalid_1's rmse: 0.197586\n",
      "[880]\ttraining's rmse: 0.192119\tvalid_1's rmse: 0.197128\n",
      "[890]\ttraining's rmse: 0.191602\tvalid_1's rmse: 0.196666\n",
      "[900]\ttraining's rmse: 0.191102\tvalid_1's rmse: 0.196206\n",
      "[910]\ttraining's rmse: 0.190701\tvalid_1's rmse: 0.195836\n",
      "[920]\ttraining's rmse: 0.190135\tvalid_1's rmse: 0.195304\n",
      "[930]\ttraining's rmse: 0.189626\tvalid_1's rmse: 0.19484\n",
      "[940]\ttraining's rmse: 0.189164\tvalid_1's rmse: 0.194418\n",
      "[950]\ttraining's rmse: 0.188741\tvalid_1's rmse: 0.194046\n",
      "[960]\ttraining's rmse: 0.188284\tvalid_1's rmse: 0.193635\n",
      "[970]\ttraining's rmse: 0.187884\tvalid_1's rmse: 0.193288\n",
      "[980]\ttraining's rmse: 0.187467\tvalid_1's rmse: 0.192909\n",
      "[990]\ttraining's rmse: 0.186898\tvalid_1's rmse: 0.192401\n",
      "[1000]\ttraining's rmse: 0.186604\tvalid_1's rmse: 0.192139\n",
      "Did not meet early stopping. Best iteration is:\n",
      "[1000]\ttraining's rmse: 0.186604\tvalid_1's rmse: 0.192139\n"
     ]
    },
    {
     "ename": "KeyboardInterrupt",
     "evalue": "",
     "output_type": "error",
     "traceback": [
      "\u001b[0;31m------------------------------------------\u001b[0m",
      "\u001b[0;31mKeyboardInterrupt\u001b[0mTraceback (most recent call last)",
      "\u001b[0;32m<timed exec>\u001b[0m in \u001b[0;36m<module>\u001b[0;34m\u001b[0m\n",
      "\u001b[0;32m/usr/local/lib/python3.5/dist-packages/lightgbm/basic.py\u001b[0m in \u001b[0;36mpredict\u001b[0;34m(self, data, num_iteration, raw_score, pred_leaf, pred_contrib, data_has_header, is_reshape, **kwargs)\u001b[0m\n\u001b[1;32m   2413\u001b[0m         return predictor.predict(data, num_iteration,\n\u001b[1;32m   2414\u001b[0m                                  \u001b[0mraw_score\u001b[0m\u001b[0;34m,\u001b[0m \u001b[0mpred_leaf\u001b[0m\u001b[0;34m,\u001b[0m \u001b[0mpred_contrib\u001b[0m\u001b[0;34m,\u001b[0m\u001b[0;34m\u001b[0m\u001b[0m\n\u001b[0;32m-> 2415\u001b[0;31m                                  data_has_header, is_reshape)\n\u001b[0m\u001b[1;32m   2416\u001b[0m \u001b[0;34m\u001b[0m\u001b[0m\n\u001b[1;32m   2417\u001b[0m     \u001b[0;32mdef\u001b[0m \u001b[0mrefit\u001b[0m\u001b[0;34m(\u001b[0m\u001b[0mself\u001b[0m\u001b[0;34m,\u001b[0m \u001b[0mdata\u001b[0m\u001b[0;34m,\u001b[0m \u001b[0mlabel\u001b[0m\u001b[0;34m,\u001b[0m \u001b[0mdecay_rate\u001b[0m\u001b[0;34m=\u001b[0m\u001b[0;36m0.9\u001b[0m\u001b[0;34m,\u001b[0m \u001b[0;34m**\u001b[0m\u001b[0mkwargs\u001b[0m\u001b[0;34m)\u001b[0m\u001b[0;34m:\u001b[0m\u001b[0;34m\u001b[0m\u001b[0m\n",
      "\u001b[0;32m/usr/local/lib/python3.5/dist-packages/lightgbm/basic.py\u001b[0m in \u001b[0;36mpredict\u001b[0;34m(self, data, num_iteration, raw_score, pred_leaf, pred_contrib, data_has_header, is_reshape)\u001b[0m\n\u001b[1;32m    533\u001b[0m             \u001b[0mpreds\u001b[0m\u001b[0;34m,\u001b[0m \u001b[0mnrow\u001b[0m \u001b[0;34m=\u001b[0m \u001b[0mself\u001b[0m\u001b[0;34m.\u001b[0m\u001b[0m__pred_for_csc\u001b[0m\u001b[0;34m(\u001b[0m\u001b[0mdata\u001b[0m\u001b[0;34m,\u001b[0m \u001b[0mnum_iteration\u001b[0m\u001b[0;34m,\u001b[0m \u001b[0mpredict_type\u001b[0m\u001b[0;34m)\u001b[0m\u001b[0;34m\u001b[0m\u001b[0m\n\u001b[1;32m    534\u001b[0m         \u001b[0;32melif\u001b[0m \u001b[0misinstance\u001b[0m\u001b[0;34m(\u001b[0m\u001b[0mdata\u001b[0m\u001b[0;34m,\u001b[0m \u001b[0mnp\u001b[0m\u001b[0;34m.\u001b[0m\u001b[0mndarray\u001b[0m\u001b[0;34m)\u001b[0m\u001b[0;34m:\u001b[0m\u001b[0;34m\u001b[0m\u001b[0m\n\u001b[0;32m--> 535\u001b[0;31m             \u001b[0mpreds\u001b[0m\u001b[0;34m,\u001b[0m \u001b[0mnrow\u001b[0m \u001b[0;34m=\u001b[0m \u001b[0mself\u001b[0m\u001b[0;34m.\u001b[0m\u001b[0m__pred_for_np2d\u001b[0m\u001b[0;34m(\u001b[0m\u001b[0mdata\u001b[0m\u001b[0;34m,\u001b[0m \u001b[0mnum_iteration\u001b[0m\u001b[0;34m,\u001b[0m \u001b[0mpredict_type\u001b[0m\u001b[0;34m)\u001b[0m\u001b[0;34m\u001b[0m\u001b[0m\n\u001b[0m\u001b[1;32m    536\u001b[0m         \u001b[0;32melif\u001b[0m \u001b[0misinstance\u001b[0m\u001b[0;34m(\u001b[0m\u001b[0mdata\u001b[0m\u001b[0;34m,\u001b[0m \u001b[0mlist\u001b[0m\u001b[0;34m)\u001b[0m\u001b[0;34m:\u001b[0m\u001b[0;34m\u001b[0m\u001b[0m\n\u001b[1;32m    537\u001b[0m             \u001b[0;32mtry\u001b[0m\u001b[0;34m:\u001b[0m\u001b[0;34m\u001b[0m\u001b[0m\n",
      "\u001b[0;32m/usr/local/lib/python3.5/dist-packages/lightgbm/basic.py\u001b[0m in \u001b[0;36m__pred_for_np2d\u001b[0;34m(self, mat, num_iteration, predict_type)\u001b[0m\n\u001b[1;32m    621\u001b[0m             \u001b[0;32mreturn\u001b[0m \u001b[0mpreds\u001b[0m\u001b[0;34m,\u001b[0m \u001b[0mnrow\u001b[0m\u001b[0;34m\u001b[0m\u001b[0m\n\u001b[1;32m    622\u001b[0m         \u001b[0;32melse\u001b[0m\u001b[0;34m:\u001b[0m\u001b[0;34m\u001b[0m\u001b[0m\n\u001b[0;32m--> 623\u001b[0;31m             \u001b[0;32mreturn\u001b[0m \u001b[0minner_predict\u001b[0m\u001b[0;34m(\u001b[0m\u001b[0mmat\u001b[0m\u001b[0;34m,\u001b[0m \u001b[0mnum_iteration\u001b[0m\u001b[0;34m,\u001b[0m \u001b[0mpredict_type\u001b[0m\u001b[0;34m)\u001b[0m\u001b[0;34m\u001b[0m\u001b[0m\n\u001b[0m\u001b[1;32m    624\u001b[0m \u001b[0;34m\u001b[0m\u001b[0m\n\u001b[1;32m    625\u001b[0m     \u001b[0;32mdef\u001b[0m \u001b[0m__pred_for_csr\u001b[0m\u001b[0;34m(\u001b[0m\u001b[0mself\u001b[0m\u001b[0;34m,\u001b[0m \u001b[0mcsr\u001b[0m\u001b[0;34m,\u001b[0m \u001b[0mnum_iteration\u001b[0m\u001b[0;34m,\u001b[0m \u001b[0mpredict_type\u001b[0m\u001b[0;34m)\u001b[0m\u001b[0;34m:\u001b[0m\u001b[0;34m\u001b[0m\u001b[0m\n",
      "\u001b[0;32m/usr/local/lib/python3.5/dist-packages/lightgbm/basic.py\u001b[0m in \u001b[0;36minner_predict\u001b[0;34m(mat, num_iteration, predict_type, preds)\u001b[0m\n\u001b[1;32m    603\u001b[0m                 \u001b[0mc_str\u001b[0m\u001b[0;34m(\u001b[0m\u001b[0mself\u001b[0m\u001b[0;34m.\u001b[0m\u001b[0mpred_parameter\u001b[0m\u001b[0;34m)\u001b[0m\u001b[0;34m,\u001b[0m\u001b[0;34m\u001b[0m\u001b[0m\n\u001b[1;32m    604\u001b[0m                 \u001b[0mctypes\u001b[0m\u001b[0;34m.\u001b[0m\u001b[0mbyref\u001b[0m\u001b[0;34m(\u001b[0m\u001b[0mout_num_preds\u001b[0m\u001b[0;34m)\u001b[0m\u001b[0;34m,\u001b[0m\u001b[0;34m\u001b[0m\u001b[0m\n\u001b[0;32m--> 605\u001b[0;31m                 preds.ctypes.data_as(ctypes.POINTER(ctypes.c_double))))\n\u001b[0m\u001b[1;32m    606\u001b[0m             \u001b[0;32mif\u001b[0m \u001b[0mn_preds\u001b[0m \u001b[0;34m!=\u001b[0m \u001b[0mout_num_preds\u001b[0m\u001b[0;34m.\u001b[0m\u001b[0mvalue\u001b[0m\u001b[0;34m:\u001b[0m\u001b[0;34m\u001b[0m\u001b[0m\n\u001b[1;32m    607\u001b[0m                 \u001b[0;32mraise\u001b[0m \u001b[0mValueError\u001b[0m\u001b[0;34m(\u001b[0m\u001b[0;34m\"Wrong length for predict results\"\u001b[0m\u001b[0;34m)\u001b[0m\u001b[0;34m\u001b[0m\u001b[0m\n",
      "\u001b[0;31mKeyboardInterrupt\u001b[0m: "
     ]
    }
   ],
   "source": [
    "%%time\n",
    "errors = []\n",
    "for tr_idx, ts_idx in k_fold_validator(k=3, data=data.index.values, shuffle=True, random_state=42):\n",
    "    \n",
    "    x = data[x_cols].values\n",
    "    y = data[y_col].values\n",
    "    x_tr, x_ts, y_tr, y_ts = x[tr_idx], x[ts_idx], y[tr_idx], y[ts_idx]\n",
    "    \n",
    "    \n",
    "    lgb_train = lgb.Dataset(x_tr, y_tr.ravel())\n",
    "    lgb_eval = lgb.Dataset(x_ts, y_ts.ravel())\n",
    "    lgb_reg = lgb.train(lgb_reg_params, lgb_train, valid_sets=(lgb_train, lgb_eval),num_boost_round=1000,early_stopping_rounds=100,verbose_eval=10)\n",
    "    rmsle = sqrt(mean_squared_error(y_ts, lgb_reg.predict(x_ts, num_iteration=lgb_reg.best_iteration)))\n",
    "    print('Fold rmsle:', rmsle)\n",
    "    errors.append(rmsle)\n",
    "\n",
    "print('Overall rmsle:', sum(errors) / len(errors))"
   ]
  },
  {
   "cell_type": "code",
   "execution_count": null,
   "metadata": {},
   "outputs": [],
   "source": [
    "joblib.dump(lgb_reg, 'objects/lgb_reg_met0_rmsle_{}.pkl'.format(sum(errors) / len(errors)))"
   ]
  },
  {
   "cell_type": "markdown",
   "metadata": {},
   "source": [
    "## xgBoost"
   ]
  },
  {
   "cell_type": "code",
   "execution_count": 9,
   "metadata": {},
   "outputs": [],
   "source": [
    "import xgboost as xgb"
   ]
  },
  {
   "cell_type": "code",
   "execution_count": null,
   "metadata": {},
   "outputs": [
    {
     "name": "stdout",
     "output_type": "stream",
     "text": [
      "[0]\teval-rmse:3.61603\ttrain-rmse:3.61715\n",
      "Multiple eval metrics have been passed: 'train-rmse' will be used for early stopping.\n",
      "\n",
      "Will train until train-rmse hasn't improved in 10 rounds.\n",
      "[1]\teval-rmse:3.26556\ttrain-rmse:3.26665\n",
      "[2]\teval-rmse:2.95110\ttrain-rmse:2.95215\n",
      "[3]\teval-rmse:2.66877\ttrain-rmse:2.66978\n",
      "[4]\teval-rmse:2.41606\ttrain-rmse:2.41704\n",
      "[5]\teval-rmse:2.18890\ttrain-rmse:2.18982\n",
      "[6]\teval-rmse:1.98516\ttrain-rmse:1.98602\n",
      "[7]\teval-rmse:1.80379\ttrain-rmse:1.80460\n"
     ]
    }
   ],
   "source": [
    "%%time\n",
    "errors = []\n",
    "for tr_idx, ts_idx in k_fold_validator(k=3, data=data.index.values, shuffle=True, random_state=SEED):\n",
    "    \n",
    "    x = data[x_cols].values\n",
    "    y = data[y_col].values\n",
    "    x_tr, x_ts, y_tr, y_ts = x[tr_idx], x[ts_idx], y[tr_idx], y[ts_idx]\n",
    "    \n",
    "    dtrain = xgb.DMatrix(x_tr, label=y_tr)\n",
    "    dtest = xgb.DMatrix(x_ts, label=y_ts)\n",
    "    num_round = 10\n",
    "    param = {}\n",
    "    param = {'max_depth': 10, 'eta': 0.1, 'objective': 'reg:squarederror', 'eval_metric': 'rmse'}\n",
    "    param['gpu_id'] = 0\n",
    "    param['tree_method'] = 'gpu_hist'\n",
    "    evallist = [(dtest, 'eval')]\n",
    "    bst = xgb.train(param, dtrain, num_round, evallist, early_stopping_rounds=10)\n",
    "    \n",
    "    rmsle = sqrt(mean_squared_error(y_ts, bst.predict(dtest, ntree_limit=bst.best_ntree_limit)))\n",
    "    print('Fold rmsle:', rmsle)\n",
    "    errors.append(rmsle)\n",
    "\n",
    "print('Overall rmsle:', sum(errors) / len(errors))"
   ]
  },
  {
   "cell_type": "code",
   "execution_count": null,
   "metadata": {},
   "outputs": [],
   "source": []
  }
 ],
 "metadata": {
  "kernelspec": {
   "display_name": "Python 3",
   "language": "python",
   "name": "python3"
  },
  "language_info": {
   "codemirror_mode": {
    "name": "ipython",
    "version": 3
   },
   "file_extension": ".py",
   "mimetype": "text/x-python",
   "name": "python",
   "nbconvert_exporter": "python",
   "pygments_lexer": "ipython3",
   "version": "3.5.3"
  }
 },
 "nbformat": 4,
 "nbformat_minor": 2
}
