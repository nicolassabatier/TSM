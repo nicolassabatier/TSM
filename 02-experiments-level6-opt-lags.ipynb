{
 "cells": [
  {
   "cell_type": "code",
   "execution_count": 2,
   "metadata": {},
   "outputs": [],
   "source": [
    "%load_ext autoreload\n",
    "%autoreload 2"
   ]
  },
  {
   "cell_type": "code",
   "execution_count": 3,
   "metadata": {},
   "outputs": [],
   "source": [
    "import pandas as pd\n",
    "from tsm.data_selector import data_subset_by_dict\n",
    "import matplotlib.pyplot as plt\n",
    "import numpy as np"
   ]
  },
  {
   "cell_type": "code",
   "execution_count": 4,
   "metadata": {},
   "outputs": [],
   "source": [
    "train_data = pd.read_pickle('kaggle/input/ashrae-energy-prediction/train.pkl')"
   ]
  },
  {
   "cell_type": "markdown",
   "metadata": {},
   "source": [
    "## Level 6A)\n",
    "* 1 use: 4\\\n",
    "* 1 meter reading - meter 0\n",
    "* Weather features"
   ]
  },
  {
   "cell_type": "code",
   "execution_count": 34,
   "metadata": {},
   "outputs": [],
   "source": [
    "level_6a = {'primary_use': 4, 'meter': 0}\n",
    "level_6a_cols = ['building_id', 'meter_reading', 'air_temperature', 'cloud_coverage', 'dew_temperature', 'precip_depth_1_hr', 'sea_level_pressure', 'wind_direction','wind_speed']"
   ]
  },
  {
   "cell_type": "code",
   "execution_count": 35,
   "metadata": {},
   "outputs": [],
   "source": [
    "data_6a = data_subset_by_dict(train_data, level_6a, level_6a_cols)"
   ]
  },
  {
   "cell_type": "code",
   "execution_count": 36,
   "metadata": {},
   "outputs": [
    {
     "data": {
      "text/plain": [
       "145"
      ]
     },
     "execution_count": 36,
     "metadata": {},
     "output_type": "execute_result"
    }
   ],
   "source": [
    "# Many buildings?\n",
    "len(set(data_6a.building_id))"
   ]
  },
  {
   "cell_type": "code",
   "execution_count": 37,
   "metadata": {},
   "outputs": [
    {
     "data": {
      "text/plain": [
       "20216063     13.279575\n",
       "20216064     11.124256\n",
       "20216065     14.110780\n",
       "20216090     92.243680\n",
       "20216098    129.649967\n",
       "Name: meter_reading, dtype: float64"
      ]
     },
     "execution_count": 37,
     "metadata": {},
     "output_type": "execute_result"
    }
   ],
   "source": [
    "data_6a.meter_reading.ewm(com=0.8).mean().tail()"
   ]
  },
  {
   "cell_type": "code",
   "execution_count": 18,
   "metadata": {},
   "outputs": [
    {
     "name": "stderr",
     "output_type": "stream",
     "text": [
      "/Library/Frameworks/Python.framework/Versions/3.6/lib/python3.6/site-packages/lightgbm/__init__.py:48: UserWarning: Starting from version 2.2.1, the library file in distribution wheels for macOS is built by the Apple Clang (Xcode_8.3.3) compiler.\n",
      "This means that in case of installing LightGBM from PyPI via the ``pip install lightgbm`` command, you don't need to install the gcc compiler anymore.\n",
      "Instead of that, you need to install the OpenMP library, which is required for running LightGBM on the system with the Apple Clang compiler.\n",
      "You can install the OpenMP library by the following command: ``brew install libomp``.\n",
      "  \"You can install the OpenMP library by the following command: ``brew install libomp``.\", UserWarning)\n"
     ]
    }
   ],
   "source": [
    "import lightgbm as lgb"
   ]
  },
  {
   "cell_type": "code",
   "execution_count": 19,
   "metadata": {},
   "outputs": [],
   "source": [
    "from tsm.eval_metrics import root_mean_squared_log_error"
   ]
  },
  {
   "cell_type": "code",
   "execution_count": 20,
   "metadata": {},
   "outputs": [],
   "source": [
    "SEED = 7"
   ]
  },
  {
   "cell_type": "code",
   "execution_count": 21,
   "metadata": {},
   "outputs": [],
   "source": [
    "lgb_reg_params = {'objective':'regression',  'boosting_type':'gbdt', 'metric':'rmse',\n",
    "                  'n_jobs':-1, 'learning_rate':0.07, 'num_leaves': 2**8, 'max_depth':-1,\n",
    "                  'tree_learner':'serial', 'colsample_bytree': 0.7, 'subsample_freq':1,\n",
    "                  'subsample':0.5, 'max_bin':255, 'verbose':1, 'seed': SEED, 'early_stopping_rounds': 40} "
   ]
  },
  {
   "cell_type": "code",
   "execution_count": 22,
   "metadata": {},
   "outputs": [],
   "source": [
    "# Cross Validation\n",
    "from sklearn.model_selection import KFold"
   ]
  },
  {
   "cell_type": "code",
   "execution_count": 23,
   "metadata": {},
   "outputs": [],
   "source": [
    "K = 5\n",
    "kf = KFold(n_splits=K)"
   ]
  },
  {
   "cell_type": "code",
   "execution_count": 50,
   "metadata": {},
   "outputs": [],
   "source": [
    "feat_cols = [x for x in level_6a_cols if x != 'meter_reading']"
   ]
  },
  {
   "cell_type": "code",
   "execution_count": 51,
   "metadata": {},
   "outputs": [
    {
     "name": "stdout",
     "output_type": "stream",
     "text": [
      "Training until validation scores don't improve for 40 rounds\n",
      "[20]\ttraining's rmse: 82.8401\tvalid_1's rmse: 89.9542\n",
      "[40]\ttraining's rmse: 60.1001\tvalid_1's rmse: 82.9771\n",
      "[60]\ttraining's rmse: 54.329\tvalid_1's rmse: 84.0334\n",
      "Early stopping, best iteration is:\n",
      "[35]\ttraining's rmse: 62.6793\tvalid_1's rmse: 82.6418\n",
      "Iteration done, nrmlse: 2.161364548450659\n",
      "Training until validation scores don't improve for 40 rounds\n",
      "[20]\ttraining's rmse: 77.6344\tvalid_1's rmse: 91.7351\n",
      "[40]\ttraining's rmse: 53.4194\tvalid_1's rmse: 85.1312\n",
      "[60]\ttraining's rmse: 47.5567\tvalid_1's rmse: 86.3733\n",
      "Early stopping, best iteration is:\n",
      "[39]\ttraining's rmse: 53.5883\tvalid_1's rmse: 85.0971\n",
      "Iteration done, nrmlse: 2.0400296826390014\n",
      "Training until validation scores don't improve for 40 rounds\n",
      "[20]\ttraining's rmse: 81.5901\tvalid_1's rmse: 102.236\n",
      "[40]\ttraining's rmse: 60.1182\tvalid_1's rmse: 98.8657\n",
      "[60]\ttraining's rmse: 53.9892\tvalid_1's rmse: 100.588\n",
      "Early stopping, best iteration is:\n",
      "[33]\ttraining's rmse: 64.3432\tvalid_1's rmse: 98.5875\n",
      "Iteration done, nrmlse: 0.8854220023423341\n",
      "Training until validation scores don't improve for 40 rounds\n",
      "[20]\ttraining's rmse: 82.1227\tvalid_1's rmse: 101.952\n",
      "[40]\ttraining's rmse: 62.0157\tvalid_1's rmse: 98.2625\n",
      "[60]\ttraining's rmse: 56.4641\tvalid_1's rmse: 100.032\n",
      "Early stopping, best iteration is:\n",
      "[33]\ttraining's rmse: 65.9961\tvalid_1's rmse: 98.1065\n",
      "Iteration done, nrmlse: 0.7829896881843071\n",
      "Training until validation scores don't improve for 40 rounds\n",
      "[20]\ttraining's rmse: 77.2185\tvalid_1's rmse: 103.606\n",
      "[40]\ttraining's rmse: 55.1993\tvalid_1's rmse: 87.0343\n",
      "[60]\ttraining's rmse: 50.1963\tvalid_1's rmse: 83.4198\n",
      "[80]\ttraining's rmse: 47.8004\tvalid_1's rmse: 82.0112\n",
      "[100]\ttraining's rmse: 46.3778\tvalid_1's rmse: 81.5494\n",
      "[120]\ttraining's rmse: 45.3062\tvalid_1's rmse: 81.3664\n",
      "[140]\ttraining's rmse: 44.5651\tvalid_1's rmse: 81.1882\n",
      "[160]\ttraining's rmse: 43.8666\tvalid_1's rmse: 80.9909\n",
      "[180]\ttraining's rmse: 43.186\tvalid_1's rmse: 80.9978\n",
      "[200]\ttraining's rmse: 42.5362\tvalid_1's rmse: 81.0853\n",
      "[220]\ttraining's rmse: 42.0611\tvalid_1's rmse: 81.0073\n",
      "Early stopping, best iteration is:\n",
      "[184]\ttraining's rmse: 43.0376\tvalid_1's rmse: 80.9504\n",
      "Iteration done, nrmlse: 1.2626055977858648\n",
      "FinalScore: 1.4264823038804333\n"
     ]
    }
   ],
   "source": [
    "nrmlses = []\n",
    "for tr_ix, ts_ix in kf.split(data_6a):\n",
    "    data_6a1_tr_x = data_6a.iloc[tr_ix[:int(len(tr_ix)*.9)],:][feat_cols]\n",
    "    data_6a1_tr_y = data_6a.iloc[tr_ix[:int(len(tr_ix)*.9)],:].meter_reading\n",
    "    data_6a1_val_x = data_6a.iloc[tr_ix[int(len(tr_ix)*.9):],:][feat_cols]\n",
    "    data_6a1_val_y = data_6a.iloc[tr_ix[int(len(tr_ix)*.9):],:].meter_reading\n",
    "    lgb_train = lgb.Dataset(data_6a1_tr_x, data_6a1_tr_y)\n",
    "    lgb_eval = lgb.Dataset(data_6a1_val_x, data_6a1_val_y)\n",
    "    gbm_regress = lgb.train(lgb_reg_params, lgb_train, num_boost_round=2000, valid_sets=(lgb_train, lgb_eval),\n",
    "                            early_stopping_rounds=20, verbose_eval = 20)\n",
    "    data_6a1_ts_x = data_6a.iloc[ts_ix,:][feat_cols]\n",
    "    data_6a1_ts_y = data_6a.iloc[ts_ix,:].meter_reading\n",
    "    lgbm_hat = (gbm_regress.predict(data_6a1_ts_x, num_iteration=gbm_regress.best_iteration))\n",
    "    nrmlse = root_mean_squared_log_error(lgbm_hat, data_6a1_ts_y)\n",
    "    print('Iteration done, nrmlse:', nrmlse)\n",
    "    nrmlses.append(nrmlse)\n",
    "print('FinalScore:', sum(nrmlses) / K)"
   ]
  },
  {
   "cell_type": "code",
   "execution_count": 42,
   "metadata": {},
   "outputs": [],
   "source": [
    "from tsm.data_selector import get_series_past_k_lags"
   ]
  },
  {
   "cell_type": "code",
   "execution_count": 65,
   "metadata": {},
   "outputs": [
    {
     "name": "stdout",
     "output_type": "stream",
     "text": [
      "Training until validation scores don't improve for 40 rounds\n",
      "[20]\ttraining's rmse: 72.4483\tvalid_1's rmse: 98.4111\n",
      "[40]\ttraining's rmse: 51.2874\tvalid_1's rmse: 97.2414\n",
      "[60]\ttraining's rmse: 45.8293\tvalid_1's rmse: 97.1034\n",
      "Early stopping, best iteration is:\n",
      "[30]\ttraining's rmse: 58.4144\tvalid_1's rmse: 96.5205\n",
      "Iteration done, nrmlse: 2.110309949385576\n",
      "Training until validation scores don't improve for 40 rounds\n",
      "[20]\ttraining's rmse: 67.1509\tvalid_1's rmse: 100.904\n",
      "[40]\ttraining's rmse: 45.5705\tvalid_1's rmse: 100.702\n",
      "[60]\ttraining's rmse: 40.5828\tvalid_1's rmse: 103.486\n",
      "Early stopping, best iteration is:\n",
      "[28]\ttraining's rmse: 53.9049\tvalid_1's rmse: 99.881\n",
      "Iteration done, nrmlse: 2.116670609552658\n",
      "Training until validation scores don't improve for 40 rounds\n",
      "[20]\ttraining's rmse: 72.3268\tvalid_1's rmse: 110.005\n",
      "[40]\ttraining's rmse: 52.2432\tvalid_1's rmse: 110.743\n",
      "[60]\ttraining's rmse: 46.3092\tvalid_1's rmse: 112.64\n",
      "Early stopping, best iteration is:\n",
      "[24]\ttraining's rmse: 64.9345\tvalid_1's rmse: 109.402\n",
      "Iteration done, nrmlse: 0.9444175790697106\n",
      "Training until validation scores don't improve for 40 rounds\n",
      "[20]\ttraining's rmse: 72.7604\tvalid_1's rmse: 111.652\n",
      "[40]\ttraining's rmse: 53.881\tvalid_1's rmse: 112.528\n",
      "[60]\ttraining's rmse: 48.0686\tvalid_1's rmse: 113.925\n",
      "Early stopping, best iteration is:\n",
      "[24]\ttraining's rmse: 65.6392\tvalid_1's rmse: 111.133\n",
      "Iteration done, nrmlse: 0.822580825711391\n",
      "Training until validation scores don't improve for 40 rounds\n",
      "[20]\ttraining's rmse: 67.1458\tvalid_1's rmse: 104.748\n",
      "[40]\ttraining's rmse: 48.1877\tvalid_1's rmse: 94.0919\n",
      "[60]\ttraining's rmse: 43.747\tvalid_1's rmse: 92.4551\n",
      "[80]\ttraining's rmse: 41.2271\tvalid_1's rmse: 91.746\n",
      "[100]\ttraining's rmse: 39.6205\tvalid_1's rmse: 91.2116\n",
      "[120]\ttraining's rmse: 38.3653\tvalid_1's rmse: 91.0863\n",
      "[140]\ttraining's rmse: 37.4139\tvalid_1's rmse: 91.0152\n",
      "[160]\ttraining's rmse: 36.3696\tvalid_1's rmse: 90.8786\n",
      "[180]\ttraining's rmse: 35.6055\tvalid_1's rmse: 90.8816\n",
      "[200]\ttraining's rmse: 34.6819\tvalid_1's rmse: 90.9682\n",
      "Early stopping, best iteration is:\n",
      "[177]\ttraining's rmse: 35.6779\tvalid_1's rmse: 90.8639\n",
      "Iteration done, nrmlse: 1.639144879570358\n",
      "FinalScore: 1.5266247686579386\n"
     ]
    }
   ],
   "source": [
    "nrmlses = []\n",
    "for tr_ix, ts_ix in kf.split(data_6a):\n",
    "    k_air = get_series_past_k_lags(data_6a['air_temperature'], k=[3 * (2**x) for x in range(6)]).fillna(99).reset_index(drop=True)\n",
    "    k_dew = get_series_past_k_lags(data_6a['dew_temperature'], k=[3 * (2**x) for x in range(6)]).fillna(99).reset_index(drop=True)\n",
    "    data_6a2 = pd.concat([data_6a.reset_index(drop=True), k_air, k_dew], axis=1, sort=False)\n",
    "    data_6a2_tr_x = data_6a2.iloc[tr_ix[:int(len(tr_ix)*.9)],:][[x for x in list(data_6a2) if x != 'meter_reading']]\n",
    "    data_6a2_tr_y = data_6a2.iloc[tr_ix[:int(len(tr_ix)*.9)],:].meter_reading\n",
    "    data_6a2_val_x = data_6a2.iloc[tr_ix[int(len(tr_ix)*.9):],:][[x for x in list(data_6a2) if x != 'meter_reading']]\n",
    "    data_6a2_val_y = data_6a2.iloc[tr_ix[int(len(tr_ix)*.9):],:].meter_reading\n",
    "    lgb_train = lgb.Dataset(data_6a2_tr_x, data_6a2_tr_y)\n",
    "    lgb_eval = lgb.Dataset(data_6a2_val_x, data_6a2_val_y)\n",
    "    gbm_regress = lgb.train(lgb_reg_params, lgb_train, num_boost_round=2000, valid_sets=(lgb_train, lgb_eval),\n",
    "                            early_stopping_rounds=20, verbose_eval = 20)\n",
    "    data_6a2_ts_x = data_6a2.iloc[ts_ix,:][[x for x in list(data_6a2) if x != 'meter_reading']]\n",
    "    data_6a2_ts_y = data_6a2.iloc[ts_ix,:].meter_reading\n",
    "    lgbm_hat = (gbm_regress.predict(data_6a2_ts_x, num_iteration=gbm_regress.best_iteration))\n",
    "    nrmlse = root_mean_squared_log_error(lgbm_hat, data_6a2_ts_y)\n",
    "    print('Iteration done, nrmlse:', nrmlse)\n",
    "    nrmlses.append(nrmlse)\n",
    "print('FinalScore:', sum(nrmlses) / K)"
   ]
  },
  {
   "cell_type": "code",
   "execution_count": 66,
   "metadata": {},
   "outputs": [
    {
     "name": "stdout",
     "output_type": "stream",
     "text": [
      "Training until validation scores don't improve for 40 rounds\n",
      "[20]\ttraining's rmse: 69.9383\tvalid_1's rmse: 96.525\n",
      "[40]\ttraining's rmse: 53.1254\tvalid_1's rmse: 96.381\n",
      "[60]\ttraining's rmse: 47.3866\tvalid_1's rmse: 97.884\n",
      "Early stopping, best iteration is:\n",
      "[26]\ttraining's rmse: 63.5542\tvalid_1's rmse: 95.4657\n",
      "Iteration done, nrmlse: 2.1968590566300246\n",
      "Training until validation scores don't improve for 40 rounds\n",
      "[20]\ttraining's rmse: 66.0385\tvalid_1's rmse: 103.795\n",
      "[40]\ttraining's rmse: 48.8384\tvalid_1's rmse: 104.64\n",
      "[60]\ttraining's rmse: 43.403\tvalid_1's rmse: 105.468\n",
      "Early stopping, best iteration is:\n",
      "[24]\ttraining's rmse: 61.3371\tvalid_1's rmse: 103.63\n",
      "Iteration done, nrmlse: 2.092771433241134\n",
      "Training until validation scores don't improve for 40 rounds\n",
      "[20]\ttraining's rmse: 70.2691\tvalid_1's rmse: 111.016\n",
      "[40]\ttraining's rmse: 54.0296\tvalid_1's rmse: 112.089\n",
      "[60]\ttraining's rmse: 48.2066\tvalid_1's rmse: 113.027\n",
      "Early stopping, best iteration is:\n",
      "[22]\ttraining's rmse: 68.1507\tvalid_1's rmse: 110.584\n",
      "Iteration done, nrmlse: 0.9683043050273077\n",
      "Training until validation scores don't improve for 40 rounds\n",
      "[20]\ttraining's rmse: 71.0988\tvalid_1's rmse: 111.767\n",
      "[40]\ttraining's rmse: 55.6555\tvalid_1's rmse: 112.989\n",
      "[60]\ttraining's rmse: 49.7226\tvalid_1's rmse: 114.282\n",
      "Early stopping, best iteration is:\n",
      "[22]\ttraining's rmse: 69.028\tvalid_1's rmse: 111.526\n",
      "Iteration done, nrmlse: 0.8557513626677051\n",
      "Training until validation scores don't improve for 40 rounds\n",
      "[20]\ttraining's rmse: 64.0412\tvalid_1's rmse: 98.7433\n",
      "[40]\ttraining's rmse: 48.831\tvalid_1's rmse: 89.4368\n",
      "[60]\ttraining's rmse: 44.189\tvalid_1's rmse: 87.3815\n",
      "[80]\ttraining's rmse: 41.7721\tvalid_1's rmse: 86.2471\n",
      "[100]\ttraining's rmse: 40.2709\tvalid_1's rmse: 86.0768\n",
      "[120]\ttraining's rmse: 39.1323\tvalid_1's rmse: 85.9866\n",
      "[140]\ttraining's rmse: 38.2217\tvalid_1's rmse: 85.8702\n",
      "[160]\ttraining's rmse: 37.3226\tvalid_1's rmse: 85.8587\n",
      "[180]\ttraining's rmse: 36.7607\tvalid_1's rmse: 85.8603\n",
      "Early stopping, best iteration is:\n",
      "[156]\ttraining's rmse: 37.5343\tvalid_1's rmse: 85.8062\n",
      "Iteration done, nrmlse: 1.4900974693657876\n",
      "FinalScore: 1.5207567253863918\n"
     ]
    }
   ],
   "source": [
    "nrmlses = []\n",
    "for tr_ix, ts_ix in kf.split(data_6a):\n",
    "    k_air_e_001 = data_6a.air_temperature.ewm(alpha=0.01).mean().reset_index(drop=True)\n",
    "    k_air_e_001.name = 'k_air_e_001'\n",
    "    k_dew_e_001 = data_6a.dew_temperature.ewm(alpha=0.01).mean().reset_index(drop=True)\n",
    "    k_dew_e_001.name = 'k_dew_e_001'\n",
    "    k_air_e_01 = data_6a.air_temperature.ewm(alpha=0.1).mean().reset_index(drop=True)\n",
    "    k_air_e_01.name = 'k_air_e_01'\n",
    "    k_dew_e_01 = data_6a.dew_temperature.ewm(alpha=0.1).mean().reset_index(drop=True)\n",
    "    k_dew_e_01.name = 'k_dew_e_01'\n",
    "    k_air_e_025 = data_6a.air_temperature.ewm(alpha=0.25).mean().reset_index(drop=True)\n",
    "    k_air_e_025.name = 'k_air_e_025'\n",
    "    k_dew_e_025 = data_6a.dew_temperature.ewm(alpha=0.25).mean().reset_index(drop=True)\n",
    "    k_dew_e_025.name = 'k_dew_e_025'\n",
    "    data_6a3 = pd.concat([data_6a.reset_index(drop=True), k_air_e_001,k_air_e_01, k_air_e_025, k_dew_e_001, k_dew_e_01, k_dew_e_025], axis=1, sort=False)\n",
    "    data_6a3_tr_x = data_6a3.iloc[tr_ix[:int(len(tr_ix)*.9)],:][[x for x in list(data_6a3) if x != 'meter_reading']]\n",
    "    data_6a3_tr_y = data_6a3.iloc[tr_ix[:int(len(tr_ix)*.9)],:].meter_reading\n",
    "    data_6a3_val_x = data_6a3.iloc[tr_ix[int(len(tr_ix)*.9):],:][[x for x in list(data_6a3) if x != 'meter_reading']]\n",
    "    data_6a3_val_y = data_6a3.iloc[tr_ix[int(len(tr_ix)*.9):],:].meter_reading\n",
    "    lgb_train = lgb.Dataset(data_6a3_tr_x, data_6a3_tr_y)\n",
    "    lgb_eval = lgb.Dataset(data_6a3_val_x, data_6a3_val_y)\n",
    "    gbm_regress = lgb.train(lgb_reg_params, lgb_train, num_boost_round=2000, valid_sets=(lgb_train, lgb_eval),\n",
    "                            early_stopping_rounds=20, verbose_eval = 20)\n",
    "    data_6a3_ts_x = data_6a3.iloc[ts_ix,:][[x for x in list(data_6a3) if x != 'meter_reading']]\n",
    "    data_6a3_ts_y = data_6a3.iloc[ts_ix,:].meter_reading\n",
    "    lgbm_hat = (gbm_regress.predict(data_6a3_ts_x, num_iteration=gbm_regress.best_iteration))\n",
    "    nrmlse = root_mean_squared_log_error(lgbm_hat, data_6a3_ts_y)\n",
    "    print('Iteration done, nrmlse:', nrmlse)\n",
    "    nrmlses.append(nrmlse)\n",
    "print('FinalScore:', sum(nrmlses) / K)"
   ]
  },
  {
   "cell_type": "code",
   "execution_count": null,
   "metadata": {},
   "outputs": [],
   "source": []
  },
  {
   "cell_type": "markdown",
   "metadata": {},
   "source": [
    "## Level 6B)\n",
    "* 1 use: 0\n",
    "* 1 meter reading - meter 1\n",
    "* Weather features"
   ]
  },
  {
   "cell_type": "code",
   "execution_count": 67,
   "metadata": {},
   "outputs": [],
   "source": [
    "level_6a = {'primary_use': 0, 'meter': 1}\n",
    "level_6a_cols = ['building_id', 'site_id', 'meter_reading', 'air_temperature', 'cloud_coverage', 'dew_temperature', 'precip_depth_1_hr', 'sea_level_pressure', 'wind_direction','wind_speed']"
   ]
  },
  {
   "cell_type": "code",
   "execution_count": 68,
   "metadata": {},
   "outputs": [],
   "source": [
    "data_6a = data_subset_by_dict(train_data, level_6a, level_6a_cols)"
   ]
  },
  {
   "cell_type": "code",
   "execution_count": 69,
   "metadata": {},
   "outputs": [
    {
     "data": {
      "text/plain": [
       "216"
      ]
     },
     "execution_count": 69,
     "metadata": {},
     "output_type": "execute_result"
    }
   ],
   "source": [
    "# Many buildings?\n",
    "len(set(data_6a.building_id))"
   ]
  },
  {
   "cell_type": "code",
   "execution_count": 70,
   "metadata": {},
   "outputs": [],
   "source": [
    "feat_cols = [x for x in level_6a_cols if x != 'meter_reading']"
   ]
  },
  {
   "cell_type": "code",
   "execution_count": 71,
   "metadata": {},
   "outputs": [
    {
     "name": "stdout",
     "output_type": "stream",
     "text": [
      "Training until validation scores don't improve for 40 rounds\n",
      "[20]\ttraining's rmse: 3134.98\tvalid_1's rmse: 4950.83\n",
      "[40]\ttraining's rmse: 2718.94\tvalid_1's rmse: 4958.92\n",
      "[60]\ttraining's rmse: 2568.75\tvalid_1's rmse: 4981.97\n",
      "Early stopping, best iteration is:\n",
      "[21]\ttraining's rmse: 3088.38\tvalid_1's rmse: 4950.28\n",
      "Iteration done, nrmlse: 3.2945231936682275\n",
      "Training until validation scores don't improve for 40 rounds\n",
      "[20]\ttraining's rmse: 3063.1\tvalid_1's rmse: 4973.14\n",
      "[40]\ttraining's rmse: 2675.39\tvalid_1's rmse: 4978\n",
      "Early stopping, best iteration is:\n",
      "[19]\ttraining's rmse: 3119.61\tvalid_1's rmse: 4972.44\n",
      "Iteration done, nrmlse: 2.8737188324442475\n",
      "Training until validation scores don't improve for 40 rounds\n",
      "[20]\ttraining's rmse: 3067.99\tvalid_1's rmse: 4975.5\n",
      "[40]\ttraining's rmse: 2656\tvalid_1's rmse: 4985.36\n",
      "Early stopping, best iteration is:\n",
      "[19]\ttraining's rmse: 3109.98\tvalid_1's rmse: 4974.4\n",
      "Iteration done, nrmlse: 2.18080974095189\n",
      "Training until validation scores don't improve for 40 rounds\n",
      "[20]\ttraining's rmse: 1217.17\tvalid_1's rmse: 4980.12\n",
      "[40]\ttraining's rmse: 1043.76\tvalid_1's rmse: 4982.55\n",
      "[60]\ttraining's rmse: 1000.33\tvalid_1's rmse: 4982.99\n",
      "Early stopping, best iteration is:\n",
      "[24]\ttraining's rmse: 1136.11\tvalid_1's rmse: 4980\n",
      "Iteration done, nrmlse: 2.232011289289117\n",
      "Training until validation scores don't improve for 40 rounds\n",
      "[20]\ttraining's rmse: 923.906\tvalid_1's rmse: 10182.2\n",
      "[40]\ttraining's rmse: 677.078\tvalid_1's rmse: 10165.2\n",
      "[60]\ttraining's rmse: 616.216\tvalid_1's rmse: 10163.4\n",
      "[80]\ttraining's rmse: 586.309\tvalid_1's rmse: 10162.4\n",
      "[100]\ttraining's rmse: 571.428\tvalid_1's rmse: 10162.5\n",
      "[120]\ttraining's rmse: 559.442\tvalid_1's rmse: 10162.2\n",
      "[140]\ttraining's rmse: 549.234\tvalid_1's rmse: 10162.1\n",
      "[160]\ttraining's rmse: 540.79\tvalid_1's rmse: 10161.4\n",
      "[180]\ttraining's rmse: 533.665\tvalid_1's rmse: 10161.1\n",
      "[200]\ttraining's rmse: 527.546\tvalid_1's rmse: 10160.8\n",
      "[220]\ttraining's rmse: 521.634\tvalid_1's rmse: 10160.7\n",
      "[240]\ttraining's rmse: 516.553\tvalid_1's rmse: 10160.5\n",
      "[260]\ttraining's rmse: 511.751\tvalid_1's rmse: 10160.6\n",
      "Early stopping, best iteration is:\n",
      "[239]\ttraining's rmse: 516.699\tvalid_1's rmse: 10160.4\n",
      "Iteration done, nrmlse: 1.952990370043605\n",
      "FinalScore: 2.5068106852794174\n"
     ]
    }
   ],
   "source": [
    "nrmlses = []\n",
    "for tr_ix, ts_ix in kf.split(data_6a):\n",
    "    data_6a1_tr_x = data_6a.iloc[tr_ix[:int(len(tr_ix)*.9)],:][feat_cols]\n",
    "    data_6a1_tr_y = data_6a.iloc[tr_ix[:int(len(tr_ix)*.9)],:].meter_reading\n",
    "    data_6a1_val_x = data_6a.iloc[tr_ix[int(len(tr_ix)*.9):],:][feat_cols]\n",
    "    data_6a1_val_y = data_6a.iloc[tr_ix[int(len(tr_ix)*.9):],:].meter_reading\n",
    "    lgb_train = lgb.Dataset(data_6a1_tr_x, data_6a1_tr_y)\n",
    "    lgb_eval = lgb.Dataset(data_6a1_val_x, data_6a1_val_y)\n",
    "    gbm_regress = lgb.train(lgb_reg_params, lgb_train, num_boost_round=2000, valid_sets=(lgb_train, lgb_eval),\n",
    "                            early_stopping_rounds=20, verbose_eval = 20)\n",
    "    data_6a1_ts_x = data_6a.iloc[ts_ix,:][feat_cols]\n",
    "    data_6a1_ts_y = data_6a.iloc[ts_ix,:].meter_reading\n",
    "    lgbm_hat = (gbm_regress.predict(data_6a1_ts_x, num_iteration=gbm_regress.best_iteration))\n",
    "    nrmlse = root_mean_squared_log_error(lgbm_hat, data_6a1_ts_y)\n",
    "    print('Iteration done, nrmlse:', nrmlse)\n",
    "    nrmlses.append(nrmlse)\n",
    "print('FinalScore:', sum(nrmlses) / K)"
   ]
  },
  {
   "cell_type": "code",
   "execution_count": 75,
   "metadata": {},
   "outputs": [
    {
     "name": "stdout",
     "output_type": "stream",
     "text": [
      "Training until validation scores don't improve for 40 rounds\n",
      "[20]\ttraining's rmse: 2677.69\tvalid_1's rmse: 4956.71\n",
      "[40]\ttraining's rmse: 2130.4\tvalid_1's rmse: 4925.67\n",
      "[60]\ttraining's rmse: 1832.96\tvalid_1's rmse: 4930.88\n",
      "Early stopping, best iteration is:\n",
      "[35]\ttraining's rmse: 2211.2\tvalid_1's rmse: 4920.56\n",
      "Iteration done, nrmlse: 2.891556871974376\n",
      "Training until validation scores don't improve for 40 rounds\n",
      "[20]\ttraining's rmse: 2621.63\tvalid_1's rmse: 4978.63\n",
      "[40]\ttraining's rmse: 2065.37\tvalid_1's rmse: 4984.67\n",
      "[60]\ttraining's rmse: 1758.02\tvalid_1's rmse: 4989.88\n",
      "Early stopping, best iteration is:\n",
      "[27]\ttraining's rmse: 2357.99\tvalid_1's rmse: 4978.46\n",
      "Iteration done, nrmlse: 2.689779236982014\n",
      "Training until validation scores don't improve for 40 rounds\n",
      "[20]\ttraining's rmse: 2505.84\tvalid_1's rmse: 4974.92\n",
      "[40]\ttraining's rmse: 1956.49\tvalid_1's rmse: 4973.17\n",
      "[60]\ttraining's rmse: 1646.98\tvalid_1's rmse: 4969.87\n",
      "[80]\ttraining's rmse: 1507.52\tvalid_1's rmse: 4969.2\n",
      "[100]\ttraining's rmse: 1392.24\tvalid_1's rmse: 4969.15\n",
      "[120]\ttraining's rmse: 1290.97\tvalid_1's rmse: 4968.31\n",
      "[140]\ttraining's rmse: 1229.68\tvalid_1's rmse: 4966.86\n",
      "[160]\ttraining's rmse: 1174.76\tvalid_1's rmse: 4967.78\n",
      "Early stopping, best iteration is:\n",
      "[129]\ttraining's rmse: 1258.81\tvalid_1's rmse: 4966.3\n",
      "Iteration done, nrmlse: 1.896907047933979\n",
      "Training until validation scores don't improve for 40 rounds\n",
      "[20]\ttraining's rmse: 1149.71\tvalid_1's rmse: 4978.85\n",
      "[40]\ttraining's rmse: 950.213\tvalid_1's rmse: 4981.53\n",
      "Early stopping, best iteration is:\n",
      "[19]\ttraining's rmse: 1156.2\tvalid_1's rmse: 4978.69\n",
      "Iteration done, nrmlse: 2.325555083487481\n",
      "Training until validation scores don't improve for 40 rounds\n",
      "[20]\ttraining's rmse: 855.425\tvalid_1's rmse: 10181.6\n",
      "[40]\ttraining's rmse: 620.586\tvalid_1's rmse: 10164.8\n",
      "[60]\ttraining's rmse: 549.231\tvalid_1's rmse: 10161.7\n",
      "[80]\ttraining's rmse: 521.336\tvalid_1's rmse: 10160.4\n",
      "[100]\ttraining's rmse: 501.173\tvalid_1's rmse: 10159\n",
      "[120]\ttraining's rmse: 485.686\tvalid_1's rmse: 10157.7\n",
      "[140]\ttraining's rmse: 473.518\tvalid_1's rmse: 10157.3\n",
      "[160]\ttraining's rmse: 463.665\tvalid_1's rmse: 10157.2\n",
      "[180]\ttraining's rmse: 455.483\tvalid_1's rmse: 10157.1\n",
      "[200]\ttraining's rmse: 447.475\tvalid_1's rmse: 10156.6\n",
      "[220]\ttraining's rmse: 440.118\tvalid_1's rmse: 10156.4\n",
      "[240]\ttraining's rmse: 433.63\tvalid_1's rmse: 10155\n",
      "[260]\ttraining's rmse: 427.923\tvalid_1's rmse: 10154.9\n",
      "[280]\ttraining's rmse: 423.306\tvalid_1's rmse: 10154.7\n",
      "[300]\ttraining's rmse: 418.595\tvalid_1's rmse: 10154\n",
      "[320]\ttraining's rmse: 414.177\tvalid_1's rmse: 10153.8\n",
      "[340]\ttraining's rmse: 409.915\tvalid_1's rmse: 10153.8\n",
      "Early stopping, best iteration is:\n",
      "[312]\ttraining's rmse: 415.439\tvalid_1's rmse: 10153.7\n",
      "Iteration done, nrmlse: 2.008086563730502\n",
      "FinalScore: 2.3623769608216705\n"
     ]
    }
   ],
   "source": [
    "nrmlses = []\n",
    "for tr_ix, ts_ix in kf.split(data_6a):\n",
    "    k_air = get_series_past_k_lags(data_6a['air_temperature'], k=[1, 2] + [3 * (2**x) for x in range(6)]).fillna(99).reset_index(drop=True)\n",
    "    k_dew = get_series_past_k_lags(data_6a['dew_temperature'], k=[1, 2] + [3 * (2**x) for x in range(6)]).fillna(99).reset_index(drop=True)\n",
    "    data_6a2 = pd.concat([data_6a.reset_index(drop=True), k_air, k_dew], axis=1, sort=False)\n",
    "    data_6a2_tr_x = data_6a2.iloc[tr_ix[:int(len(tr_ix)*.9)],:][[x for x in list(data_6a2) if x != 'meter_reading']]\n",
    "    data_6a2_tr_y = data_6a2.iloc[tr_ix[:int(len(tr_ix)*.9)],:].meter_reading\n",
    "    data_6a2_val_x = data_6a2.iloc[tr_ix[int(len(tr_ix)*.9):],:][[x for x in list(data_6a2) if x != 'meter_reading']]\n",
    "    data_6a2_val_y = data_6a2.iloc[tr_ix[int(len(tr_ix)*.9):],:].meter_reading\n",
    "    lgb_train = lgb.Dataset(data_6a2_tr_x, data_6a2_tr_y)\n",
    "    lgb_eval = lgb.Dataset(data_6a2_val_x, data_6a2_val_y)\n",
    "    gbm_regress = lgb.train(lgb_reg_params, lgb_train, num_boost_round=2000, valid_sets=(lgb_train, lgb_eval),\n",
    "                            early_stopping_rounds=20, verbose_eval = 20)\n",
    "    data_6a2_ts_x = data_6a2.iloc[ts_ix,:][[x for x in list(data_6a2) if x != 'meter_reading']]\n",
    "    data_6a2_ts_y = data_6a2.iloc[ts_ix,:].meter_reading\n",
    "    lgbm_hat = (gbm_regress.predict(data_6a2_ts_x, num_iteration=gbm_regress.best_iteration))\n",
    "    nrmlse = root_mean_squared_log_error(lgbm_hat, data_6a2_ts_y)\n",
    "    print('Iteration done, nrmlse:', nrmlse)\n",
    "    nrmlses.append(nrmlse)\n",
    "print('FinalScore:', sum(nrmlses) / K)"
   ]
  },
  {
   "cell_type": "code",
   "execution_count": 78,
   "metadata": {},
   "outputs": [
    {
     "name": "stdout",
     "output_type": "stream",
     "text": [
      "Training until validation scores don't improve for 40 rounds\n",
      "[20]\ttraining's rmse: 2734.24\tvalid_1's rmse: 4978.18\n",
      "[40]\ttraining's rmse: 2110.4\tvalid_1's rmse: 4976.44\n",
      "[60]\ttraining's rmse: 1835.68\tvalid_1's rmse: 4990.21\n",
      "Early stopping, best iteration is:\n",
      "[34]\ttraining's rmse: 2245.21\tvalid_1's rmse: 4974.43\n",
      "Iteration done, nrmlse: 2.8958435500973945\n",
      "Training until validation scores don't improve for 40 rounds\n",
      "[20]\ttraining's rmse: 2676.11\tvalid_1's rmse: 4977.07\n",
      "[40]\ttraining's rmse: 2070.11\tvalid_1's rmse: 4974.36\n",
      "[60]\ttraining's rmse: 1795.88\tvalid_1's rmse: 4979.35\n",
      "Early stopping, best iteration is:\n",
      "[37]\ttraining's rmse: 2132.68\tvalid_1's rmse: 4972.46\n",
      "Iteration done, nrmlse: 2.451909444460404\n",
      "Training until validation scores don't improve for 40 rounds\n",
      "[20]\ttraining's rmse: 2559.84\tvalid_1's rmse: 4976.97\n",
      "[40]\ttraining's rmse: 1907.09\tvalid_1's rmse: 4974.72\n",
      "[60]\ttraining's rmse: 1669.25\tvalid_1's rmse: 4976.74\n",
      "Early stopping, best iteration is:\n",
      "[28]\ttraining's rmse: 2161.46\tvalid_1's rmse: 4972.9\n",
      "Iteration done, nrmlse: 2.0871500485177736\n",
      "Training until validation scores don't improve for 40 rounds\n",
      "[20]\ttraining's rmse: 1166.05\tvalid_1's rmse: 4980.4\n",
      "[40]\ttraining's rmse: 960.089\tvalid_1's rmse: 4982.23\n",
      "[60]\ttraining's rmse: 888.734\tvalid_1's rmse: 4984.22\n",
      "Early stopping, best iteration is:\n",
      "[26]\ttraining's rmse: 1068.46\tvalid_1's rmse: 4979.87\n",
      "Iteration done, nrmlse: 2.22860711422731\n",
      "Training until validation scores don't improve for 40 rounds\n",
      "[20]\ttraining's rmse: 886.294\tvalid_1's rmse: 10184.7\n",
      "[40]\ttraining's rmse: 608.899\tvalid_1's rmse: 10166.5\n",
      "[60]\ttraining's rmse: 551.539\tvalid_1's rmse: 10164.7\n",
      "[80]\ttraining's rmse: 524.978\tvalid_1's rmse: 10163.4\n",
      "[100]\ttraining's rmse: 505.581\tvalid_1's rmse: 10162.8\n",
      "[120]\ttraining's rmse: 491.02\tvalid_1's rmse: 10162.5\n",
      "[140]\ttraining's rmse: 480.763\tvalid_1's rmse: 10162.5\n",
      "[160]\ttraining's rmse: 470.581\tvalid_1's rmse: 10162.3\n",
      "[180]\ttraining's rmse: 462.521\tvalid_1's rmse: 10162.3\n",
      "[200]\ttraining's rmse: 455.582\tvalid_1's rmse: 10162.4\n",
      "Early stopping, best iteration is:\n",
      "[169]\ttraining's rmse: 467.039\tvalid_1's rmse: 10162.2\n",
      "Iteration done, nrmlse: 2.059774408244276\n",
      "FinalScore: 2.3446569131094317\n"
     ]
    }
   ],
   "source": [
    "nrmlses = []\n",
    "for tr_ix, ts_ix in kf.split(data_6a):\n",
    "    k_air = get_series_past_k_lags(data_6a['air_temperature'], k=[1, 2, 3, 6]).fillna(99).reset_index(drop=True)\n",
    "    k_dew = get_series_past_k_lags(data_6a['dew_temperature'], k=[1, 2, 3, 6]).fillna(99).reset_index(drop=True)\n",
    "    k_air_e_01 = data_6a.air_temperature.ewm(alpha=0.1).mean().reset_index(drop=True)\n",
    "    k_air_e_01.name = 'k_air_e_01'\n",
    "    k_dew_e_01 = data_6a.dew_temperature.ewm(alpha=0.1).mean().reset_index(drop=True)\n",
    "    k_dew_e_01.name = 'k_dew_e_01'\n",
    "    k_air_e_025 = data_6a.air_temperature.ewm(alpha=0.25).mean().reset_index(drop=True)\n",
    "    k_air_e_025.name = 'k_air_e_025'\n",
    "    k_dew_e_025 = data_6a.dew_temperature.ewm(alpha=0.25).mean().reset_index(drop=True)\n",
    "    k_dew_e_025.name = 'k_dew_e_025'\n",
    "    data_6a3 = pd.concat([data_6a.reset_index(drop=True), k_air, k_air_e_001,k_air_e_01, k_air_e_025, k_dew, k_dew_e_001, k_dew_e_01, k_dew_e_025], axis=1, sort=False)\n",
    "    data_6a3_tr_x = data_6a3.iloc[tr_ix[:int(len(tr_ix)*.9)],:][[x for x in list(data_6a3) if x != 'meter_reading']]\n",
    "    data_6a3_tr_y = data_6a3.iloc[tr_ix[:int(len(tr_ix)*.9)],:].meter_reading\n",
    "    data_6a3_val_x = data_6a3.iloc[tr_ix[int(len(tr_ix)*.9):],:][[x for x in list(data_6a3) if x != 'meter_reading']]\n",
    "    data_6a3_val_y = data_6a3.iloc[tr_ix[int(len(tr_ix)*.9):],:].meter_reading\n",
    "    lgb_train = lgb.Dataset(data_6a3_tr_x, data_6a3_tr_y)\n",
    "    lgb_eval = lgb.Dataset(data_6a3_val_x, data_6a3_val_y)\n",
    "    gbm_regress = lgb.train(lgb_reg_params, lgb_train, num_boost_round=2000, valid_sets=(lgb_train, lgb_eval),\n",
    "                            early_stopping_rounds=20, verbose_eval = 20)\n",
    "    data_6a3_ts_x = data_6a3.iloc[ts_ix,:][[x for x in list(data_6a3) if x != 'meter_reading']]\n",
    "    data_6a3_ts_y = data_6a3.iloc[ts_ix,:].meter_reading\n",
    "    lgbm_hat = (gbm_regress.predict(data_6a3_ts_x, num_iteration=gbm_regress.best_iteration))\n",
    "    nrmlse = root_mean_squared_log_error(lgbm_hat, data_6a3_ts_y)\n",
    "    print('Iteration done, nrmlse:', nrmlse)\n",
    "    nrmlses.append(nrmlse)\n",
    "print('FinalScore:', sum(nrmlses) / K)"
   ]
  },
  {
   "cell_type": "code",
   "execution_count": null,
   "metadata": {},
   "outputs": [],
   "source": []
  }
 ],
 "metadata": {
  "kernelspec": {
   "display_name": "Python 3",
   "language": "python",
   "name": "python3"
  },
  "language_info": {
   "codemirror_mode": {
    "name": "ipython",
    "version": 3
   },
   "file_extension": ".py",
   "mimetype": "text/x-python",
   "name": "python",
   "nbconvert_exporter": "python",
   "pygments_lexer": "ipython3",
   "version": "3.6.1"
  }
 },
 "nbformat": 4,
 "nbformat_minor": 2
}
