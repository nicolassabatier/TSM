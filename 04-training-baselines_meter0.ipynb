{
 "cells": [
  {
   "cell_type": "markdown",
   "metadata": {},
   "source": [
    "# Training Models Baselines"
   ]
  },
  {
   "cell_type": "code",
   "execution_count": 16,
   "metadata": {},
   "outputs": [],
   "source": [
    "%load_ext autoreload\n",
    "%autoreload 2"
   ]
  },
  {
   "cell_type": "code",
   "execution_count": 3,
   "metadata": {},
   "outputs": [],
   "source": [
    "import pandas as pd"
   ]
  },
  {
   "cell_type": "code",
   "execution_count": 43,
   "metadata": {},
   "outputs": [],
   "source": [
    "met0_tr = pd.read_pickle('kaggle/prepo_train_met0.pkl')\n",
    "met0_vl = pd.read_pickle('kaggle/prepo_val_met0.pkl')"
   ]
  },
  {
   "cell_type": "markdown",
   "metadata": {},
   "source": [
    "## Compute mean meter reading by building by month on training data"
   ]
  },
  {
   "cell_type": "code",
   "execution_count": 7,
   "metadata": {},
   "outputs": [],
   "source": [
    "from tsm.data_utils import compute_and_add_mean_by_a_and_b, only_add_mean_by_a_and_b"
   ]
  },
  {
   "cell_type": "code",
   "execution_count": 44,
   "metadata": {},
   "outputs": [
    {
     "data": {
      "application/vnd.jupyter.widget-view+json": {
       "model_id": "33f10b3f19a0469f8a44a829afe88d40",
       "version_major": 2,
       "version_minor": 0
      },
      "text/plain": [
       "HBox(children=(IntProgress(value=0, max=10661397), HTML(value='')))"
      ]
     },
     "metadata": {},
     "output_type": "display_data"
    },
    {
     "name": "stdout",
     "output_type": "stream",
     "text": [
      "\n"
     ]
    }
   ],
   "source": [
    "met0_tr, tr_means_by_bid_and_m = compute_and_add_mean_by_a_and_b(met0_tr, mean_of='meter_reading', a='building_id', b='dt_m')"
   ]
  },
  {
   "cell_type": "code",
   "execution_count": 45,
   "metadata": {},
   "outputs": [
    {
     "data": {
      "application/vnd.jupyter.widget-view+json": {
       "model_id": "d36883b171a24c35b7ff20aaecc458bd",
       "version_major": 2,
       "version_minor": 0
      },
      "text/plain": [
       "HBox(children=(IntProgress(value=0, max=1399513), HTML(value='')))"
      ]
     },
     "metadata": {},
     "output_type": "display_data"
    },
    {
     "name": "stdout",
     "output_type": "stream",
     "text": [
      "\n"
     ]
    }
   ],
   "source": [
    "met0_vl = only_add_mean_by_a_and_b(met0_vl, mean_of='meter_reading', a='building_id', b='dt_m', means_by_a_and_b=tr_means_by_bid_and_m)"
   ]
  },
  {
   "cell_type": "markdown",
   "metadata": {},
   "source": [
    "#### Re-compress memory usage"
   ]
  },
  {
   "cell_type": "code",
   "execution_count": 14,
   "metadata": {},
   "outputs": [],
   "source": [
    "from tsm.data_utils import compress_memory_usage"
   ]
  },
  {
   "cell_type": "code",
   "execution_count": 15,
   "metadata": {},
   "outputs": [],
   "source": [
    "met0_tr = met0_tr.drop('timestamp', axis=1)"
   ]
  },
  {
   "cell_type": "code",
   "execution_count": 17,
   "metadata": {},
   "outputs": [
    {
     "data": {
      "application/vnd.jupyter.widget-view+json": {
       "model_id": "52565d964ba04f12a7b716b14497f839",
       "version_major": 2,
       "version_minor": 0
      },
      "text/plain": [
       "HBox(children=(IntProgress(value=0, description='DataFrame: compress_memory_usage', max=58, style=ProgressStyl…"
      ]
     },
     "metadata": {},
     "output_type": "display_data"
    },
    {
     "name": "stdout",
     "output_type": "stream",
     "text": [
      "\n"
     ]
    }
   ],
   "source": [
    "met0_tr, _ = compress_memory_usage(met0_tr)"
   ]
  },
  {
   "cell_type": "code",
   "execution_count": 18,
   "metadata": {},
   "outputs": [],
   "source": [
    "met0_vl = met0_vl.drop('timestamp', axis=1)"
   ]
  },
  {
   "cell_type": "code",
   "execution_count": 19,
   "metadata": {},
   "outputs": [
    {
     "data": {
      "application/vnd.jupyter.widget-view+json": {
       "model_id": "bc3b422f5f8142f1b0fcfddef0e2b888",
       "version_major": 2,
       "version_minor": 0
      },
      "text/plain": [
       "HBox(children=(IntProgress(value=0, description='DataFrame: compress_memory_usage', max=58, style=ProgressStyl…"
      ]
     },
     "metadata": {},
     "output_type": "display_data"
    },
    {
     "name": "stdout",
     "output_type": "stream",
     "text": [
      "\n"
     ]
    }
   ],
   "source": [
    "met0_vl, _ = compress_memory_usage(met0_vl)"
   ]
  },
  {
   "cell_type": "markdown",
   "metadata": {},
   "source": [
    "#### Save as pickle to save time later"
   ]
  },
  {
   "cell_type": "code",
   "execution_count": 20,
   "metadata": {},
   "outputs": [],
   "source": [
    "met0_tr.to_pickle('kaggle/prepo_train_met0_bIDbyM_means.pkl')\n",
    "met0_vl.to_pickle('kaggle/prepo_val_met0__bIDbyM_means.pkl')"
   ]
  },
  {
   "cell_type": "code",
   "execution_count": 20,
   "metadata": {},
   "outputs": [],
   "source": [
    "import pickle"
   ]
  },
  {
   "cell_type": "code",
   "execution_count": 47,
   "metadata": {},
   "outputs": [],
   "source": [
    "with open('kaggle/prepo_train_met0_tr_means_by_bid_and_m.pkl', 'wb') as f_out:\n",
    "    pickle.dump(tr_means_by_bid_and_m, f_out)"
   ]
  },
  {
   "cell_type": "markdown",
   "metadata": {},
   "source": [
    "#### Reloading: restart from here"
   ]
  },
  {
   "cell_type": "code",
   "execution_count": 13,
   "metadata": {},
   "outputs": [],
   "source": [
    "met0_tr = pd.read_pickle('kaggle/prepo_train_met0_bIDbyM_means.pkl')\n",
    "met0_vl = pd.read_pickle('kaggle/prepo_val_met0__bIDbyM_means.pkl')"
   ]
  },
  {
   "cell_type": "code",
   "execution_count": 50,
   "metadata": {},
   "outputs": [],
   "source": [
    "with open('kaggle/prepo_train_met0_tr_means_by_bid_and_m.pkl', 'rb') as f_in:\n",
    "    tr_means_by_bid_and_m = pickle.load(f_in)"
   ]
  },
  {
   "cell_type": "markdown",
   "metadata": {},
   "source": [
    "## Baseline 1) LightGBM"
   ]
  },
  {
   "cell_type": "code",
   "execution_count": 24,
   "metadata": {},
   "outputs": [],
   "source": [
    "import lightgbm as lgb"
   ]
  },
  {
   "cell_type": "code",
   "execution_count": 25,
   "metadata": {},
   "outputs": [],
   "source": [
    "from tsm.eval_metrics import root_mean_squared_log_error"
   ]
  },
  {
   "cell_type": "code",
   "execution_count": 26,
   "metadata": {},
   "outputs": [],
   "source": [
    "SEED = 0"
   ]
  },
  {
   "cell_type": "code",
   "execution_count": 27,
   "metadata": {},
   "outputs": [],
   "source": [
    "lgb_reg_params = {'objective':'regression',  'boosting_type':'gbdt', 'metric':'rmse',\n",
    "                  'n_jobs':-1, 'learning_rate':0.07, 'num_leaves': 2**8, 'max_depth':-1,\n",
    "                  'tree_learner':'serial', 'colsample_bytree': 0.7, 'subsample_freq':1,\n",
    "                  'subsample':0.5, 'max_bin':255, 'verbose':1, 'seed': SEED, 'early_stopping_rounds': 40}"
   ]
  },
  {
   "cell_type": "code",
   "execution_count": 21,
   "metadata": {},
   "outputs": [],
   "source": [
    "xs = [x for x in list(met0_tr) if x not in ['timestamp', 'meter_reading']]\n",
    "y = 'meter_reading'"
   ]
  },
  {
   "cell_type": "code",
   "execution_count": 22,
   "metadata": {},
   "outputs": [],
   "source": [
    "met0_tr_x = met0_tr[xs]\n",
    "met0_tr_y = met0_tr[y]\n",
    "met0_vl_x = met0_vl[xs]\n",
    "met0_vl_y = met0_vl[y]"
   ]
  },
  {
   "cell_type": "code",
   "execution_count": 62,
   "metadata": {},
   "outputs": [
    {
     "name": "stdout",
     "output_type": "stream",
     "text": [
      "Variable                          Type              Data/Info\n",
      "-------------------------------------------------------------\n",
      "SEED                              int               0\n",
      "compute_and_add_mean_by_a_and_b   function          <function compute_and_add<...>_and_b at 0x7fb1a7f5bb70>\n",
      "f_in                              BufferedReader    <_io.BufferedReader name=<...>_means_by_bid_and_m.pkl'>\n",
      "f_out                             BufferedWriter    <_io.BufferedWriter name=<...>_means_by_bid_and_m.pkl'>\n",
      "lgb                               module            <module 'lightgbm' from '<...>es/lightgbm/__init__.py'>\n",
      "lgb_eval                          Dataset           <lightgbm.basic.Dataset object at 0x7fb16150ff60>\n",
      "lgb_reg_params                    dict              n=15\n",
      "lgb_train                         Dataset           <lightgbm.basic.Dataset object at 0x7fb16150f358>\n",
      "met0_tr                           DataFrame                   building_id    <...>661397 rows x 59 columns]\n",
      "met0_tr_x                         DataFrame                   building_id  si<...>661397 rows x 57 columns]\n",
      "met0_tr_y                         Series            0             0.000000\\n1<...> 10661397, dtype: float32\n",
      "met0_vl                           DataFrame                  building_id     <...>399513 rows x 59 columns]\n",
      "met0_vl_x                         DataFrame                  building_id  sit<...>399513 rows x 57 columns]\n",
      "met0_vl_y                         Series            0            0.000\\n1    <...>: 1399513, dtype: float32\n",
      "only_add_mean_by_a_and_b          function          <function only_add_mean_b<...>_and_b at 0x7fb1a7f5bbf8>\n",
      "pd                                module            <module 'pandas' from '/u<...>ages/pandas/__init__.py'>\n",
      "pickle                            module            <module 'pickle' from '/u<...>lib/python3.5/pickle.py'>\n",
      "root_mean_squared_log_error       function          <function root_mean_squar<...>_error at 0x7fb1d8d838c8>\n",
      "tr_means_by_bid_and_m             dict              n=1413\n",
      "x_cols                            list              n=57\n",
      "xs                                list              n=57\n",
      "y                                 str               meter_reading\n"
     ]
    }
   ],
   "source": [
    "%whos"
   ]
  },
  {
   "cell_type": "code",
   "execution_count": 63,
   "metadata": {},
   "outputs": [],
   "source": [
    "del met0_tr, met0_vl"
   ]
  },
  {
   "cell_type": "code",
   "execution_count": 28,
   "metadata": {},
   "outputs": [
    {
     "name": "stderr",
     "output_type": "stream",
     "text": [
      "/home/Ric/.local/lib/python3.5/site-packages/lightgbm/engine.py:153: UserWarning: Found `early_stopping_rounds` in params. Will use it instead of argument\n",
      "  warnings.warn(\"Found `{}` in params. Will use it instead of argument\".format(alias))\n"
     ]
    },
    {
     "name": "stdout",
     "output_type": "stream",
     "text": [
      "Training until validation scores don't improve for 40 rounds\n",
      "[20]\ttraining's rmse: 119.759\tvalid_1's rmse: 124.142\n",
      "[40]\ttraining's rmse: 77.0525\tvalid_1's rmse: 85.5459\n",
      "[60]\ttraining's rmse: 69.6232\tvalid_1's rmse: 80.7385\n",
      "[80]\ttraining's rmse: 66.164\tvalid_1's rmse: 79.7223\n",
      "[100]\ttraining's rmse: 63.8183\tvalid_1's rmse: 78.8084\n",
      "[120]\ttraining's rmse: 61.7802\tvalid_1's rmse: 78.0157\n",
      "[140]\ttraining's rmse: 60.345\tvalid_1's rmse: 77.5614\n",
      "[160]\ttraining's rmse: 59.1499\tvalid_1's rmse: 77.4934\n",
      "[180]\ttraining's rmse: 58.2036\tvalid_1's rmse: 77.2936\n",
      "[200]\ttraining's rmse: 57.2973\tvalid_1's rmse: 77.3272\n",
      "[220]\ttraining's rmse: 56.3738\tvalid_1's rmse: 76.9794\n",
      "[240]\ttraining's rmse: 55.68\tvalid_1's rmse: 76.9387\n",
      "[260]\ttraining's rmse: 54.8786\tvalid_1's rmse: 76.9175\n",
      "[280]\ttraining's rmse: 54.2309\tvalid_1's rmse: 76.9433\n",
      "Early stopping, best iteration is:\n",
      "[252]\ttraining's rmse: 55.2124\tvalid_1's rmse: 76.767\n"
     ]
    }
   ],
   "source": [
    "lgb_train = lgb.Dataset(met0_tr_x, met0_tr_y)\n",
    "lgb_eval = lgb.Dataset(met0_vl_x, met0_vl_y)\n",
    "gbm_regress = lgb.train(lgb_reg_params, lgb_train, num_boost_round=2000, valid_sets=(lgb_train, lgb_eval),verbose_eval = 20)"
   ]
  },
  {
   "cell_type": "code",
   "execution_count": 29,
   "metadata": {},
   "outputs": [
    {
     "name": "stderr",
     "output_type": "stream",
     "text": [
      "/home/Ric/TSM/tsm/eval_metrics.py:5: RuntimeWarning: invalid value encountered in log\n",
      "  return np.sqrt(np.sum(np.power(np.log(predicted + 1) - np.log(actual + 1), 2)) / len(actual))\n"
     ]
    },
    {
     "name": "stdout",
     "output_type": "stream",
     "text": [
      "Training NRMLSE: 0.6020488382795164\n",
      "Validation NRMLSE: 0.6820828571711314\n"
     ]
    }
   ],
   "source": [
    "lgbm_tr_hat = (gbm_regress.predict(met0_tr_x, num_iteration=gbm_regress.best_iteration))\n",
    "print('Training NRMLSE:', root_mean_squared_log_error(lgbm_tr_hat, met0_tr_y))\n",
    "\n",
    "lgbm_vl_hat = (gbm_regress.predict(met0_vl_x, num_iteration=gbm_regress.best_iteration))\n",
    "print('Validation NRMLSE:', root_mean_squared_log_error(lgbm_vl_hat, met0_vl_y))"
   ]
  },
  {
   "cell_type": "code",
   "execution_count": null,
   "metadata": {},
   "outputs": [],
   "source": []
  }
 ],
 "metadata": {
  "kernelspec": {
   "display_name": "Python 3",
   "language": "python",
   "name": "python3"
  },
  "language_info": {
   "codemirror_mode": {
    "name": "ipython",
    "version": 3
   },
   "file_extension": ".py",
   "mimetype": "text/x-python",
   "name": "python",
   "nbconvert_exporter": "python",
   "pygments_lexer": "ipython3",
   "version": "3.5.3"
  }
 },
 "nbformat": 4,
 "nbformat_minor": 2
}
