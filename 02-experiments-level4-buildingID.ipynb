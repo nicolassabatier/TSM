{
 "cells": [
  {
   "cell_type": "markdown",
   "metadata": {},
   "source": [
    ".. I am thinking to not use building_id but instead:\n",
    "- mean meter reading by meter type\n",
    "- std of meter reading by meter type\n",
    "- mean meter reading by meter type by week of year\n",
    "- std meter reading by meter type by week of year"
   ]
  },
  {
   "cell_type": "code",
   "execution_count": 1,
   "metadata": {},
   "outputs": [],
   "source": [
    "%load_ext autoreload\n",
    "%autoreload 2"
   ]
  },
  {
   "cell_type": "code",
   "execution_count": 2,
   "metadata": {},
   "outputs": [],
   "source": [
    "import pandas as pd\n",
    "from tsm.data_selector import data_subset_by_dict\n",
    "import matplotlib.pyplot as plt\n",
    "import numpy as np"
   ]
  },
  {
   "cell_type": "code",
   "execution_count": 3,
   "metadata": {},
   "outputs": [],
   "source": [
    "train_data = pd.read_pickle('kaggle/input/ashrae-energy-prediction/train.pkl')"
   ]
  },
  {
   "cell_type": "markdown",
   "metadata": {},
   "source": [
    "## Level 4A)\n",
    "* 1 site - 124 buildings\n",
    "* 1 meter reading - meter 0\n",
    "* Building ID"
   ]
  },
  {
   "cell_type": "code",
   "execution_count": 7,
   "metadata": {},
   "outputs": [],
   "source": [
    "level_4a = {'site_id': 14, 'meter': 0}\n",
    "level_4a_cols = ['building_id', 'meter_reading', 'dt_m', 'dt_w', 'dt_d', 'dt_hour', \n",
    "                 'dt_day_week', 'dt_day_month', 'dt_week_month']"
   ]
  },
  {
   "cell_type": "code",
   "execution_count": 8,
   "metadata": {},
   "outputs": [],
   "source": [
    "data_4a = data_subset_by_dict(train_data, level_4a, level_4a_cols)"
   ]
  },
  {
   "cell_type": "code",
   "execution_count": 9,
   "metadata": {},
   "outputs": [
    {
     "data": {
      "text/html": [
       "<div>\n",
       "<style scoped>\n",
       "    .dataframe tbody tr th:only-of-type {\n",
       "        vertical-align: middle;\n",
       "    }\n",
       "\n",
       "    .dataframe tbody tr th {\n",
       "        vertical-align: top;\n",
       "    }\n",
       "\n",
       "    .dataframe thead th {\n",
       "        text-align: right;\n",
       "    }\n",
       "</style>\n",
       "<table border=\"1\" class=\"dataframe\">\n",
       "  <thead>\n",
       "    <tr style=\"text-align: right;\">\n",
       "      <th></th>\n",
       "      <th>building_id</th>\n",
       "      <th>meter_reading</th>\n",
       "      <th>dt_m</th>\n",
       "      <th>dt_w</th>\n",
       "      <th>dt_d</th>\n",
       "      <th>dt_hour</th>\n",
       "      <th>dt_day_week</th>\n",
       "      <th>dt_day_month</th>\n",
       "      <th>dt_week_month</th>\n",
       "    </tr>\n",
       "  </thead>\n",
       "  <tbody>\n",
       "    <tr>\n",
       "      <th>1778</th>\n",
       "      <td>1223</td>\n",
       "      <td>79.845299</td>\n",
       "      <td>1</td>\n",
       "      <td>53</td>\n",
       "      <td>1</td>\n",
       "      <td>0</td>\n",
       "      <td>4</td>\n",
       "      <td>1</td>\n",
       "      <td>1</td>\n",
       "    </tr>\n",
       "    <tr>\n",
       "      <th>1781</th>\n",
       "      <td>1224</td>\n",
       "      <td>12.000000</td>\n",
       "      <td>1</td>\n",
       "      <td>53</td>\n",
       "      <td>1</td>\n",
       "      <td>0</td>\n",
       "      <td>4</td>\n",
       "      <td>1</td>\n",
       "      <td>1</td>\n",
       "    </tr>\n",
       "    <tr>\n",
       "      <th>1784</th>\n",
       "      <td>1225</td>\n",
       "      <td>185.647003</td>\n",
       "      <td>1</td>\n",
       "      <td>53</td>\n",
       "      <td>1</td>\n",
       "      <td>0</td>\n",
       "      <td>4</td>\n",
       "      <td>1</td>\n",
       "      <td>1</td>\n",
       "    </tr>\n",
       "    <tr>\n",
       "      <th>1787</th>\n",
       "      <td>1226</td>\n",
       "      <td>42.340900</td>\n",
       "      <td>1</td>\n",
       "      <td>53</td>\n",
       "      <td>1</td>\n",
       "      <td>0</td>\n",
       "      <td>4</td>\n",
       "      <td>1</td>\n",
       "      <td>1</td>\n",
       "    </tr>\n",
       "    <tr>\n",
       "      <th>1790</th>\n",
       "      <td>1227</td>\n",
       "      <td>52.820000</td>\n",
       "      <td>1</td>\n",
       "      <td>53</td>\n",
       "      <td>1</td>\n",
       "      <td>0</td>\n",
       "      <td>4</td>\n",
       "      <td>1</td>\n",
       "      <td>1</td>\n",
       "    </tr>\n",
       "  </tbody>\n",
       "</table>\n",
       "</div>"
      ],
      "text/plain": [
       "      building_id  meter_reading  dt_m  dt_w  dt_d  dt_hour  dt_day_week  \\\n",
       "1778         1223      79.845299     1    53     1        0            4   \n",
       "1781         1224      12.000000     1    53     1        0            4   \n",
       "1784         1225     185.647003     1    53     1        0            4   \n",
       "1787         1226      42.340900     1    53     1        0            4   \n",
       "1790         1227      52.820000     1    53     1        0            4   \n",
       "\n",
       "      dt_day_month  dt_week_month  \n",
       "1778             1              1  \n",
       "1781             1              1  \n",
       "1784             1              1  \n",
       "1787             1              1  \n",
       "1790             1              1  "
      ]
     },
     "execution_count": 9,
     "metadata": {},
     "output_type": "execute_result"
    }
   ],
   "source": [
    "data_4a.head()"
   ]
  },
  {
   "cell_type": "code",
   "execution_count": 13,
   "metadata": {},
   "outputs": [
    {
     "name": "stderr",
     "output_type": "stream",
     "text": [
      "/Library/Frameworks/Python.framework/Versions/3.6/lib/python3.6/site-packages/lightgbm/__init__.py:48: UserWarning: Starting from version 2.2.1, the library file in distribution wheels for macOS is built by the Apple Clang (Xcode_8.3.3) compiler.\n",
      "This means that in case of installing LightGBM from PyPI via the ``pip install lightgbm`` command, you don't need to install the gcc compiler anymore.\n",
      "Instead of that, you need to install the OpenMP library, which is required for running LightGBM on the system with the Apple Clang compiler.\n",
      "You can install the OpenMP library by the following command: ``brew install libomp``.\n",
      "  \"You can install the OpenMP library by the following command: ``brew install libomp``.\", UserWarning)\n"
     ]
    }
   ],
   "source": [
    "import lightgbm as lgb"
   ]
  },
  {
   "cell_type": "code",
   "execution_count": 14,
   "metadata": {},
   "outputs": [],
   "source": [
    "from tsm.eval_metrics import root_mean_squared_log_error"
   ]
  },
  {
   "cell_type": "code",
   "execution_count": 16,
   "metadata": {},
   "outputs": [],
   "source": [
    "SEED = 7"
   ]
  },
  {
   "cell_type": "code",
   "execution_count": 20,
   "metadata": {},
   "outputs": [],
   "source": [
    "lgb_reg_params = {'objective':'regression',  'boosting_type':'gbdt', 'metric':'rmse',\n",
    "                  'n_jobs':-1, 'learning_rate':0.07, 'num_leaves': 2**8, 'max_depth':-1,\n",
    "                  'tree_learner':'serial', 'colsample_bytree': 0.7, 'subsample_freq':1,\n",
    "                  'subsample':0.5, 'max_bin':255, 'verbose':1, 'seed': SEED, 'early_stopping_rounds': 40} "
   ]
  },
  {
   "cell_type": "code",
   "execution_count": 11,
   "metadata": {},
   "outputs": [],
   "source": [
    "# Cross Validation\n",
    "from sklearn.model_selection import KFold"
   ]
  },
  {
   "cell_type": "code",
   "execution_count": 12,
   "metadata": {},
   "outputs": [],
   "source": [
    "K = 5\n",
    "kf = KFold(n_splits=K)"
   ]
  },
  {
   "cell_type": "code",
   "execution_count": 18,
   "metadata": {},
   "outputs": [],
   "source": [
    "feat_cols = ['building_id', 'dt_m', 'dt_w', 'dt_d', 'dt_hour', \n",
    "             'dt_day_week', 'dt_day_month', 'dt_week_month']"
   ]
  },
  {
   "cell_type": "code",
   "execution_count": 21,
   "metadata": {},
   "outputs": [
    {
     "name": "stdout",
     "output_type": "stream",
     "text": [
      "Training until validation scores don't improve for 40 rounds\n",
      "[20]\ttraining's rmse: 112.012\tvalid_1's rmse: 117.662\n",
      "[40]\ttraining's rmse: 51.171\tvalid_1's rmse: 71.7402\n",
      "[60]\ttraining's rmse: 37.0798\tvalid_1's rmse: 65.697\n",
      "[80]\ttraining's rmse: 32.7356\tvalid_1's rmse: 65.1564\n",
      "[100]\ttraining's rmse: 30.8903\tvalid_1's rmse: 65.0886\n",
      "[120]\ttraining's rmse: 29.7747\tvalid_1's rmse: 64.9115\n",
      "[140]\ttraining's rmse: 29.0472\tvalid_1's rmse: 64.8896\n",
      "[160]\ttraining's rmse: 28.2574\tvalid_1's rmse: 64.9469\n",
      "Early stopping, best iteration is:\n",
      "[130]\ttraining's rmse: 29.3517\tvalid_1's rmse: 64.8556\n"
     ]
    },
    {
     "name": "stderr",
     "output_type": "stream",
     "text": [
      "/Users/Ric/_personal/x_tsm/tsm/eval_metrics.py:5: RuntimeWarning: invalid value encountered in log\n",
      "  return np.sqrt(np.sum(np.power(np.log(predicted + 1) - np.log(actual + 1), 2)) / len(actual))\n"
     ]
    },
    {
     "name": "stdout",
     "output_type": "stream",
     "text": [
      "Iteration done, nrmlse: 0.6900045526028211\n",
      "Training until validation scores don't improve for 40 rounds\n",
      "[20]\ttraining's rmse: 113.189\tvalid_1's rmse: 117.728\n",
      "[40]\ttraining's rmse: 52.7329\tvalid_1's rmse: 71.0659\n",
      "[60]\ttraining's rmse: 38.9566\tvalid_1's rmse: 64.9581\n",
      "[80]\ttraining's rmse: 34.6426\tvalid_1's rmse: 64.2604\n",
      "[100]\ttraining's rmse: 32.7494\tvalid_1's rmse: 64.2506\n",
      "[120]\ttraining's rmse: 31.5043\tvalid_1's rmse: 64.1523\n",
      "[140]\ttraining's rmse: 30.7502\tvalid_1's rmse: 64.0148\n",
      "[160]\ttraining's rmse: 29.8828\tvalid_1's rmse: 63.7847\n",
      "[180]\ttraining's rmse: 29.3048\tvalid_1's rmse: 63.8946\n",
      "[200]\ttraining's rmse: 28.8511\tvalid_1's rmse: 63.8845\n",
      "Early stopping, best iteration is:\n",
      "[161]\ttraining's rmse: 29.8795\tvalid_1's rmse: 63.7828\n",
      "Iteration done, nrmlse: 0.6117565927249083\n",
      "Training until validation scores don't improve for 40 rounds\n",
      "[20]\ttraining's rmse: 111.312\tvalid_1's rmse: 117.55\n",
      "[40]\ttraining's rmse: 49.2208\tvalid_1's rmse: 71.1952\n",
      "[60]\ttraining's rmse: 34.8806\tvalid_1's rmse: 65.2055\n",
      "[80]\ttraining's rmse: 30.783\tvalid_1's rmse: 64.4572\n",
      "[100]\ttraining's rmse: 29.2345\tvalid_1's rmse: 64.5071\n",
      "[120]\ttraining's rmse: 28.274\tvalid_1's rmse: 64.4687\n",
      "Early stopping, best iteration is:\n",
      "[88]\ttraining's rmse: 29.9758\tvalid_1's rmse: 64.394\n",
      "Iteration done, nrmlse: 0.9778719295951256\n",
      "Training until validation scores don't improve for 40 rounds\n",
      "[20]\ttraining's rmse: 111.637\tvalid_1's rmse: 118.274\n",
      "[40]\ttraining's rmse: 50.3496\tvalid_1's rmse: 71.0199\n",
      "[60]\ttraining's rmse: 36.2342\tvalid_1's rmse: 64.1701\n",
      "[80]\ttraining's rmse: 31.9803\tvalid_1's rmse: 63.0515\n",
      "[100]\ttraining's rmse: 30.2066\tvalid_1's rmse: 63.0964\n",
      "[120]\ttraining's rmse: 29.1346\tvalid_1's rmse: 63.1628\n",
      "Early stopping, best iteration is:\n",
      "[82]\ttraining's rmse: 31.6517\tvalid_1's rmse: 62.9929\n",
      "Iteration done, nrmlse: 1.5094488705128202\n",
      "Training until validation scores don't improve for 40 rounds\n",
      "[20]\ttraining's rmse: 112.157\tvalid_1's rmse: 139.754\n",
      "[40]\ttraining's rmse: 50.9743\tvalid_1's rmse: 112.672\n",
      "[60]\ttraining's rmse: 36.8881\tvalid_1's rmse: 112.343\n",
      "[80]\ttraining's rmse: 32.7162\tvalid_1's rmse: 113.541\n",
      "Early stopping, best iteration is:\n",
      "[51]\ttraining's rmse: 41.2591\tvalid_1's rmse: 111.924\n",
      "Iteration done, nrmlse: 0.9243727084605977\n",
      "FinalScore: 0.9426909307792546\n"
     ]
    }
   ],
   "source": [
    "nrmlses = []\n",
    "for tr_ix, ts_ix in kf.split(data_4a):\n",
    "    data_4a1_tr_x = data_4a.iloc[tr_ix[:int(len(tr_ix)*.9)],:][feat_cols]\n",
    "    data_4a1_tr_y = data_4a.iloc[tr_ix[:int(len(tr_ix)*.9)],:].meter_reading\n",
    "    data_4a1_val_x = data_4a.iloc[tr_ix[int(len(tr_ix)*.9):],:][feat_cols]\n",
    "    data_4a1_val_y = data_4a.iloc[tr_ix[int(len(tr_ix)*.9):],:].meter_reading\n",
    "    lgb_train = lgb.Dataset(data_4a1_tr_x, data_4a1_tr_y)\n",
    "    lgb_eval = lgb.Dataset(data_4a1_val_x, data_4a1_val_y)\n",
    "    gbm_regress = lgb.train(lgb_reg_params, lgb_train, num_boost_round=2000, valid_sets=(lgb_train, lgb_eval),\n",
    "                            early_stopping_rounds=20, verbose_eval = 20)\n",
    "    data_4a1_ts_x = data_4a.iloc[ts_ix,:][feat_cols]\n",
    "    data_4a1_ts_y = data_4a.iloc[ts_ix,:].meter_reading\n",
    "    lgbm_hat = (gbm_regress.predict(data_4a1_ts_x, num_iteration=gbm_regress.best_iteration))\n",
    "    nrmlse = root_mean_squared_log_error(lgbm_hat, data_4a1_ts_y)\n",
    "    print('Iteration done, nrmlse:', nrmlse)\n",
    "    nrmlses.append(nrmlse)\n",
    "print('FinalScore:', sum(nrmlses) / K)"
   ]
  },
  {
   "cell_type": "code",
   "execution_count": 34,
   "metadata": {},
   "outputs": [],
   "source": [
    "feat_cols = ['building_id_mean', 'dt_m', 'dt_w', 'dt_d', 'dt_hour', \n",
    "             'dt_day_week', 'dt_day_month', 'dt_week_month']"
   ]
  },
  {
   "cell_type": "code",
   "execution_count": 35,
   "metadata": {},
   "outputs": [
    {
     "name": "stderr",
     "output_type": "stream",
     "text": [
      "/Library/Frameworks/Python.framework/Versions/3.6/lib/python3.6/site-packages/ipykernel_launcher.py:6: SettingWithCopyWarning: \n",
      "A value is trying to be set on a copy of a slice from a DataFrame.\n",
      "Try using .loc[row_indexer,col_indexer] = value instead\n",
      "\n",
      "See the caveats in the documentation: http://pandas.pydata.org/pandas-docs/stable/indexing.html#indexing-view-versus-copy\n",
      "  \n",
      "/Library/Frameworks/Python.framework/Versions/3.6/lib/python3.6/site-packages/ipykernel_launcher.py:10: SettingWithCopyWarning: \n",
      "A value is trying to be set on a copy of a slice from a DataFrame.\n",
      "Try using .loc[row_indexer,col_indexer] = value instead\n",
      "\n",
      "See the caveats in the documentation: http://pandas.pydata.org/pandas-docs/stable/indexing.html#indexing-view-versus-copy\n",
      "  # Remove the CWD from sys.path while we load stuff.\n"
     ]
    },
    {
     "name": "stdout",
     "output_type": "stream",
     "text": [
      "Training until validation scores don't improve for 40 rounds\n",
      "[20]\ttraining's rmse: 112.337\tvalid_1's rmse: 118.492\n",
      "[40]\ttraining's rmse: 51.4967\tvalid_1's rmse: 72.0433\n",
      "[60]\ttraining's rmse: 37.3209\tvalid_1's rmse: 65.7944\n",
      "[80]\ttraining's rmse: 32.9332\tvalid_1's rmse: 64.999\n",
      "[100]\ttraining's rmse: 31.0165\tvalid_1's rmse: 64.8043\n",
      "[120]\ttraining's rmse: 29.6872\tvalid_1's rmse: 64.511\n",
      "[140]\ttraining's rmse: 28.9264\tvalid_1's rmse: 64.4965\n",
      "[160]\ttraining's rmse: 28.0849\tvalid_1's rmse: 64.5002\n",
      "[180]\ttraining's rmse: 27.5121\tvalid_1's rmse: 64.4966\n",
      "Early stopping, best iteration is:\n",
      "[157]\ttraining's rmse: 28.1908\tvalid_1's rmse: 64.4698\n"
     ]
    },
    {
     "name": "stderr",
     "output_type": "stream",
     "text": [
      "/Library/Frameworks/Python.framework/Versions/3.6/lib/python3.6/site-packages/ipykernel_launcher.py:18: SettingWithCopyWarning: \n",
      "A value is trying to be set on a copy of a slice from a DataFrame.\n",
      "Try using .loc[row_indexer,col_indexer] = value instead\n",
      "\n",
      "See the caveats in the documentation: http://pandas.pydata.org/pandas-docs/stable/indexing.html#indexing-view-versus-copy\n"
     ]
    },
    {
     "name": "stdout",
     "output_type": "stream",
     "text": [
      "Iteration done, nrmlse: 0.693077635919569\n",
      "Training until validation scores don't improve for 40 rounds\n",
      "[20]\ttraining's rmse: 113.693\tvalid_1's rmse: 118.406\n",
      "[40]\ttraining's rmse: 53.3716\tvalid_1's rmse: 71.35\n",
      "[60]\ttraining's rmse: 39.5289\tvalid_1's rmse: 65.0783\n",
      "[80]\ttraining's rmse: 35.1127\tvalid_1's rmse: 64.3017\n",
      "[100]\ttraining's rmse: 33.1106\tvalid_1's rmse: 64.1773\n",
      "[120]\ttraining's rmse: 31.7411\tvalid_1's rmse: 64.0255\n",
      "[140]\ttraining's rmse: 30.7709\tvalid_1's rmse: 64.0641\n",
      "[160]\ttraining's rmse: 29.8778\tvalid_1's rmse: 63.9273\n",
      "[180]\ttraining's rmse: 29.2434\tvalid_1's rmse: 63.9656\n",
      "[200]\ttraining's rmse: 28.6719\tvalid_1's rmse: 63.9739\n",
      "[220]\ttraining's rmse: 28.3393\tvalid_1's rmse: 64.0868\n",
      "Early stopping, best iteration is:\n",
      "[195]\ttraining's rmse: 28.839\tvalid_1's rmse: 63.9184\n",
      "Iteration done, nrmlse: 0.6007772016813125\n",
      "Training until validation scores don't improve for 40 rounds\n",
      "[20]\ttraining's rmse: 111.658\tvalid_1's rmse: 118.205\n",
      "[40]\ttraining's rmse: 49.7047\tvalid_1's rmse: 71.5294\n",
      "[60]\ttraining's rmse: 35.411\tvalid_1's rmse: 65.0243\n",
      "[80]\ttraining's rmse: 31.2376\tvalid_1's rmse: 64.0612\n",
      "[100]\ttraining's rmse: 29.71\tvalid_1's rmse: 63.7971\n",
      "[120]\ttraining's rmse: 28.6444\tvalid_1's rmse: 63.7491\n",
      "[140]\ttraining's rmse: 27.9577\tvalid_1's rmse: 63.9055\n",
      "Early stopping, best iteration is:\n",
      "[110]\ttraining's rmse: 29.2608\tvalid_1's rmse: 63.6459\n",
      "Iteration done, nrmlse: 0.9847686796083412\n",
      "Training until validation scores don't improve for 40 rounds\n",
      "[20]\ttraining's rmse: 111.807\tvalid_1's rmse: 118.576\n",
      "[40]\ttraining's rmse: 50.4923\tvalid_1's rmse: 71.3797\n",
      "[60]\ttraining's rmse: 36.2878\tvalid_1's rmse: 64.4099\n",
      "[80]\ttraining's rmse: 32.0344\tvalid_1's rmse: 63.4368\n",
      "[100]\ttraining's rmse: 30.2631\tvalid_1's rmse: 63.5116\n",
      "[120]\ttraining's rmse: 29.0753\tvalid_1's rmse: 63.5846\n",
      "Early stopping, best iteration is:\n",
      "[92]\ttraining's rmse: 30.6918\tvalid_1's rmse: 63.3974\n",
      "Iteration done, nrmlse: 1.5129121845143578\n",
      "Training until validation scores don't improve for 40 rounds\n",
      "[20]\ttraining's rmse: 112.253\tvalid_1's rmse: 139.234\n",
      "[40]\ttraining's rmse: 50.9198\tvalid_1's rmse: 111.093\n",
      "[60]\ttraining's rmse: 36.7682\tvalid_1's rmse: 110.539\n",
      "[80]\ttraining's rmse: 32.5435\tvalid_1's rmse: 111.465\n",
      "Early stopping, best iteration is:\n",
      "[55]\ttraining's rmse: 38.6615\tvalid_1's rmse: 110.414\n",
      "Iteration done, nrmlse: 0.9100956901248389\n",
      "FinalScore: 0.9403262783696839\n"
     ]
    }
   ],
   "source": [
    "# Simple building_id mean\n",
    "nrmlses = []\n",
    "for tr_ix, ts_ix in kf.split(data_4a):\n",
    "    full_training_data = data_4a.iloc[tr_ix[:int(len(tr_ix)*.9)],:]\n",
    "    building_id_means = full_training_data.groupby('building_id')['meter_reading'].mean().to_dict()\n",
    "    full_training_data['building_id_mean'] = full_training_data.building_id.apply(lambda x: building_id_means[x])\n",
    "    data_4a2_tr_x = full_training_data[feat_cols]\n",
    "    data_4a2_tr_y = data_4a.iloc[tr_ix[:int(len(tr_ix)*.9)],:].meter_reading\n",
    "    data_4a2_val_x = data_4a.iloc[tr_ix[int(len(tr_ix)*.9):],:]\n",
    "    data_4a2_val_x['building_id_mean'] = data_4a2_val_x.building_id.apply(lambda x: building_id_means[x])\n",
    "    data_4a2_val_x = data_4a2_val_x[feat_cols]\n",
    "    data_4a2_val_y = data_4a.iloc[tr_ix[int(len(tr_ix)*.9):],:].meter_reading\n",
    "    lgb_train = lgb.Dataset(data_4a2_tr_x, data_4a2_tr_y)\n",
    "    lgb_eval = lgb.Dataset(data_4a2_val_x, data_4a2_val_y)\n",
    "    gbm_regress = lgb.train(lgb_reg_params, lgb_train, num_boost_round=2000, valid_sets=(lgb_train, lgb_eval),\n",
    "                            early_stopping_rounds=20, verbose_eval = 20)\n",
    "    data_4a2_ts_x = data_4a.iloc[ts_ix,:]\n",
    "    data_4a2_ts_x['building_id_mean'] = data_4a2_ts_x.building_id.apply(lambda x: building_id_means[x])\n",
    "    data_4a2_ts_x = data_4a2_ts_x[feat_cols]\n",
    "    data_4a2_ts_y = data_4a.iloc[ts_ix,:].meter_reading\n",
    "    lgbm_hat = (gbm_regress.predict(data_4a2_ts_x, num_iteration=gbm_regress.best_iteration))\n",
    "    nrmlse = root_mean_squared_log_error(lgbm_hat, data_4a2_ts_y)\n",
    "    print('Iteration done, nrmlse:', nrmlse)\n",
    "    nrmlses.append(nrmlse)\n",
    "print('FinalScore:', sum(nrmlses) / K)"
   ]
  },
  {
   "cell_type": "code",
   "execution_count": 110,
   "metadata": {},
   "outputs": [
    {
     "name": "stderr",
     "output_type": "stream",
     "text": [
      "/Library/Frameworks/Python.framework/Versions/3.6/lib/python3.6/site-packages/lightgbm/engine.py:153: UserWarning: Found `early_stopping_rounds` in params. Will use it instead of argument\n",
      "  warnings.warn(\"Found `{}` in params. Will use it instead of argument\".format(alias))\n"
     ]
    },
    {
     "name": "stdout",
     "output_type": "stream",
     "text": [
      "Training until validation scores don't improve for 40 rounds\n",
      "[20]\ttraining's rmse: 68.6821\tvalid_1's rmse: 80.9615\n",
      "[40]\ttraining's rmse: 38.3213\tvalid_1's rmse: 64.131\n",
      "[60]\ttraining's rmse: 32.5358\tvalid_1's rmse: 63.6326\n",
      "[80]\ttraining's rmse: 29.5448\tvalid_1's rmse: 64.1143\n",
      "Early stopping, best iteration is:\n",
      "[49]\ttraining's rmse: 34.787\tvalid_1's rmse: 63.4503\n",
      "Iteration done, nrmlse: 0.7158289917549626\n",
      "Training until validation scores don't improve for 40 rounds\n",
      "[20]\ttraining's rmse: 70.3321\tvalid_1's rmse: 80.4299\n",
      "[40]\ttraining's rmse: 40.9483\tvalid_1's rmse: 63.8159\n",
      "[60]\ttraining's rmse: 34.7831\tvalid_1's rmse: 63.0026\n",
      "[80]\ttraining's rmse: 31.7889\tvalid_1's rmse: 63.6859\n",
      "Early stopping, best iteration is:\n",
      "[55]\ttraining's rmse: 35.9387\tvalid_1's rmse: 62.9315\n"
     ]
    },
    {
     "name": "stderr",
     "output_type": "stream",
     "text": [
      "/Users/Ric/_personal/x_tsm/tsm/eval_metrics.py:5: RuntimeWarning: invalid value encountered in log\n",
      "  return np.sqrt(np.sum(np.power(np.log(predicted + 1) - np.log(actual + 1), 2)) / len(actual))\n"
     ]
    },
    {
     "name": "stdout",
     "output_type": "stream",
     "text": [
      "Iteration done, nrmlse: 0.5852495433240882\n",
      "Training until validation scores don't improve for 40 rounds\n",
      "[20]\ttraining's rmse: 66.9308\tvalid_1's rmse: 80.8209\n",
      "[40]\ttraining's rmse: 35.7994\tvalid_1's rmse: 63.383\n",
      "[60]\ttraining's rmse: 30.8471\tvalid_1's rmse: 62.7939\n",
      "[80]\ttraining's rmse: 28.5576\tvalid_1's rmse: 63.201\n",
      "Early stopping, best iteration is:\n",
      "[54]\ttraining's rmse: 31.7197\tvalid_1's rmse: 62.6625\n",
      "Iteration done, nrmlse: 0.9855014809296719\n",
      "Training until validation scores don't improve for 40 rounds\n",
      "[20]\ttraining's rmse: 67.4123\tvalid_1's rmse: 80.7894\n",
      "[40]\ttraining's rmse: 37.233\tvalid_1's rmse: 63.6767\n",
      "[60]\ttraining's rmse: 31.8162\tvalid_1's rmse: 62.989\n",
      "[80]\ttraining's rmse: 29.307\tvalid_1's rmse: 63.6074\n",
      "[100]\ttraining's rmse: 27.6085\tvalid_1's rmse: 64.1073\n",
      "Early stopping, best iteration is:\n",
      "[63]\ttraining's rmse: 31.4281\tvalid_1's rmse: 62.9437\n",
      "Iteration done, nrmlse: 1.5148254891166526\n",
      "Training until validation scores don't improve for 40 rounds\n",
      "[20]\ttraining's rmse: 68.1457\tvalid_1's rmse: 116.533\n",
      "[40]\ttraining's rmse: 38.0083\tvalid_1's rmse: 111.267\n",
      "[60]\ttraining's rmse: 32.6644\tvalid_1's rmse: 112.745\n",
      "Early stopping, best iteration is:\n",
      "[36]\ttraining's rmse: 40.4073\tvalid_1's rmse: 110.574\n",
      "Iteration done, nrmlse: 0.8942896093772987\n",
      "FinalScore: 0.9391390229005347\n"
     ]
    }
   ],
   "source": [
    "# Building_id mean by month\n",
    "nrmlses = []\n",
    "for tr_ix, ts_ix in kf.split(data_4a):\n",
    "    # Building Means\n",
    "    full_training_data = data_4a.iloc[tr_ix[:int(len(tr_ix)*.9)],:]\n",
    "    building_id_means = full_training_data.groupby(['building_id', 'dt_m'], as_index=False)['meter_reading'].mean()\n",
    "    bid_dicts = {}\n",
    "    for bid in list(set(building_id_means.building_id)):\n",
    "        bid_data = building_id_means[building_id_means.building_id == bid][['dt_m', 'meter_reading']].to_dict('records')\n",
    "        bid_dicts[bid] = bid_data\n",
    "    # Using Means\n",
    "    bid_means_tr = pd.DataFrame(full_training_data.building_id.apply(lambda x: [x['meter_reading'] for x in bid_dicts[x]]).values.tolist(),\n",
    "                      columns=['building_id_dt_m_{}_mean'.format(m) for m in [mm['dt_m'] for mm in bid_dicts[bid]]]).reset_index(drop=True)\n",
    "    data_4a2_tr_x = full_training_data.reset_index(drop=True).merge(bid_means_tr, left_index=True, right_index=True)\n",
    "    data_4a2_tr_x = data_4a2_tr_x[[x for x in list(data_4a2_tr_x) if x not in ['meter_reading', 'building_id']]].fillna(0)\n",
    "    data_4a2_tr_y = data_4a.iloc[tr_ix[:int(len(tr_ix)*.9)],:].meter_reading\n",
    "    \n",
    "    data_4a2_val_x = data_4a.iloc[tr_ix[int(len(tr_ix)*.9):],:]\n",
    "    bid_means_val = pd.DataFrame(data_4a2_val_x.building_id.apply(lambda x: [x['meter_reading'] for x in bid_dicts[x]]).values.tolist(),\n",
    "                  columns=['building_id_dt_m_{}_mean'.format(m) for m in [mm['dt_m'] for mm in bid_dicts[bid]]]).reset_index(drop=True)\n",
    "    data_4a2_val_x = data_4a2_val_x.reset_index(drop=True).merge(bid_means_val, left_index=True, right_index=True)\n",
    "    data_4a2_val_x = data_4a2_val_x[[x for x in list(data_4a2_val_x) if x not in ['meter_reading', 'building_id']]].fillna(0)\n",
    "    data_4a2_val_y = data_4a.iloc[tr_ix[int(len(tr_ix)*.9):],:].meter_reading\n",
    "    \n",
    "    lgb_train = lgb.Dataset(data_4a2_tr_x, data_4a2_tr_y)\n",
    "    lgb_eval = lgb.Dataset(data_4a2_val_x, data_4a2_val_y)\n",
    "    gbm_regress = lgb.train(lgb_reg_params, lgb_train, num_boost_round=2000, valid_sets=(lgb_train, lgb_eval),\n",
    "                            early_stopping_rounds=20, verbose_eval = 20)\n",
    "    \n",
    "    data_4a2_ts_x = data_4a.iloc[ts_ix,:]\n",
    "    bid_means_ts = pd.DataFrame(data_4a2_ts_x.building_id.apply(lambda x: [x['meter_reading'] for x in bid_dicts[x]]).values.tolist(),\n",
    "                  columns=['building_id_dt_m_{}_mean'.format(m) for m in [mm['dt_m'] for mm in bid_dicts[bid]]]).reset_index(drop=True)\n",
    "    data_4a2_ts_x = data_4a2_ts_x.reset_index(drop=True).merge(bid_means_ts, left_index=True, right_index=True)\n",
    "    data_4a2_ts_x = data_4a2_ts_x[[x for x in list(data_4a2_ts_x) if x not in ['meter_reading', 'building_id']]].fillna(0)\n",
    "    data_4a2_ts_y = data_4a.iloc[ts_ix,:].meter_reading\n",
    "    \n",
    "    lgbm_hat = (gbm_regress.predict(data_4a2_ts_x, num_iteration=gbm_regress.best_iteration))\n",
    "    nrmlse = root_mean_squared_log_error(lgbm_hat, data_4a2_ts_y)\n",
    "    print('Iteration done, nrmlse:', nrmlse)\n",
    "    nrmlses.append(nrmlse)\n",
    "print('FinalScore:', sum(nrmlses) / K)"
   ]
  },
  {
   "cell_type": "code",
   "execution_count": 111,
   "metadata": {},
   "outputs": [
    {
     "name": "stdout",
     "output_type": "stream",
     "text": [
      "Training until validation scores don't improve for 40 rounds\n",
      "[20]\ttraining's rmse: 69.2653\tvalid_1's rmse: 80.8902\n",
      "[40]\ttraining's rmse: 38.7019\tvalid_1's rmse: 64.2818\n",
      "[60]\ttraining's rmse: 32.5261\tvalid_1's rmse: 64.0305\n",
      "[80]\ttraining's rmse: 29.3015\tvalid_1's rmse: 64.6076\n",
      "Early stopping, best iteration is:\n",
      "[52]\ttraining's rmse: 34.2409\tvalid_1's rmse: 63.7832\n",
      "Iteration done, nrmlse: 0.714107501741141\n",
      "Training until validation scores don't improve for 40 rounds\n",
      "[20]\ttraining's rmse: 70.4381\tvalid_1's rmse: 81.3825\n",
      "[40]\ttraining's rmse: 40.782\tvalid_1's rmse: 64.1236\n",
      "[60]\ttraining's rmse: 34.4132\tvalid_1's rmse: 63.4819\n",
      "[80]\ttraining's rmse: 31.2167\tvalid_1's rmse: 63.7218\n",
      "Early stopping, best iteration is:\n",
      "[58]\ttraining's rmse: 34.6982\tvalid_1's rmse: 63.3677\n",
      "Iteration done, nrmlse: 0.5810043348982631\n",
      "Training until validation scores don't improve for 40 rounds\n",
      "[20]\ttraining's rmse: 67.1101\tvalid_1's rmse: 81.468\n",
      "[40]\ttraining's rmse: 35.8849\tvalid_1's rmse: 64.0749\n",
      "[60]\ttraining's rmse: 30.514\tvalid_1's rmse: 63.3977\n",
      "[80]\ttraining's rmse: 28.3651\tvalid_1's rmse: 63.8615\n",
      "Early stopping, best iteration is:\n",
      "[55]\ttraining's rmse: 31.3407\tvalid_1's rmse: 63.2359\n",
      "Iteration done, nrmlse: 0.9818732531964512\n",
      "Training until validation scores don't improve for 40 rounds\n",
      "[20]\ttraining's rmse: 67.795\tvalid_1's rmse: 80.9127\n",
      "[40]\ttraining's rmse: 37.6416\tvalid_1's rmse: 63.8729\n",
      "[60]\ttraining's rmse: 31.5378\tvalid_1's rmse: 62.7872\n",
      "[80]\ttraining's rmse: 28.9013\tvalid_1's rmse: 63.3442\n",
      "Early stopping, best iteration is:\n",
      "[59]\ttraining's rmse: 31.6899\tvalid_1's rmse: 62.7547\n",
      "Iteration done, nrmlse: 1.5199848647032652\n",
      "Training until validation scores don't improve for 40 rounds\n",
      "[20]\ttraining's rmse: 68.5884\tvalid_1's rmse: 115.528\n",
      "[40]\ttraining's rmse: 38.7309\tvalid_1's rmse: 109.591\n",
      "[60]\ttraining's rmse: 32.4914\tvalid_1's rmse: 111.606\n",
      "Early stopping, best iteration is:\n",
      "[34]\ttraining's rmse: 42.6794\tvalid_1's rmse: 109.372\n",
      "Iteration done, nrmlse: 0.9137026654549014\n",
      "FinalScore: 0.9421345239988044\n"
     ]
    }
   ],
   "source": [
    "# Building_id mean by week of the year\n",
    "nrmlses = []\n",
    "for tr_ix, ts_ix in kf.split(data_4a):\n",
    "    # Building Means\n",
    "    full_training_data = data_4a.iloc[tr_ix[:int(len(tr_ix)*.9)],:]\n",
    "    building_id_means = full_training_data.groupby(['building_id', 'dt_w'], as_index=False)['meter_reading'].mean()\n",
    "    bid_dicts = {}\n",
    "    for bid in list(set(building_id_means.building_id)):\n",
    "        bid_data = building_id_means[building_id_means.building_id == bid][['dt_w', 'meter_reading']].to_dict('records')\n",
    "        bid_dicts[bid] = bid_data\n",
    "    # Using Means\n",
    "    bid_means_tr = pd.DataFrame(full_training_data.building_id.apply(lambda x: [x['meter_reading'] for x in bid_dicts[x]]).values.tolist(),\n",
    "                      columns=['building_id_dt_w_{}_mean'.format(m) for m in [mm['dt_w'] for mm in bid_dicts[bid]]]).reset_index(drop=True)\n",
    "    data_4a2_tr_x = full_training_data.reset_index(drop=True).merge(bid_means_tr, left_index=True, right_index=True)\n",
    "    data_4a2_tr_x = data_4a2_tr_x[[x for x in list(data_4a2_tr_x) if x not in ['meter_reading', 'building_id']]].fillna(0)\n",
    "    data_4a2_tr_y = data_4a.iloc[tr_ix[:int(len(tr_ix)*.9)],:].meter_reading\n",
    "    \n",
    "    data_4a2_val_x = data_4a.iloc[tr_ix[int(len(tr_ix)*.9):],:]\n",
    "    bid_means_val = pd.DataFrame(data_4a2_val_x.building_id.apply(lambda x: [x['meter_reading'] for x in bid_dicts[x]]).values.tolist(),\n",
    "                  columns=['building_id_dt_w_{}_mean'.format(m) for m in [mm['dt_w'] for mm in bid_dicts[bid]]]).reset_index(drop=True)\n",
    "    data_4a2_val_x = data_4a2_val_x.reset_index(drop=True).merge(bid_means_val, left_index=True, right_index=True)\n",
    "    data_4a2_val_x = data_4a2_val_x[[x for x in list(data_4a2_val_x) if x not in ['meter_reading', 'building_id']]].fillna(0)\n",
    "    data_4a2_val_y = data_4a.iloc[tr_ix[int(len(tr_ix)*.9):],:].meter_reading\n",
    "    \n",
    "    lgb_train = lgb.Dataset(data_4a2_tr_x, data_4a2_tr_y)\n",
    "    lgb_eval = lgb.Dataset(data_4a2_val_x, data_4a2_val_y)\n",
    "    gbm_regress = lgb.train(lgb_reg_params, lgb_train, num_boost_round=2000, valid_sets=(lgb_train, lgb_eval),\n",
    "                            early_stopping_rounds=20, verbose_eval = 20)\n",
    "    \n",
    "    data_4a2_ts_x = data_4a.iloc[ts_ix,:]\n",
    "    bid_means_ts = pd.DataFrame(data_4a2_ts_x.building_id.apply(lambda x: [x['meter_reading'] for x in bid_dicts[x]]).values.tolist(),\n",
    "                  columns=['building_id_dt_w_{}_mean'.format(m) for m in [mm['dt_w'] for mm in bid_dicts[bid]]]).reset_index(drop=True)\n",
    "    data_4a2_ts_x = data_4a2_ts_x.reset_index(drop=True).merge(bid_means_ts, left_index=True, right_index=True)\n",
    "    data_4a2_ts_x = data_4a2_ts_x[[x for x in list(data_4a2_ts_x) if x not in ['meter_reading', 'building_id']]].fillna(0)\n",
    "    data_4a2_ts_y = data_4a.iloc[ts_ix,:].meter_reading\n",
    "    \n",
    "    lgbm_hat = (gbm_regress.predict(data_4a2_ts_x, num_iteration=gbm_regress.best_iteration))\n",
    "    nrmlse = root_mean_squared_log_error(lgbm_hat, data_4a2_ts_y)\n",
    "    print('Iteration done, nrmlse:', nrmlse)\n",
    "    nrmlses.append(nrmlse)\n",
    "print('FinalScore:', sum(nrmlses) / K)"
   ]
  },
  {
   "cell_type": "code",
   "execution_count": 120,
   "metadata": {},
   "outputs": [
    {
     "name": "stderr",
     "output_type": "stream",
     "text": [
      "/Library/Frameworks/Python.framework/Versions/3.6/lib/python3.6/site-packages/lightgbm/engine.py:153: UserWarning: Found `early_stopping_rounds` in params. Will use it instead of argument\n",
      "  warnings.warn(\"Found `{}` in params. Will use it instead of argument\".format(alias))\n"
     ]
    },
    {
     "name": "stdout",
     "output_type": "stream",
     "text": [
      "Training until validation scores don't improve for 40 rounds\n",
      "[20]\ttraining's rmse: 69.0254\tvalid_1's rmse: 80.4186\n",
      "[40]\ttraining's rmse: 38.622\tvalid_1's rmse: 63.77\n",
      "[60]\ttraining's rmse: 32.5158\tvalid_1's rmse: 63.244\n",
      "[80]\ttraining's rmse: 29.4813\tvalid_1's rmse: 63.95\n",
      "Early stopping, best iteration is:\n",
      "[52]\ttraining's rmse: 34.2986\tvalid_1's rmse: 63.1415\n",
      "Iteration done, nrmlse: 0.7169357400494929\n",
      "Training until validation scores don't improve for 40 rounds\n",
      "[20]\ttraining's rmse: 70.4836\tvalid_1's rmse: 80.7937\n",
      "[40]\ttraining's rmse: 40.6255\tvalid_1's rmse: 63.7733\n",
      "[60]\ttraining's rmse: 34.4261\tvalid_1's rmse: 63.3333\n",
      "[80]\ttraining's rmse: 31.2054\tvalid_1's rmse: 63.52\n",
      "[100]\ttraining's rmse: 29.0336\tvalid_1's rmse: 64.2659\n",
      "Early stopping, best iteration is:\n",
      "[65]\ttraining's rmse: 33.4895\tvalid_1's rmse: 63.1078\n"
     ]
    },
    {
     "name": "stderr",
     "output_type": "stream",
     "text": [
      "/Users/Ric/_personal/x_tsm/tsm/eval_metrics.py:5: RuntimeWarning: invalid value encountered in log\n",
      "  return np.sqrt(np.sum(np.power(np.log(predicted + 1) - np.log(actual + 1), 2)) / len(actual))\n"
     ]
    },
    {
     "name": "stdout",
     "output_type": "stream",
     "text": [
      "Iteration done, nrmlse: 0.5915644525215957\n",
      "Training until validation scores don't improve for 40 rounds\n",
      "[20]\ttraining's rmse: 67.0306\tvalid_1's rmse: 80.4954\n",
      "[40]\ttraining's rmse: 36.0095\tvalid_1's rmse: 63.2581\n",
      "[60]\ttraining's rmse: 30.6872\tvalid_1's rmse: 63.0507\n",
      "[80]\ttraining's rmse: 28.3548\tvalid_1's rmse: 63.5272\n",
      "Early stopping, best iteration is:\n",
      "[47]\ttraining's rmse: 33.3043\tvalid_1's rmse: 62.6665\n",
      "Iteration done, nrmlse: 1.011173306404626\n",
      "Training until validation scores don't improve for 40 rounds\n",
      "[20]\ttraining's rmse: 67.6534\tvalid_1's rmse: 81.258\n",
      "[40]\ttraining's rmse: 37.1633\tvalid_1's rmse: 64.183\n",
      "[60]\ttraining's rmse: 31.6811\tvalid_1's rmse: 63.5877\n",
      "[80]\ttraining's rmse: 28.9484\tvalid_1's rmse: 64.1188\n",
      "Early stopping, best iteration is:\n",
      "[51]\ttraining's rmse: 33.3169\tvalid_1's rmse: 63.2353\n",
      "Iteration done, nrmlse: 1.5775627920723108\n",
      "Training until validation scores don't improve for 40 rounds\n",
      "[20]\ttraining's rmse: 68.1208\tvalid_1's rmse: 116.587\n",
      "[40]\ttraining's rmse: 37.9199\tvalid_1's rmse: 110.874\n",
      "[60]\ttraining's rmse: 32.1819\tvalid_1's rmse: 112.741\n",
      "Early stopping, best iteration is:\n",
      "[35]\ttraining's rmse: 41.1968\tvalid_1's rmse: 110.582\n",
      "Iteration done, nrmlse: 0.9089823294897839\n",
      "FinalScore: 0.9612437241075618\n"
     ]
    }
   ],
   "source": [
    "# Building_id mean by month\n",
    "nrmlses = []\n",
    "for tr_ix, ts_ix in kf.split(data_4a):\n",
    "    # Building Means\n",
    "    full_training_data = data_4a.iloc[tr_ix[:int(len(tr_ix)*.9)],:]\n",
    "    building_id_means = full_training_data.groupby(['building_id', 'dt_m'], as_index=False).agg({'meter_reading': 'mean'})\n",
    "    bid_dicts = {}\n",
    "    for bid in list(set(building_id_means.building_id)):\n",
    "        bid_data = building_id_means[building_id_means.building_id == bid][['dt_m', 'meter_reading']].to_dict('records')\n",
    "        bid_dicts[bid] = bid_data\n",
    "    building_id_stds = full_training_data.groupby(['building_id', 'dt_m'], as_index=False).agg({'meter_reading': 'std'})\n",
    "    bid_dicts_s = {}\n",
    "    for bids in list(set(building_id_stds.building_id)):\n",
    "        bid_datas = building_id_stds[building_id_stds.building_id == bids][['dt_m', 'meter_reading']].to_dict('records')\n",
    "        bid_dicts_s[bids] = bid_datas\n",
    "    # Using Means / STDS\n",
    "    bid_means_tr = pd.DataFrame(full_training_data.building_id.apply(lambda x: [x['meter_reading'] for x in bid_dicts[x]]).values.tolist(),\n",
    "                      columns=['building_id_dt_m_{}_mean'.format(m) for m in [mm['dt_m'] for mm in bid_dicts[bid]]]).reset_index(drop=True)\n",
    "    data_4a2_tr_x = full_training_data.reset_index(drop=True).merge(bid_means_tr, left_index=True, right_index=True)\n",
    "    bid_std_tr = pd.DataFrame(full_training_data.building_id.apply(lambda x: [x['meter_reading'] for x in bid_dicts_s[x]]).values.tolist(),\n",
    "                      columns=['building_id_dt_m_{}_std'.format(m) for m in [mm['dt_m'] for mm in bid_dicts_s[bids]]]).reset_index(drop=True)\n",
    "    data_4a2_tr_x = data_4a2_tr_x.reset_index(drop=True).merge(bid_std_tr, left_index=True, right_index=True)\n",
    "    data_4a2_tr_x = data_4a2_tr_x[[x for x in list(data_4a2_tr_x) if x not in ['meter_reading', 'building_id']]].fillna(0)\n",
    "    data_4a2_tr_y = data_4a.iloc[tr_ix[:int(len(tr_ix)*.9)],:].meter_reading\n",
    "    \n",
    "    data_4a2_val_x = data_4a.iloc[tr_ix[int(len(tr_ix)*.9):],:]\n",
    "    bid_means_val = pd.DataFrame(data_4a2_val_x.building_id.apply(lambda x: [x['meter_reading'] for x in bid_dicts[x]]).values.tolist(),\n",
    "                  columns=['building_id_dt_m_{}_mean'.format(m) for m in [mm['dt_m'] for mm in bid_dicts[bid]]]).reset_index(drop=True)\n",
    "    data_4a2_val_x = data_4a2_val_x.reset_index(drop=True).merge(bid_means_val, left_index=True, right_index=True)\n",
    "    bid_std_val = pd.DataFrame(data_4a2_val_x.building_id.apply(lambda x: [x['meter_reading'] for x in bid_dicts_s[x]]).values.tolist(),\n",
    "                      columns=['building_id_dt_m_{}_std'.format(m) for m in [mm['dt_m'] for mm in bid_dicts_s[bids]]]).reset_index(drop=True)\n",
    "    data_4a2_val_x = data_4a2_val_x.reset_index(drop=True).merge(bid_std_val, left_index=True, right_index=True)\n",
    "    data_4a2_val_x = data_4a2_val_x[[x for x in list(data_4a2_val_x) if x not in ['meter_reading', 'building_id']]].fillna(0)\n",
    "    data_4a2_val_y = data_4a.iloc[tr_ix[int(len(tr_ix)*.9):],:].meter_reading\n",
    "    \n",
    "    lgb_train = lgb.Dataset(data_4a2_tr_x, data_4a2_tr_y)\n",
    "    lgb_eval = lgb.Dataset(data_4a2_val_x, data_4a2_val_y)\n",
    "    gbm_regress = lgb.train(lgb_reg_params, lgb_train, num_boost_round=2000, valid_sets=(lgb_train, lgb_eval),\n",
    "                            early_stopping_rounds=20, verbose_eval = 20)\n",
    "    \n",
    "    data_4a2_ts_x = data_4a.iloc[ts_ix,:]\n",
    "    bid_means_ts = pd.DataFrame(data_4a2_ts_x.building_id.apply(lambda x: [x['meter_reading'] for x in bid_dicts[x]]).values.tolist(),\n",
    "                  columns=['building_id_dt_m_{}_mean'.format(m) for m in [mm['dt_m'] for mm in bid_dicts[bid]]]).reset_index(drop=True)\n",
    "    data_4a2_ts_x = data_4a2_ts_x.reset_index(drop=True).merge(bid_means_ts, left_index=True, right_index=True)\n",
    "    bid_std_val = pd.DataFrame(data_4a2_ts_x.building_id.apply(lambda x: [x['meter_reading'] for x in bid_dicts_s[x]]).values.tolist(),\n",
    "                      columns=['building_id_dt_m_{}_std'.format(m) for m in [mm['dt_m'] for mm in bid_dicts_s[bids]]]).reset_index(drop=True)\n",
    "    data_4a2_val_x = data_4a2_ts_x.reset_index(drop=True).merge(bid_std_val, left_index=True, right_index=True)\n",
    "    data_4a2_ts_x = data_4a2_ts_x[[x for x in list(data_4a2_ts_x) if x not in ['meter_reading', 'building_id']]].fillna(0)\n",
    "    data_4a2_ts_y = data_4a.iloc[ts_ix,:].meter_reading\n",
    "    \n",
    "    lgbm_hat = (gbm_regress.predict(data_4a2_ts_x, num_iteration=gbm_regress.best_iteration))\n",
    "    nrmlse = root_mean_squared_log_error(lgbm_hat, data_4a2_ts_y)\n",
    "    print('Iteration done, nrmlse:', nrmlse)\n",
    "    nrmlses.append(nrmlse)\n",
    "print('FinalScore:', sum(nrmlses) / K)"
   ]
  },
  {
   "cell_type": "code",
   "execution_count": null,
   "metadata": {},
   "outputs": [],
   "source": []
  }
 ],
 "metadata": {
  "kernelspec": {
   "display_name": "Python 3",
   "language": "python",
   "name": "python3"
  },
  "language_info": {
   "codemirror_mode": {
    "name": "ipython",
    "version": 3
   },
   "file_extension": ".py",
   "mimetype": "text/x-python",
   "name": "python",
   "nbconvert_exporter": "python",
   "pygments_lexer": "ipython3",
   "version": "3.6.1"
  }
 },
 "nbformat": 4,
 "nbformat_minor": 2
}
