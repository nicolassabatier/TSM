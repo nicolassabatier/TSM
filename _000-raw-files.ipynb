{
 "cells": [
  {
   "cell_type": "markdown",
   "metadata": {},
   "source": [
    "# Step 0) Compress memory usage of each raw file"
   ]
  },
  {
   "cell_type": "code",
   "execution_count": 1,
   "metadata": {},
   "outputs": [],
   "source": [
    "%load_ext autoreload\n",
    "%autoreload 2"
   ]
  },
  {
   "cell_type": "code",
   "execution_count": 2,
   "metadata": {},
   "outputs": [],
   "source": [
    "from tsm.data_utils import compress_memory_usage"
   ]
  },
  {
   "cell_type": "code",
   "execution_count": 3,
   "metadata": {},
   "outputs": [],
   "source": [
    "import pandas as pd"
   ]
  },
  {
   "cell_type": "code",
   "execution_count": 4,
   "metadata": {},
   "outputs": [],
   "source": [
    "import os"
   ]
  },
  {
   "cell_type": "code",
   "execution_count": 5,
   "metadata": {},
   "outputs": [],
   "source": [
    "import shutil"
   ]
  },
  {
   "cell_type": "code",
   "execution_count": 6,
   "metadata": {},
   "outputs": [],
   "source": [
    "NA_REPLACER = {\n",
    "    'year_built': 9999,\n",
    "    'floor_count': 99,\n",
    "    'air_temperature': 99,\n",
    "    'cloud_coverage': 99,\n",
    "    'dew_temperature': 99,\n",
    "    'precip_depth_1_hr': 999,\n",
    "    'sea_level_pressure': 9999,\n",
    "    'wind_direction': 999,\n",
    "    'wind_speed': 99\n",
    "}"
   ]
  },
  {
   "cell_type": "code",
   "execution_count": 7,
   "metadata": {},
   "outputs": [],
   "source": [
    "def compress_raw_file(file_path: str, outfile: str):\n",
    "    print(\"Compressing\", file_path)\n",
    "    raw_data = pd.read_csv(file_path)\n",
    "    compressed_data, _ = compress_memory_usage(raw_data, NA_REPLACER)\n",
    "    compressed_data.to_pickle(outfile)\n",
    "    print(\"Saved compressed\", outfile)"
   ]
  },
  {
   "cell_type": "code",
   "execution_count": 8,
   "metadata": {},
   "outputs": [],
   "source": [
    "RAW_PATH = 'data/raw'\n",
    "OUT_PATH = 'data/comp'"
   ]
  },
  {
   "cell_type": "code",
   "execution_count": 9,
   "metadata": {},
   "outputs": [
    {
     "name": "stdout",
     "output_type": "stream",
     "text": [
      "Compressing data/raw/weather_train.csv\n"
     ]
    },
    {
     "data": {
      "application/vnd.jupyter.widget-view+json": {
       "model_id": "e233eac0953f4d66b8c0dc6e68c0ba7e",
       "version_major": 2,
       "version_minor": 0
      },
      "text/plain": [
       "HBox(children=(IntProgress(value=0, description='DataFrame: compress_memory_usage', max=9, style=ProgressStyle…"
      ]
     },
     "metadata": {},
     "output_type": "display_data"
    },
    {
     "name": "stdout",
     "output_type": "stream",
     "text": [
      "\n",
      "Memory usage pre-compression was 9.597572326660156\n",
      "Memory usage after-compression was 3.9990596771240234\n",
      "This is  41.66740860097951% of the initial size\n",
      "Saved compressed data/comp/weather_train.pkl\n",
      "Compressing data/raw/train.csv\n"
     ]
    },
    {
     "data": {
      "application/vnd.jupyter.widget-view+json": {
       "model_id": "c34f5a43cf2a4e8ba0760f24d92168db",
       "version_major": 2,
       "version_minor": 0
      },
      "text/plain": [
       "HBox(children=(IntProgress(value=0, description='DataFrame: compress_memory_usage', max=4, style=ProgressStyle…"
      ]
     },
     "metadata": {},
     "output_type": "display_data"
    },
    {
     "name": "stdout",
     "output_type": "stream",
     "text": [
      "\n",
      "Memory usage pre-compression was 616.946533203125\n",
      "Memory usage after-compression was 289.19375228881836\n",
      "This is  46.87501051142198% of the initial size\n",
      "Saved compressed data/comp/train.pkl\n",
      "Compressing data/raw/weather_test.csv\n"
     ]
    },
    {
     "data": {
      "application/vnd.jupyter.widget-view+json": {
       "model_id": "2ae6d975be95454f8d936e6129656b3c",
       "version_major": 2,
       "version_minor": 0
      },
      "text/plain": [
       "HBox(children=(IntProgress(value=0, description='DataFrame: compress_memory_usage', max=9, style=ProgressStyle…"
      ]
     },
     "metadata": {},
     "output_type": "display_data"
    },
    {
     "name": "stdout",
     "output_type": "stream",
     "text": [
      "\n",
      "Memory usage pre-compression was 19.036888122558594\n",
      "Memory usage after-compression was 7.932107925415039\n",
      "This is  41.66704071772918% of the initial size\n",
      "Saved compressed data/comp/weather_test.pkl\n",
      "Compressing data/raw/test.csv\n"
     ]
    },
    {
     "data": {
      "application/vnd.jupyter.widget-view+json": {
       "model_id": "ddd88f2a5e024555a81610cec352e0ec",
       "version_major": 2,
       "version_minor": 0
      },
      "text/plain": [
       "HBox(children=(IntProgress(value=0, description='DataFrame: compress_memory_usage', max=4, style=ProgressStyle…"
      ]
     },
     "metadata": {},
     "output_type": "display_data"
    },
    {
     "name": "stdout",
     "output_type": "stream",
     "text": [
      "\n",
      "Memory usage pre-compression was 1272.5098876953125\n",
      "Memory usage after-compression was 596.4890747070312\n",
      "This is  46.87500509621608% of the initial size\n",
      "Saved compressed data/comp/test.pkl\n",
      "Compressing data/raw/building_metadata.csv\n"
     ]
    },
    {
     "data": {
      "application/vnd.jupyter.widget-view+json": {
       "model_id": "77918cbca7e34542ae3e5992d4f69259",
       "version_major": 2,
       "version_minor": 0
      },
      "text/plain": [
       "HBox(children=(IntProgress(value=0, description='DataFrame: compress_memory_usage', max=6, style=ProgressStyle…"
      ]
     },
     "metadata": {},
     "output_type": "display_data"
    },
    {
     "name": "stdout",
     "output_type": "stream",
     "text": [
      "\n",
      "Memory usage pre-compression was 0.0664520263671875\n",
      "Memory usage after-compression was 0.024995803833007812\n",
      "This is  37.614810562571755% of the initial size\n",
      "Saved compressed data/comp/building_metadata.pkl\n"
     ]
    }
   ],
   "source": [
    "for raw_f in os.listdir(RAW_PATH):\n",
    "        name = raw_f.split('.')[0]\n",
    "        compress_raw_file(os.path.join(RAW_PATH, raw_f), os.path.join(OUT_PATH, name + '.pkl'))"
   ]
  },
  {
   "cell_type": "code",
   "execution_count": 33,
   "metadata": {},
   "outputs": [],
   "source": [
    "shutil.rmtree(RAW_PATH) "
   ]
  },
  {
   "cell_type": "markdown",
   "metadata": {},
   "source": [
    "**fin**"
   ]
  }
 ],
 "metadata": {
  "kernelspec": {
   "display_name": "Python 3",
   "language": "python",
   "name": "python3"
  },
  "language_info": {
   "codemirror_mode": {
    "name": "ipython",
    "version": 3
   },
   "file_extension": ".py",
   "mimetype": "text/x-python",
   "name": "python",
   "nbconvert_exporter": "python",
   "pygments_lexer": "ipython3",
   "version": "3.5.3"
  }
 },
 "nbformat": 4,
 "nbformat_minor": 2
}
