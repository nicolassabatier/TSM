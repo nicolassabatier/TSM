{
 "cells": [
  {
   "cell_type": "code",
   "execution_count": 1,
   "metadata": {},
   "outputs": [],
   "source": [
    "%load_ext autoreload\n",
    "%autoreload 2"
   ]
  },
  {
   "cell_type": "code",
   "execution_count": 2,
   "metadata": {},
   "outputs": [],
   "source": [
    "import pandas as pd\n",
    "from tsm.data_selector import data_subset_by_dict\n",
    "import matplotlib.pyplot as plt\n",
    "import numpy as np"
   ]
  },
  {
   "cell_type": "code",
   "execution_count": 3,
   "metadata": {},
   "outputs": [],
   "source": [
    "train_data = pd.read_pickle('kaggle/input/ashrae-energy-prediction/train.pkl')"
   ]
  },
  {
   "cell_type": "markdown",
   "metadata": {},
   "source": [
    "## Level 3A)\n",
    "* 1 site - X buildings\n",
    "* Meter reading: 0\n",
    "* All features\n",
    "--> Studying the missing values"
   ]
  },
  {
   "cell_type": "code",
   "execution_count": 6,
   "metadata": {},
   "outputs": [],
   "source": [
    "level_3a = {'site_id': 9, 'meter': 0}\n",
    "level_3a_cols = list(train_data)"
   ]
  },
  {
   "cell_type": "code",
   "execution_count": 7,
   "metadata": {},
   "outputs": [],
   "source": [
    "data_3a = data_subset_by_dict(train_data, level_3a, level_3a_cols)"
   ]
  },
  {
   "cell_type": "code",
   "execution_count": 8,
   "metadata": {},
   "outputs": [
    {
     "data": {
      "text/html": [
       "<div>\n",
       "<style scoped>\n",
       "    .dataframe tbody tr th:only-of-type {\n",
       "        vertical-align: middle;\n",
       "    }\n",
       "\n",
       "    .dataframe tbody tr th {\n",
       "        vertical-align: top;\n",
       "    }\n",
       "\n",
       "    .dataframe thead th {\n",
       "        text-align: right;\n",
       "    }\n",
       "</style>\n",
       "<table border=\"1\" class=\"dataframe\">\n",
       "  <thead>\n",
       "    <tr style=\"text-align: right;\">\n",
       "      <th></th>\n",
       "      <th>building_id</th>\n",
       "      <th>timestamp</th>\n",
       "      <th>meter_reading</th>\n",
       "      <th>primary_use</th>\n",
       "      <th>square_feet</th>\n",
       "      <th>year_built</th>\n",
       "      <th>floor_count</th>\n",
       "      <th>air_temperature</th>\n",
       "      <th>cloud_coverage</th>\n",
       "      <th>dew_temperature</th>\n",
       "      <th>...</th>\n",
       "      <th>sea_level_pressure</th>\n",
       "      <th>wind_direction</th>\n",
       "      <th>wind_speed</th>\n",
       "      <th>dt_m</th>\n",
       "      <th>dt_w</th>\n",
       "      <th>dt_d</th>\n",
       "      <th>dt_hour</th>\n",
       "      <th>dt_day_week</th>\n",
       "      <th>dt_day_month</th>\n",
       "      <th>dt_week_month</th>\n",
       "    </tr>\n",
       "  </thead>\n",
       "  <tbody>\n",
       "    <tr>\n",
       "      <th>1069</th>\n",
       "      <td>874</td>\n",
       "      <td>2016-01-01</td>\n",
       "      <td>0.0</td>\n",
       "      <td>6</td>\n",
       "      <td>181805</td>\n",
       "      <td>9999</td>\n",
       "      <td>99</td>\n",
       "      <td>99.0</td>\n",
       "      <td>99</td>\n",
       "      <td>99.0</td>\n",
       "      <td>...</td>\n",
       "      <td>9999.0</td>\n",
       "      <td>999</td>\n",
       "      <td>99.0</td>\n",
       "      <td>1</td>\n",
       "      <td>53</td>\n",
       "      <td>1</td>\n",
       "      <td>0</td>\n",
       "      <td>4</td>\n",
       "      <td>1</td>\n",
       "      <td>1</td>\n",
       "    </tr>\n",
       "    <tr>\n",
       "      <th>1071</th>\n",
       "      <td>875</td>\n",
       "      <td>2016-01-01</td>\n",
       "      <td>0.0</td>\n",
       "      <td>4</td>\n",
       "      <td>177708</td>\n",
       "      <td>9999</td>\n",
       "      <td>99</td>\n",
       "      <td>99.0</td>\n",
       "      <td>99</td>\n",
       "      <td>99.0</td>\n",
       "      <td>...</td>\n",
       "      <td>9999.0</td>\n",
       "      <td>999</td>\n",
       "      <td>99.0</td>\n",
       "      <td>1</td>\n",
       "      <td>53</td>\n",
       "      <td>1</td>\n",
       "      <td>0</td>\n",
       "      <td>4</td>\n",
       "      <td>1</td>\n",
       "      <td>1</td>\n",
       "    </tr>\n",
       "    <tr>\n",
       "      <th>1074</th>\n",
       "      <td>876</td>\n",
       "      <td>2016-01-01</td>\n",
       "      <td>0.0</td>\n",
       "      <td>0</td>\n",
       "      <td>55240</td>\n",
       "      <td>9999</td>\n",
       "      <td>99</td>\n",
       "      <td>99.0</td>\n",
       "      <td>99</td>\n",
       "      <td>99.0</td>\n",
       "      <td>...</td>\n",
       "      <td>9999.0</td>\n",
       "      <td>999</td>\n",
       "      <td>99.0</td>\n",
       "      <td>1</td>\n",
       "      <td>53</td>\n",
       "      <td>1</td>\n",
       "      <td>0</td>\n",
       "      <td>4</td>\n",
       "      <td>1</td>\n",
       "      <td>1</td>\n",
       "    </tr>\n",
       "    <tr>\n",
       "      <th>1076</th>\n",
       "      <td>877</td>\n",
       "      <td>2016-01-01</td>\n",
       "      <td>0.0</td>\n",
       "      <td>6</td>\n",
       "      <td>8004</td>\n",
       "      <td>9999</td>\n",
       "      <td>99</td>\n",
       "      <td>99.0</td>\n",
       "      <td>99</td>\n",
       "      <td>99.0</td>\n",
       "      <td>...</td>\n",
       "      <td>9999.0</td>\n",
       "      <td>999</td>\n",
       "      <td>99.0</td>\n",
       "      <td>1</td>\n",
       "      <td>53</td>\n",
       "      <td>1</td>\n",
       "      <td>0</td>\n",
       "      <td>4</td>\n",
       "      <td>1</td>\n",
       "      <td>1</td>\n",
       "    </tr>\n",
       "    <tr>\n",
       "      <th>1077</th>\n",
       "      <td>878</td>\n",
       "      <td>2016-01-01</td>\n",
       "      <td>0.0</td>\n",
       "      <td>4</td>\n",
       "      <td>41241</td>\n",
       "      <td>9999</td>\n",
       "      <td>99</td>\n",
       "      <td>99.0</td>\n",
       "      <td>99</td>\n",
       "      <td>99.0</td>\n",
       "      <td>...</td>\n",
       "      <td>9999.0</td>\n",
       "      <td>999</td>\n",
       "      <td>99.0</td>\n",
       "      <td>1</td>\n",
       "      <td>53</td>\n",
       "      <td>1</td>\n",
       "      <td>0</td>\n",
       "      <td>4</td>\n",
       "      <td>1</td>\n",
       "      <td>1</td>\n",
       "    </tr>\n",
       "  </tbody>\n",
       "</table>\n",
       "<p>5 rows × 21 columns</p>\n",
       "</div>"
      ],
      "text/plain": [
       "      building_id  timestamp  meter_reading  primary_use  square_feet  \\\n",
       "1069          874 2016-01-01            0.0            6       181805   \n",
       "1071          875 2016-01-01            0.0            4       177708   \n",
       "1074          876 2016-01-01            0.0            0        55240   \n",
       "1076          877 2016-01-01            0.0            6         8004   \n",
       "1077          878 2016-01-01            0.0            4        41241   \n",
       "\n",
       "      year_built  floor_count  air_temperature  cloud_coverage  \\\n",
       "1069        9999           99             99.0              99   \n",
       "1071        9999           99             99.0              99   \n",
       "1074        9999           99             99.0              99   \n",
       "1076        9999           99             99.0              99   \n",
       "1077        9999           99             99.0              99   \n",
       "\n",
       "      dew_temperature  ...  sea_level_pressure  wind_direction  wind_speed  \\\n",
       "1069             99.0  ...              9999.0             999        99.0   \n",
       "1071             99.0  ...              9999.0             999        99.0   \n",
       "1074             99.0  ...              9999.0             999        99.0   \n",
       "1076             99.0  ...              9999.0             999        99.0   \n",
       "1077             99.0  ...              9999.0             999        99.0   \n",
       "\n",
       "      dt_m  dt_w  dt_d  dt_hour  dt_day_week  dt_day_month  dt_week_month  \n",
       "1069     1    53     1        0            4             1              1  \n",
       "1071     1    53     1        0            4             1              1  \n",
       "1074     1    53     1        0            4             1              1  \n",
       "1076     1    53     1        0            4             1              1  \n",
       "1077     1    53     1        0            4             1              1  \n",
       "\n",
       "[5 rows x 21 columns]"
      ]
     },
     "execution_count": 8,
     "metadata": {},
     "output_type": "execute_result"
    }
   ],
   "source": [
    "data_3a.head()"
   ]
  },
  {
   "cell_type": "markdown",
   "metadata": {},
   "source": [
    "## Baseline 1) LGBM on hold out buildings"
   ]
  },
  {
   "cell_type": "code",
   "execution_count": 26,
   "metadata": {},
   "outputs": [],
   "source": [
    "buildings = list(set(data_3a.building_id))"
   ]
  },
  {
   "cell_type": "code",
   "execution_count": 37,
   "metadata": {},
   "outputs": [],
   "source": [
    "test_builds = [x for ix, x in enumerate(buildings) if ix % 5 == 0]"
   ]
  },
  {
   "cell_type": "code",
   "execution_count": 38,
   "metadata": {},
   "outputs": [
    {
     "data": {
      "text/plain": [
       "(20.492, '%')"
      ]
     },
     "execution_count": 38,
     "metadata": {},
     "output_type": "execute_result"
    }
   ],
   "source": [
    "round(len(test_builds) / len(buildings) * 100, 3), '%'"
   ]
  },
  {
   "cell_type": "code",
   "execution_count": 39,
   "metadata": {},
   "outputs": [],
   "source": [
    "train_builds = [x for x in buildings if x not in test_builds]"
   ]
  },
  {
   "cell_type": "code",
   "execution_count": 41,
   "metadata": {},
   "outputs": [],
   "source": [
    "data_3a_tr = data_3a[data_3a.building_id.isin(train_builds)]\n",
    "data_3a_val = data_3a[data_3a.building_id.isin(test_builds[:int(len(test_builds)*0.25)])]\n",
    "data_3a_ts = data_3a[data_3a.building_id.isin(test_builds[int(len(test_builds)*0.25):])]"
   ]
  },
  {
   "cell_type": "code",
   "execution_count": 42,
   "metadata": {},
   "outputs": [],
   "source": [
    "import lightgbm as lgb"
   ]
  },
  {
   "cell_type": "code",
   "execution_count": 48,
   "metadata": {},
   "outputs": [],
   "source": [
    "from tsm.eval_metrics import root_mean_squared_log_error"
   ]
  },
  {
   "cell_type": "code",
   "execution_count": 18,
   "metadata": {},
   "outputs": [],
   "source": [
    "feat_cols = [x for x in list(train) if x not in ['meter_reading', 'timestamp']]"
   ]
  },
  {
   "cell_type": "code",
   "execution_count": 44,
   "metadata": {},
   "outputs": [],
   "source": [
    "data_3a_tr_x = data_3a_tr[feat_cols]\n",
    "data_3a_tr_y = data_3a_tr.meter_reading\n",
    "data_3a_val_x = data_3a_val[feat_cols]\n",
    "data_3a_val_y = data_3a_val.meter_reading\n",
    "data_3a_ts_x = data_3a_ts[feat_cols]\n",
    "data_3a_ts_y = data_3a_ts.meter_reading"
   ]
  },
  {
   "cell_type": "code",
   "execution_count": 43,
   "metadata": {},
   "outputs": [],
   "source": [
    "SEED = 7"
   ]
  },
  {
   "cell_type": "code",
   "execution_count": 99,
   "metadata": {},
   "outputs": [],
   "source": [
    "lgb_reg_params = {'objective':'regression',  'boosting_type':'gbdt', 'metric':'rmse',\n",
    "                  'n_jobs':-1, 'learning_rate':0.07, 'num_leaves': 2**8, 'max_depth':-1,\n",
    "                  'tree_learner':'serial', 'colsample_bytree': 0.7, 'subsample_freq':1,\n",
    "                  'subsample':0.5, 'max_bin':255, 'verbose':1, 'seed': SEED, 'early_stopping_rounds':200} \n",
    "lgb_reg_params_2 = {\n",
    "            'boosting_type': 'gbdt',\n",
    "            'objective': 'regression',\n",
    "            'metric': {'rmse'},\n",
    "            'learning_rate': 0.5,\n",
    "            'feature_fraction': 0.8,\n",
    "            'bagging_fraction': 0.8,\n",
    "            'bagging_freq' : 5\n",
    "            }"
   ]
  },
  {
   "cell_type": "markdown",
   "metadata": {},
   "source": [
    "#### Base"
   ]
  },
  {
   "cell_type": "code",
   "execution_count": 123,
   "metadata": {},
   "outputs": [
    {
     "name": "stdout",
     "output_type": "stream",
     "text": [
      "Training until validation scores don't improve for 200 rounds\n",
      "[20]\ttraining's rmse: 165.681\tvalid_1's rmse: 99.0052\n",
      "[40]\ttraining's rmse: 149.75\tvalid_1's rmse: 95.5506\n",
      "[60]\ttraining's rmse: 142.258\tvalid_1's rmse: 93.4872\n",
      "[80]\ttraining's rmse: 136.743\tvalid_1's rmse: 92.3842\n",
      "[100]\ttraining's rmse: 131.498\tvalid_1's rmse: 91.9253\n",
      "[120]\ttraining's rmse: 127.599\tvalid_1's rmse: 91.5536\n",
      "[140]\ttraining's rmse: 124.153\tvalid_1's rmse: 91.3555\n",
      "[160]\ttraining's rmse: 121.366\tvalid_1's rmse: 91.2652\n",
      "[180]\ttraining's rmse: 118.28\tvalid_1's rmse: 91.1758\n",
      "[200]\ttraining's rmse: 115.549\tvalid_1's rmse: 91.0694\n",
      "[220]\ttraining's rmse: 112.81\tvalid_1's rmse: 91.1227\n",
      "[240]\ttraining's rmse: 110.942\tvalid_1's rmse: 90.9337\n",
      "[260]\ttraining's rmse: 108.458\tvalid_1's rmse: 90.9718\n",
      "[280]\ttraining's rmse: 105.658\tvalid_1's rmse: 90.9441\n",
      "[300]\ttraining's rmse: 103.634\tvalid_1's rmse: 90.9492\n",
      "[320]\ttraining's rmse: 101.463\tvalid_1's rmse: 90.8674\n",
      "[340]\ttraining's rmse: 99.7425\tvalid_1's rmse: 90.7437\n",
      "[360]\ttraining's rmse: 97.8644\tvalid_1's rmse: 90.7556\n",
      "[380]\ttraining's rmse: 95.835\tvalid_1's rmse: 90.8126\n",
      "[400]\ttraining's rmse: 93.8885\tvalid_1's rmse: 90.7941\n",
      "[420]\ttraining's rmse: 92.3534\tvalid_1's rmse: 90.8642\n",
      "[440]\ttraining's rmse: 90.6169\tvalid_1's rmse: 90.8327\n",
      "[460]\ttraining's rmse: 89.1103\tvalid_1's rmse: 90.8439\n",
      "[480]\ttraining's rmse: 87.5698\tvalid_1's rmse: 90.8288\n",
      "[500]\ttraining's rmse: 86.1586\tvalid_1's rmse: 90.8308\n",
      "[520]\ttraining's rmse: 84.7772\tvalid_1's rmse: 90.8603\n",
      "[540]\ttraining's rmse: 83.4555\tvalid_1's rmse: 90.8265\n",
      "Early stopping, best iteration is:\n",
      "[353]\ttraining's rmse: 98.5356\tvalid_1's rmse: 90.7023\n"
     ]
    }
   ],
   "source": [
    "lgb_train = lgb.Dataset(data_3a_tr_x, data_3a_tr_y)\n",
    "lgb_eval = lgb.Dataset(data_3a_val_x, data_3a_val_y)\n",
    "gbm_regress = lgb.train(lgb_reg_params, lgb_train, num_boost_round=2000, valid_sets=(lgb_train, lgb_eval),\n",
    "                        early_stopping_rounds=20, verbose_eval = 20)"
   ]
  },
  {
   "cell_type": "code",
   "execution_count": 124,
   "metadata": {},
   "outputs": [],
   "source": [
    "lgbm_hat = (gbm_regress.predict(data_3a_ts_x, num_iteration=gbm_regress.best_iteration))"
   ]
  },
  {
   "cell_type": "code",
   "execution_count": 125,
   "metadata": {},
   "outputs": [
    {
     "data": {
      "text/plain": [
       "1.0442132734669594"
      ]
     },
     "execution_count": 125,
     "metadata": {},
     "output_type": "execute_result"
    }
   ],
   "source": [
    "root_mean_squared_log_error(lgbm_hat, data_3a_ts_y)"
   ]
  },
  {
   "cell_type": "code",
   "execution_count": 19,
   "metadata": {},
   "outputs": [],
   "source": [
    "train = data_3a"
   ]
  },
  {
   "cell_type": "markdown",
   "metadata": {},
   "source": [
    "#### V1 - Simply take log of target"
   ]
  },
  {
   "cell_type": "code",
   "execution_count": 79,
   "metadata": {},
   "outputs": [
    {
     "name": "stderr",
     "output_type": "stream",
     "text": [
      "/Library/Frameworks/Python.framework/Versions/3.6/lib/python3.6/site-packages/ipykernel_launcher.py:1: RuntimeWarning: divide by zero encountered in log\n",
      "  \"\"\"Entry point for launching an IPython kernel.\n",
      "/Library/Frameworks/Python.framework/Versions/3.6/lib/python3.6/site-packages/ipykernel_launcher.py:2: RuntimeWarning: divide by zero encountered in log\n",
      "  \n"
     ]
    }
   ],
   "source": [
    "data_3a1_tr_y = np.log(data_3a_tr_y)\n",
    "data_3a1_val_y = np.log(data_3a_val_y)"
   ]
  },
  {
   "cell_type": "code",
   "execution_count": 80,
   "metadata": {},
   "outputs": [],
   "source": [
    "data_3a1_tr_x = data_3a_tr_x[np.isfinite(data_3a1_tr_y)]\n",
    "data_3a1_tr_y = data_3a1_tr_y[np.isfinite(data_3a1_tr_y)]\n",
    "data_3a1_val_x = data_3a_val_x[np.isfinite(data_3a1_val_y)]\n",
    "data_3a1_val_y = data_3a1_val_y[np.isfinite(data_3a1_val_y)]"
   ]
  },
  {
   "cell_type": "code",
   "execution_count": 81,
   "metadata": {},
   "outputs": [
    {
     "name": "stdout",
     "output_type": "stream",
     "text": [
      "Training until validation scores don't improve for 200 rounds\n",
      "[20]\ttraining's rmse: 0.35509\tvalid_1's rmse: 0.529354\n",
      "[40]\ttraining's rmse: 0.182267\tvalid_1's rmse: 0.52526\n",
      "[60]\ttraining's rmse: 0.149686\tvalid_1's rmse: 0.518928\n",
      "[80]\ttraining's rmse: 0.136748\tvalid_1's rmse: 0.515862\n",
      "[100]\ttraining's rmse: 0.129195\tvalid_1's rmse: 0.513888\n",
      "[120]\ttraining's rmse: 0.123949\tvalid_1's rmse: 0.513071\n",
      "[140]\ttraining's rmse: 0.12008\tvalid_1's rmse: 0.513156\n",
      "[160]\ttraining's rmse: 0.117099\tvalid_1's rmse: 0.512715\n",
      "[180]\ttraining's rmse: 0.114791\tvalid_1's rmse: 0.512592\n",
      "[200]\ttraining's rmse: 0.112721\tvalid_1's rmse: 0.512954\n",
      "[220]\ttraining's rmse: 0.11079\tvalid_1's rmse: 0.512793\n",
      "[240]\ttraining's rmse: 0.109261\tvalid_1's rmse: 0.512851\n",
      "[260]\ttraining's rmse: 0.107705\tvalid_1's rmse: 0.512624\n",
      "[280]\ttraining's rmse: 0.106267\tvalid_1's rmse: 0.512746\n",
      "[300]\ttraining's rmse: 0.105014\tvalid_1's rmse: 0.512767\n",
      "[320]\ttraining's rmse: 0.103954\tvalid_1's rmse: 0.51262\n",
      "[340]\ttraining's rmse: 0.102887\tvalid_1's rmse: 0.512257\n",
      "[360]\ttraining's rmse: 0.101822\tvalid_1's rmse: 0.512242\n",
      "[380]\ttraining's rmse: 0.100785\tvalid_1's rmse: 0.5121\n",
      "[400]\ttraining's rmse: 0.0998279\tvalid_1's rmse: 0.512039\n",
      "[420]\ttraining's rmse: 0.0989937\tvalid_1's rmse: 0.512106\n",
      "[440]\ttraining's rmse: 0.0981394\tvalid_1's rmse: 0.512078\n",
      "[460]\ttraining's rmse: 0.0973377\tvalid_1's rmse: 0.512087\n",
      "[480]\ttraining's rmse: 0.0965971\tvalid_1's rmse: 0.512138\n",
      "[500]\ttraining's rmse: 0.095852\tvalid_1's rmse: 0.512209\n",
      "[520]\ttraining's rmse: 0.0951421\tvalid_1's rmse: 0.512276\n",
      "[540]\ttraining's rmse: 0.0943773\tvalid_1's rmse: 0.512439\n",
      "[560]\ttraining's rmse: 0.0936745\tvalid_1's rmse: 0.512446\n",
      "[580]\ttraining's rmse: 0.0929492\tvalid_1's rmse: 0.51253\n",
      "Early stopping, best iteration is:\n",
      "[393]\ttraining's rmse: 0.100167\tvalid_1's rmse: 0.512022\n"
     ]
    }
   ],
   "source": [
    "lgb_train = lgb.Dataset(data_3a1_tr_x, data_3a1_tr_y)\n",
    "lgb_eval = lgb.Dataset(data_3a1_val_x, data_3a1_val_y)\n",
    "gbm_regress = lgb.train(lgb_reg_params, lgb_train, num_boost_round=2000, valid_sets=(lgb_train, lgb_eval),\n",
    "                        early_stopping_rounds=20, verbose_eval = 20)"
   ]
  },
  {
   "cell_type": "code",
   "execution_count": 82,
   "metadata": {},
   "outputs": [],
   "source": [
    "lgbm_hat = np.exp(gbm_regress.predict(data_3a_ts_x, num_iteration=gbm_regress.best_iteration))"
   ]
  },
  {
   "cell_type": "code",
   "execution_count": 83,
   "metadata": {},
   "outputs": [
    {
     "data": {
      "text/plain": [
       "1.225877060708199"
      ]
     },
     "execution_count": 83,
     "metadata": {},
     "output_type": "execute_result"
    }
   ],
   "source": [
    "root_mean_squared_log_error(lgbm_hat, data_3a_ts_y)"
   ]
  },
  {
   "cell_type": "markdown",
   "metadata": {},
   "source": [
    "#### V2 - two steps model (0s and values)"
   ]
  },
  {
   "cell_type": "code",
   "execution_count": 84,
   "metadata": {},
   "outputs": [
    {
     "name": "stderr",
     "output_type": "stream",
     "text": [
      "/Library/Frameworks/Python.framework/Versions/3.6/lib/python3.6/site-packages/ipykernel_launcher.py:1: RuntimeWarning: divide by zero encountered in log\n",
      "  \"\"\"Entry point for launching an IPython kernel.\n",
      "/Library/Frameworks/Python.framework/Versions/3.6/lib/python3.6/site-packages/ipykernel_launcher.py:2: RuntimeWarning: divide by zero encountered in log\n",
      "  \n"
     ]
    }
   ],
   "source": [
    "data_3a2_tr_y = np.log(data_3a_tr_y)\n",
    "data_3a2_val_y = np.log(data_3a_val_y)"
   ]
  },
  {
   "cell_type": "code",
   "execution_count": 114,
   "metadata": {},
   "outputs": [
    {
     "name": "stdout",
     "output_type": "stream",
     "text": [
      "Training until validation scores don't improve for 20 rounds\n",
      "[20]\ttraining's binary_logloss: 0.0308295\tvalid_1's binary_logloss: 0.0324629\n",
      "[40]\ttraining's binary_logloss: 0.01732\tvalid_1's binary_logloss: 0.0431441\n",
      "Early stopping, best iteration is:\n",
      "[39]\ttraining's binary_logloss: 0.0175738\tvalid_1's binary_logloss: 0.023073\n",
      "Training until validation scores don't improve for 200 rounds\n",
      "[20]\ttraining's rmse: 0.354876\tvalid_1's rmse: 0.530515\n",
      "[40]\ttraining's rmse: 0.182497\tvalid_1's rmse: 0.524844\n",
      "[60]\ttraining's rmse: 0.149908\tvalid_1's rmse: 0.518112\n",
      "[80]\ttraining's rmse: 0.136598\tvalid_1's rmse: 0.516724\n",
      "[100]\ttraining's rmse: 0.1286\tvalid_1's rmse: 0.515128\n",
      "[120]\ttraining's rmse: 0.12373\tvalid_1's rmse: 0.514883\n",
      "[140]\ttraining's rmse: 0.119728\tvalid_1's rmse: 0.51461\n",
      "[160]\ttraining's rmse: 0.116941\tvalid_1's rmse: 0.514915\n",
      "[180]\ttraining's rmse: 0.114552\tvalid_1's rmse: 0.514947\n",
      "[200]\ttraining's rmse: 0.112598\tvalid_1's rmse: 0.515123\n",
      "[220]\ttraining's rmse: 0.110673\tvalid_1's rmse: 0.515399\n",
      "[240]\ttraining's rmse: 0.109082\tvalid_1's rmse: 0.515144\n",
      "[260]\ttraining's rmse: 0.10769\tvalid_1's rmse: 0.515013\n",
      "[280]\ttraining's rmse: 0.106209\tvalid_1's rmse: 0.514865\n",
      "[300]\ttraining's rmse: 0.104862\tvalid_1's rmse: 0.51476\n",
      "[320]\ttraining's rmse: 0.103729\tvalid_1's rmse: 0.514887\n",
      "[340]\ttraining's rmse: 0.102624\tvalid_1's rmse: 0.514937\n",
      "Early stopping, best iteration is:\n",
      "[143]\ttraining's rmse: 0.119132\tvalid_1's rmse: 0.514554\n"
     ]
    }
   ],
   "source": [
    "lgb_train = lgb.Dataset(data_3a_tr_x, data_3a2_tr_y > 0)\n",
    "lgb_eval = lgb.Dataset(data_3a_val_x, data_3a2_val_y > 0)\n",
    "class_params = {'boosting_type': 'gbdt', 'objective': 'binary', 'metric': {'binary_logloss'},\n",
    "                'learning_rate': 0.1, 'feature_fraction': 0.8, 'bagging_fraction': 0.8,\n",
    "                'bagging_freq' : 5}\n",
    "gbm_class = lgb.train(class_params,\n",
    "            lgb_train,\n",
    "            num_boost_round=2000,\n",
    "            valid_sets=(lgb_train, lgb_eval),\n",
    "            early_stopping_rounds=20,\n",
    "            verbose_eval = 20)\n",
    "lgb_train = lgb.Dataset(data_3a_tr_x[data_3a2_tr_y > 0], data_3a2_tr_y[data_3a2_tr_y > 0])\n",
    "lgb_eval = lgb.Dataset(data_3a_val_x[data_3a2_val_y > 0] , data_3a2_val_y[data_3a2_val_y > 0])\n",
    "gbm_regress = lgb.train(lgb_reg_params,\n",
    "            lgb_train,\n",
    "            num_boost_round=2000,\n",
    "            valid_sets=(lgb_train, lgb_eval),\n",
    "            early_stopping_rounds=20,\n",
    "            verbose_eval = 20)"
   ]
  },
  {
   "cell_type": "code",
   "execution_count": 115,
   "metadata": {},
   "outputs": [],
   "source": [
    "lgbm_hat = (gbm_class.predict(data_3a_ts_x, num_iteration=gbm_class.best_iteration) > .5) *\\\n",
    "    (gbm_regress.predict(data_3a_ts_x, num_iteration=gbm_regress.best_iteration))"
   ]
  },
  {
   "cell_type": "code",
   "execution_count": 116,
   "metadata": {},
   "outputs": [
    {
     "data": {
      "text/plain": [
       "1.2510477087142877"
      ]
     },
     "execution_count": 116,
     "metadata": {},
     "output_type": "execute_result"
    }
   ],
   "source": [
    "root_mean_squared_log_error(np.exp(lgbm_hat), data_3a_ts_y)"
   ]
  },
  {
   "cell_type": "markdown",
   "metadata": {},
   "source": [
    "### Base No 0s"
   ]
  },
  {
   "cell_type": "code",
   "execution_count": 120,
   "metadata": {},
   "outputs": [
    {
     "name": "stdout",
     "output_type": "stream",
     "text": [
      "Training until validation scores don't improve for 200 rounds\n",
      "[20]\ttraining's rmse: 162.082\tvalid_1's rmse: 95.9119\n",
      "[40]\ttraining's rmse: 145.405\tvalid_1's rmse: 95.1372\n",
      "[60]\ttraining's rmse: 138.699\tvalid_1's rmse: 93.279\n",
      "[80]\ttraining's rmse: 132.478\tvalid_1's rmse: 92.4621\n",
      "[100]\ttraining's rmse: 127.441\tvalid_1's rmse: 91.9107\n",
      "[120]\ttraining's rmse: 123.408\tvalid_1's rmse: 91.8357\n",
      "[140]\ttraining's rmse: 118.953\tvalid_1's rmse: 91.9578\n",
      "[160]\ttraining's rmse: 115.316\tvalid_1's rmse: 91.919\n",
      "[180]\ttraining's rmse: 112.273\tvalid_1's rmse: 91.9883\n",
      "[200]\ttraining's rmse: 109.347\tvalid_1's rmse: 92.0166\n",
      "[220]\ttraining's rmse: 106.132\tvalid_1's rmse: 92.118\n",
      "[240]\ttraining's rmse: 103.194\tvalid_1's rmse: 92.258\n",
      "[260]\ttraining's rmse: 100.164\tvalid_1's rmse: 92.2789\n",
      "[280]\ttraining's rmse: 97.0306\tvalid_1's rmse: 92.4091\n",
      "[300]\ttraining's rmse: 94.5292\tvalid_1's rmse: 92.4188\n",
      "Early stopping, best iteration is:\n",
      "[119]\ttraining's rmse: 123.628\tvalid_1's rmse: 91.835\n"
     ]
    }
   ],
   "source": [
    "lgb_train = lgb.Dataset(data_3a_tr_x[data_3a_tr_y > 0], data_3a_tr_y[data_3a_tr_y > 0])\n",
    "lgb_eval = lgb.Dataset(data_3a_val_x[data_3a_val_y > 0], data_3a_val_y[data_3a_val_y > 0])\n",
    "gbm_regress = lgb.train(lgb_reg_params, lgb_train, num_boost_round=2000, valid_sets=(lgb_train, lgb_eval),\n",
    "                        early_stopping_rounds=20, verbose_eval = 20)"
   ]
  },
  {
   "cell_type": "code",
   "execution_count": 121,
   "metadata": {},
   "outputs": [],
   "source": [
    "lgbm_hat = (gbm_regress.predict(data_3a_ts_x, num_iteration=gbm_regress.best_iteration))"
   ]
  },
  {
   "cell_type": "code",
   "execution_count": 122,
   "metadata": {},
   "outputs": [
    {
     "data": {
      "text/plain": [
       "1.2508481949525687"
      ]
     },
     "execution_count": 122,
     "metadata": {},
     "output_type": "execute_result"
    }
   ],
   "source": [
    "root_mean_squared_log_error(lgbm_hat, data_3a_ts_y)"
   ]
  },
  {
   "cell_type": "markdown",
   "metadata": {},
   "source": [
    "## Baseline 2) Random Forest on 5-fold cross validation"
   ]
  },
  {
   "cell_type": "code",
   "execution_count": 133,
   "metadata": {},
   "outputs": [],
   "source": [
    "from sklearn.model_selection import KFold"
   ]
  },
  {
   "cell_type": "code",
   "execution_count": 129,
   "metadata": {},
   "outputs": [],
   "source": [
    "from sklearn.ensemble import RandomForestRegressor, RandomForestClassifier"
   ]
  },
  {
   "cell_type": "code",
   "execution_count": 130,
   "metadata": {},
   "outputs": [],
   "source": [
    "rfr = RandomForestRegressor(max_depth=10, n_jobs=-1, n_estimators=11)"
   ]
  },
  {
   "cell_type": "code",
   "execution_count": 149,
   "metadata": {},
   "outputs": [],
   "source": [
    "K = 5\n",
    "kf = KFold(n_splits=K)"
   ]
  },
  {
   "cell_type": "code",
   "execution_count": 154,
   "metadata": {},
   "outputs": [
    {
     "name": "stdout",
     "output_type": "stream",
     "text": [
      "Iteration done, nrmlse: 1.27656938494446\n",
      "Iteration done, nrmlse: 0.766602725025143\n",
      "Iteration done, nrmlse: 1.2128047921456724\n",
      "Iteration done, nrmlse: 0.9400355848383093\n",
      "Iteration done, nrmlse: 1.225469945224068\n"
     ]
    }
   ],
   "source": [
    "nrmlses = []\n",
    "for tr_ix, ts_ix in kf.split(data_3a):\n",
    "    data_3a2_tr_x = data_3a.iloc[tr_ix,:][feat_cols]\n",
    "    data_3a2_tr_y = data_3a.iloc[tr_ix,:].meter_reading\n",
    "    rfr.fit(data_3a2_tr_x, data_3a2_tr_y)\n",
    "    data_3a2_ts_x = data_3a.iloc[ts_ix,:][feat_cols]\n",
    "    data_3a2_ts_y = data_3a.iloc[ts_ix,:].meter_reading\n",
    "    nrmlse = root_mean_squared_log_error(rfr.predict(data_3a2_ts_x), data_3a2_ts_y)\n",
    "    print('Iteration done, nrmlse:', nrmlse)\n",
    "    nrmlses.append(nrmlse)"
   ]
  },
  {
   "cell_type": "code",
   "execution_count": 155,
   "metadata": {},
   "outputs": [
    {
     "data": {
      "text/plain": [
       "1.0842964864355307"
      ]
     },
     "execution_count": 155,
     "metadata": {},
     "output_type": "execute_result"
    }
   ],
   "source": [
    "sum(nrmlses) / K"
   ]
  },
  {
   "cell_type": "code",
   "execution_count": 160,
   "metadata": {},
   "outputs": [
    {
     "name": "stdout",
     "output_type": "stream",
     "text": [
      "Training until validation scores don't improve for 200 rounds\n",
      "[20]\ttraining's rmse: 160.466\tvalid_1's rmse: 129.627\n",
      "[40]\ttraining's rmse: 143.899\tvalid_1's rmse: 123.358\n",
      "[60]\ttraining's rmse: 136.853\tvalid_1's rmse: 124.195\n",
      "[80]\ttraining's rmse: 131.218\tvalid_1's rmse: 125.117\n",
      "[100]\ttraining's rmse: 126.613\tvalid_1's rmse: 125.788\n",
      "[120]\ttraining's rmse: 122.418\tvalid_1's rmse: 126.985\n",
      "[140]\ttraining's rmse: 118.099\tvalid_1's rmse: 128.082\n",
      "[160]\ttraining's rmse: 114.809\tvalid_1's rmse: 129.643\n",
      "[180]\ttraining's rmse: 112.109\tvalid_1's rmse: 130.377\n",
      "[200]\ttraining's rmse: 109.551\tvalid_1's rmse: 131.282\n",
      "[220]\ttraining's rmse: 107.265\tvalid_1's rmse: 132.371\n",
      "[240]\ttraining's rmse: 104.532\tvalid_1's rmse: 133.027\n",
      "Early stopping, best iteration is:\n",
      "[45]\ttraining's rmse: 142.182\tvalid_1's rmse: 123.205\n"
     ]
    },
    {
     "name": "stderr",
     "output_type": "stream",
     "text": [
      "/Users/Ric/_personal/x_tsm/tsm/eval_metrics.py:5: RuntimeWarning: invalid value encountered in log\n",
      "  return np.sqrt(np.sum(np.power(np.log(predicted + 1) - np.log(actual + 1), 2)) / len(actual))\n"
     ]
    },
    {
     "name": "stdout",
     "output_type": "stream",
     "text": [
      "Iteration done, nrmlse: 1.2666714640419818\n",
      "Training until validation scores don't improve for 200 rounds\n",
      "[20]\ttraining's rmse: 174.159\tvalid_1's rmse: 130.792\n",
      "[40]\ttraining's rmse: 157.906\tvalid_1's rmse: 125.606\n",
      "[60]\ttraining's rmse: 149.999\tvalid_1's rmse: 126.847\n",
      "[80]\ttraining's rmse: 143.635\tvalid_1's rmse: 129.311\n",
      "[100]\ttraining's rmse: 139.235\tvalid_1's rmse: 130.483\n",
      "[120]\ttraining's rmse: 134.999\tvalid_1's rmse: 134.076\n",
      "[140]\ttraining's rmse: 130.505\tvalid_1's rmse: 133.819\n",
      "[160]\ttraining's rmse: 126.609\tvalid_1's rmse: 135.987\n",
      "[180]\ttraining's rmse: 123.779\tvalid_1's rmse: 136.058\n",
      "[200]\ttraining's rmse: 120.703\tvalid_1's rmse: 138.754\n",
      "[220]\ttraining's rmse: 118.284\tvalid_1's rmse: 139.353\n",
      "Early stopping, best iteration is:\n",
      "[31]\ttraining's rmse: 163.156\tvalid_1's rmse: 125.227\n",
      "Iteration done, nrmlse: 0.7978162658853369\n",
      "Training until validation scores don't improve for 200 rounds\n",
      "[20]\ttraining's rmse: 168.612\tvalid_1's rmse: 129.8\n",
      "[40]\ttraining's rmse: 152.919\tvalid_1's rmse: 124.498\n",
      "[60]\ttraining's rmse: 145.477\tvalid_1's rmse: 125.568\n",
      "[80]\ttraining's rmse: 140.062\tvalid_1's rmse: 127.066\n",
      "[100]\ttraining's rmse: 136.376\tvalid_1's rmse: 128.057\n",
      "[120]\ttraining's rmse: 132.004\tvalid_1's rmse: 130.406\n",
      "[140]\ttraining's rmse: 128.156\tvalid_1's rmse: 129.729\n",
      "[160]\ttraining's rmse: 124.376\tvalid_1's rmse: 130.458\n",
      "[180]\ttraining's rmse: 121.854\tvalid_1's rmse: 130.979\n",
      "[200]\ttraining's rmse: 119.251\tvalid_1's rmse: 131.608\n",
      "[220]\ttraining's rmse: 116.966\tvalid_1's rmse: 131.664\n",
      "Early stopping, best iteration is:\n",
      "[30]\ttraining's rmse: 158.51\tvalid_1's rmse: 123.926\n",
      "Iteration done, nrmlse: 1.3202460390234583\n",
      "Training until validation scores don't improve for 200 rounds\n",
      "[20]\ttraining's rmse: 122.049\tvalid_1's rmse: 130.877\n",
      "[40]\ttraining's rmse: 103.418\tvalid_1's rmse: 125.833\n",
      "[60]\ttraining's rmse: 96.1035\tvalid_1's rmse: 129.153\n",
      "[80]\ttraining's rmse: 90.666\tvalid_1's rmse: 132.639\n",
      "[100]\ttraining's rmse: 86.6216\tvalid_1's rmse: 133.185\n",
      "[120]\ttraining's rmse: 83.5668\tvalid_1's rmse: 135.233\n",
      "[140]\ttraining's rmse: 80.9132\tvalid_1's rmse: 133.89\n",
      "[160]\ttraining's rmse: 78.4973\tvalid_1's rmse: 136.279\n",
      "[180]\ttraining's rmse: 76.7956\tvalid_1's rmse: 136.333\n",
      "[200]\ttraining's rmse: 75.1565\tvalid_1's rmse: 138.622\n",
      "[220]\ttraining's rmse: 73.3995\tvalid_1's rmse: 138.41\n",
      "Early stopping, best iteration is:\n",
      "[31]\ttraining's rmse: 109.186\tvalid_1's rmse: 125.378\n",
      "Iteration done, nrmlse: 1.0880219407977734\n",
      "Training until validation scores don't improve for 200 rounds\n",
      "[20]\ttraining's rmse: 123.336\tvalid_1's rmse: 406.09\n",
      "[40]\ttraining's rmse: 104.617\tvalid_1's rmse: 402.588\n",
      "[60]\ttraining's rmse: 97.182\tvalid_1's rmse: 402.304\n",
      "[80]\ttraining's rmse: 92.2051\tvalid_1's rmse: 402.714\n",
      "[100]\ttraining's rmse: 87.8401\tvalid_1's rmse: 402.79\n",
      "[120]\ttraining's rmse: 84.8394\tvalid_1's rmse: 403.024\n",
      "[140]\ttraining's rmse: 82.1314\tvalid_1's rmse: 403.075\n",
      "[160]\ttraining's rmse: 79.8862\tvalid_1's rmse: 403.131\n",
      "[180]\ttraining's rmse: 77.7955\tvalid_1's rmse: 403.403\n",
      "[200]\ttraining's rmse: 76.0371\tvalid_1's rmse: 403.514\n",
      "[220]\ttraining's rmse: 74.3828\tvalid_1's rmse: 403.569\n",
      "[240]\ttraining's rmse: 72.9443\tvalid_1's rmse: 403.525\n",
      "Early stopping, best iteration is:\n",
      "[52]\ttraining's rmse: 99.9334\tvalid_1's rmse: 402.17\n",
      "Iteration done, nrmlse: 0.5155462327871466\n"
     ]
    }
   ],
   "source": [
    "nrmlses = []\n",
    "for tr_ix, ts_ix in kf.split(data_3a):\n",
    "    data_3a2_tr_x = data_3a.iloc[tr_ix[:int(len(tr_ix)*.9)],:][feat_cols]\n",
    "    data_3a2_tr_y = data_3a.iloc[tr_ix[:int(len(tr_ix)*.9)],:].meter_reading\n",
    "    data_3a2_val_x = data_3a.iloc[tr_ix[int(len(tr_ix)*.9):],:][feat_cols]\n",
    "    data_3a2_val_y = data_3a.iloc[tr_ix[int(len(tr_ix)*.9):],:].meter_reading\n",
    "    lgb_train = lgb.Dataset(data_3a2_tr_x, data_3a2_tr_y)\n",
    "    lgb_eval = lgb.Dataset(data_3a2_val_x, data_3a2_val_y)\n",
    "    gbm_regress = lgb.train(lgb_reg_params, lgb_train, num_boost_round=2000, valid_sets=(lgb_train, lgb_eval),\n",
    "                            early_stopping_rounds=20, verbose_eval = 20)\n",
    "    data_3a2_ts_x = data_3a.iloc[ts_ix,:][feat_cols]\n",
    "    data_3a2_ts_y = data_3a.iloc[ts_ix,:].meter_reading\n",
    "    lgbm_hat = (gbm_regress.predict(data_3a2_ts_x, num_iteration=gbm_regress.best_iteration))\n",
    "    nrmlse = root_mean_squared_log_error(lgbm_hat, data_3a2_ts_y)\n",
    "    print('Iteration done, nrmlse:', nrmlse)\n",
    "    nrmlses.append(nrmlse)"
   ]
  },
  {
   "cell_type": "code",
   "execution_count": 161,
   "metadata": {},
   "outputs": [
    {
     "data": {
      "text/plain": [
       "0.9976603885071395"
      ]
     },
     "execution_count": 161,
     "metadata": {},
     "output_type": "execute_result"
    }
   ],
   "source": [
    "print('FinalScore:', sum(nrmlses) / K)"
   ]
  },
  {
   "cell_type": "code",
   "execution_count": 166,
   "metadata": {},
   "outputs": [
    {
     "name": "stdout",
     "output_type": "stream",
     "text": [
      "Training until validation scores don't improve for 200 rounds\n",
      "[20]\ttraining's rmse: 0.565292\tvalid_1's rmse: 0.584833\n",
      "[40]\ttraining's rmse: 0.320211\tvalid_1's rmse: 0.501368\n",
      "[60]\ttraining's rmse: 0.237014\tvalid_1's rmse: 0.477418\n",
      "[80]\ttraining's rmse: 0.201449\tvalid_1's rmse: 0.471083\n",
      "[100]\ttraining's rmse: 0.184674\tvalid_1's rmse: 0.466634\n",
      "[120]\ttraining's rmse: 0.174869\tvalid_1's rmse: 0.465181\n",
      "[140]\ttraining's rmse: 0.167523\tvalid_1's rmse: 0.464584\n",
      "[160]\ttraining's rmse: 0.162607\tvalid_1's rmse: 0.464419\n",
      "[180]\ttraining's rmse: 0.158674\tvalid_1's rmse: 0.464223\n",
      "[200]\ttraining's rmse: 0.155815\tvalid_1's rmse: 0.46498\n",
      "[220]\ttraining's rmse: 0.152788\tvalid_1's rmse: 0.466258\n",
      "[240]\ttraining's rmse: 0.149775\tvalid_1's rmse: 0.465904\n",
      "[260]\ttraining's rmse: 0.147445\tvalid_1's rmse: 0.46654\n",
      "[280]\ttraining's rmse: 0.145223\tvalid_1's rmse: 0.467333\n",
      "[300]\ttraining's rmse: 0.143208\tvalid_1's rmse: 0.467621\n",
      "[320]\ttraining's rmse: 0.141506\tvalid_1's rmse: 0.46894\n",
      "[340]\ttraining's rmse: 0.139937\tvalid_1's rmse: 0.46937\n",
      "Early stopping, best iteration is:\n",
      "[153]\ttraining's rmse: 0.16453\tvalid_1's rmse: 0.463818\n",
      "Iteration done, nrmlse: 1.133168365258363\n",
      "Training until validation scores don't improve for 200 rounds\n",
      "[20]\ttraining's rmse: 0.628467\tvalid_1's rmse: 0.605127\n",
      "[40]\ttraining's rmse: 0.378745\tvalid_1's rmse: 0.510978\n",
      "[60]\ttraining's rmse: 0.290649\tvalid_1's rmse: 0.489627\n",
      "[80]\ttraining's rmse: 0.250099\tvalid_1's rmse: 0.482203\n",
      "[100]\ttraining's rmse: 0.22627\tvalid_1's rmse: 0.47833\n",
      "[120]\ttraining's rmse: 0.213227\tvalid_1's rmse: 0.477695\n",
      "[140]\ttraining's rmse: 0.203972\tvalid_1's rmse: 0.476439\n",
      "[160]\ttraining's rmse: 0.195893\tvalid_1's rmse: 0.477318\n",
      "[180]\ttraining's rmse: 0.190137\tvalid_1's rmse: 0.478997\n",
      "[200]\ttraining's rmse: 0.18538\tvalid_1's rmse: 0.478631\n",
      "[220]\ttraining's rmse: 0.181629\tvalid_1's rmse: 0.479536\n",
      "[240]\ttraining's rmse: 0.177966\tvalid_1's rmse: 0.479739\n",
      "[260]\ttraining's rmse: 0.174001\tvalid_1's rmse: 0.480867\n",
      "[280]\ttraining's rmse: 0.170949\tvalid_1's rmse: 0.482022\n",
      "[300]\ttraining's rmse: 0.167959\tvalid_1's rmse: 0.482716\n",
      "[320]\ttraining's rmse: 0.165344\tvalid_1's rmse: 0.482522\n",
      "[340]\ttraining's rmse: 0.163032\tvalid_1's rmse: 0.482549\n",
      "Early stopping, best iteration is:\n",
      "[142]\ttraining's rmse: 0.202758\tvalid_1's rmse: 0.476306\n",
      "Iteration done, nrmlse: 0.6422052957364406\n",
      "Training until validation scores don't improve for 200 rounds\n",
      "[20]\ttraining's rmse: 0.610034\tvalid_1's rmse: 0.588403\n",
      "[40]\ttraining's rmse: 0.365882\tvalid_1's rmse: 0.503981\n",
      "[60]\ttraining's rmse: 0.279675\tvalid_1's rmse: 0.486053\n",
      "[80]\ttraining's rmse: 0.240095\tvalid_1's rmse: 0.480575\n",
      "[100]\ttraining's rmse: 0.217453\tvalid_1's rmse: 0.478508\n",
      "[120]\ttraining's rmse: 0.204991\tvalid_1's rmse: 0.477684\n",
      "[140]\ttraining's rmse: 0.196128\tvalid_1's rmse: 0.475628\n",
      "[160]\ttraining's rmse: 0.189974\tvalid_1's rmse: 0.475977\n",
      "[180]\ttraining's rmse: 0.185016\tvalid_1's rmse: 0.476199\n",
      "[200]\ttraining's rmse: 0.180774\tvalid_1's rmse: 0.476322\n",
      "[220]\ttraining's rmse: 0.177401\tvalid_1's rmse: 0.477111\n",
      "[240]\ttraining's rmse: 0.173947\tvalid_1's rmse: 0.477758\n",
      "[260]\ttraining's rmse: 0.170654\tvalid_1's rmse: 0.478641\n",
      "[280]\ttraining's rmse: 0.168079\tvalid_1's rmse: 0.478492\n",
      "[300]\ttraining's rmse: 0.165505\tvalid_1's rmse: 0.479704\n",
      "[320]\ttraining's rmse: 0.163108\tvalid_1's rmse: 0.480692\n",
      "[340]\ttraining's rmse: 0.161222\tvalid_1's rmse: 0.48044\n",
      "Early stopping, best iteration is:\n",
      "[142]\ttraining's rmse: 0.195535\tvalid_1's rmse: 0.475606\n",
      "Iteration done, nrmlse: 1.0690151815438038\n",
      "Training until validation scores don't improve for 200 rounds\n",
      "[20]\ttraining's rmse: 0.620549\tvalid_1's rmse: 0.578178\n",
      "[40]\ttraining's rmse: 0.378588\tvalid_1's rmse: 0.496363\n",
      "[60]\ttraining's rmse: 0.28891\tvalid_1's rmse: 0.483119\n",
      "[80]\ttraining's rmse: 0.246008\tvalid_1's rmse: 0.478773\n",
      "[100]\ttraining's rmse: 0.221373\tvalid_1's rmse: 0.477021\n",
      "[120]\ttraining's rmse: 0.207529\tvalid_1's rmse: 0.477541\n",
      "[140]\ttraining's rmse: 0.198348\tvalid_1's rmse: 0.476515\n",
      "[160]\ttraining's rmse: 0.191173\tvalid_1's rmse: 0.475362\n",
      "[180]\ttraining's rmse: 0.186362\tvalid_1's rmse: 0.47514\n",
      "[200]\ttraining's rmse: 0.182345\tvalid_1's rmse: 0.47606\n",
      "[220]\ttraining's rmse: 0.178671\tvalid_1's rmse: 0.476597\n",
      "[240]\ttraining's rmse: 0.175042\tvalid_1's rmse: 0.476969\n",
      "[260]\ttraining's rmse: 0.172057\tvalid_1's rmse: 0.477066\n",
      "[280]\ttraining's rmse: 0.169356\tvalid_1's rmse: 0.477346\n",
      "[300]\ttraining's rmse: 0.167131\tvalid_1's rmse: 0.477942\n",
      "[320]\ttraining's rmse: 0.164686\tvalid_1's rmse: 0.478335\n",
      "[340]\ttraining's rmse: 0.162525\tvalid_1's rmse: 0.479182\n",
      "Early stopping, best iteration is:\n",
      "[151]\ttraining's rmse: 0.194372\tvalid_1's rmse: 0.475008\n",
      "Iteration done, nrmlse: 1.0083557162429606\n",
      "Training until validation scores don't improve for 200 rounds\n",
      "[20]\ttraining's rmse: 0.617681\tvalid_1's rmse: 1.32104\n",
      "[40]\ttraining's rmse: 0.374785\tvalid_1's rmse: 1.3049\n",
      "[60]\ttraining's rmse: 0.284282\tvalid_1's rmse: 1.30901\n",
      "[80]\ttraining's rmse: 0.24377\tvalid_1's rmse: 1.31222\n",
      "[100]\ttraining's rmse: 0.221335\tvalid_1's rmse: 1.31387\n",
      "[120]\ttraining's rmse: 0.208264\tvalid_1's rmse: 1.31442\n",
      "[140]\ttraining's rmse: 0.198678\tvalid_1's rmse: 1.31475\n",
      "[160]\ttraining's rmse: 0.192217\tvalid_1's rmse: 1.31481\n",
      "[180]\ttraining's rmse: 0.186565\tvalid_1's rmse: 1.31491\n",
      "[200]\ttraining's rmse: 0.182433\tvalid_1's rmse: 1.31427\n",
      "[220]\ttraining's rmse: 0.178806\tvalid_1's rmse: 1.31411\n",
      "Early stopping, best iteration is:\n",
      "[33]\ttraining's rmse: 0.430114\tvalid_1's rmse: 1.30391\n",
      "Iteration done, nrmlse: 0.5261052861582591\n",
      "FinalScore: 0.8757699689879654\n"
     ]
    }
   ],
   "source": [
    "nrmlses = []\n",
    "for tr_ix, ts_ix in kf.split(data_3a):\n",
    "    data_3a2_tr_x = data_3a.iloc[tr_ix[:int(len(tr_ix)*.9)],:][feat_cols]\n",
    "    data_3a2_tr_y = np.log1p(data_3a.iloc[tr_ix[:int(len(tr_ix)*.9)],:].meter_reading)\n",
    "    data_3a2_val_x = data_3a.iloc[tr_ix[int(len(tr_ix)*.9):],:][feat_cols]\n",
    "    data_3a2_val_y = np.log1p(data_3a.iloc[tr_ix[int(len(tr_ix)*.9):],:].meter_reading)\n",
    "    lgb_train = lgb.Dataset(data_3a2_tr_x, data_3a2_tr_y)\n",
    "    lgb_eval = lgb.Dataset(data_3a2_val_x, data_3a2_val_y)\n",
    "    gbm_regress = lgb.train(lgb_reg_params, lgb_train, num_boost_round=2000, valid_sets=(lgb_train, lgb_eval),\n",
    "                            early_stopping_rounds=20, verbose_eval = 20)\n",
    "    data_3a2_ts_x = data_3a.iloc[ts_ix,:][feat_cols]\n",
    "    data_3a2_ts_y = data_3a.iloc[ts_ix,:].meter_reading\n",
    "    lgbm_hat = (gbm_regress.predict(data_3a2_ts_x, num_iteration=gbm_regress.best_iteration))\n",
    "    nrmlse = root_mean_squared_log_error(np.exp(lgbm_hat), data_3a2_ts_y)\n",
    "    print('Iteration done, nrmlse:', nrmlse)\n",
    "    nrmlses.append(nrmlse)\n",
    "print('FinalScore:', sum(nrmlses) / K)"
   ]
  },
  {
   "cell_type": "code",
   "execution_count": 167,
   "metadata": {},
   "outputs": [
    {
     "name": "stdout",
     "output_type": "stream",
     "text": [
      "Training until validation scores don't improve for 200 rounds\n",
      "[20]\ttraining's rmse: 0.336914\tvalid_1's rmse: 0.408581\n",
      "[40]\ttraining's rmse: 0.169896\tvalid_1's rmse: 0.274901\n",
      "[60]\ttraining's rmse: 0.135494\tvalid_1's rmse: 0.25342\n",
      "[80]\ttraining's rmse: 0.123442\tvalid_1's rmse: 0.24995\n",
      "[100]\ttraining's rmse: 0.115958\tvalid_1's rmse: 0.250243\n",
      "[120]\ttraining's rmse: 0.110749\tvalid_1's rmse: 0.251036\n",
      "[140]\ttraining's rmse: 0.107049\tvalid_1's rmse: 0.251718\n",
      "[160]\ttraining's rmse: 0.104148\tvalid_1's rmse: 0.25155\n",
      "[180]\ttraining's rmse: 0.102134\tvalid_1's rmse: 0.251799\n",
      "[200]\ttraining's rmse: 0.100375\tvalid_1's rmse: 0.252746\n",
      "[220]\ttraining's rmse: 0.0987583\tvalid_1's rmse: 0.253083\n",
      "[240]\ttraining's rmse: 0.0973732\tvalid_1's rmse: 0.253202\n",
      "[260]\ttraining's rmse: 0.0959241\tvalid_1's rmse: 0.253589\n",
      "Early stopping, best iteration is:\n",
      "[79]\ttraining's rmse: 0.123806\tvalid_1's rmse: 0.249947\n",
      "Iteration done, nrmlse: 1.3239670079300783\n",
      "Training until validation scores don't improve for 200 rounds\n",
      "[20]\ttraining's rmse: 0.340894\tvalid_1's rmse: 0.406941\n",
      "[40]\ttraining's rmse: 0.172307\tvalid_1's rmse: 0.271858\n",
      "[60]\ttraining's rmse: 0.138272\tvalid_1's rmse: 0.248518\n",
      "[80]\ttraining's rmse: 0.125359\tvalid_1's rmse: 0.246715\n",
      "[100]\ttraining's rmse: 0.117521\tvalid_1's rmse: 0.246139\n",
      "[120]\ttraining's rmse: 0.112382\tvalid_1's rmse: 0.247732\n",
      "[140]\ttraining's rmse: 0.108247\tvalid_1's rmse: 0.249892\n",
      "[160]\ttraining's rmse: 0.105315\tvalid_1's rmse: 0.250544\n",
      "[180]\ttraining's rmse: 0.103358\tvalid_1's rmse: 0.252477\n",
      "[200]\ttraining's rmse: 0.101357\tvalid_1's rmse: 0.253092\n",
      "[220]\ttraining's rmse: 0.0997385\tvalid_1's rmse: 0.253382\n",
      "[240]\ttraining's rmse: 0.098192\tvalid_1's rmse: 0.254419\n",
      "[260]\ttraining's rmse: 0.0967833\tvalid_1's rmse: 0.254589\n",
      "Early stopping, best iteration is:\n",
      "[76]\ttraining's rmse: 0.127264\tvalid_1's rmse: 0.245965\n",
      "Iteration done, nrmlse: 0.8398506079098174\n",
      "Training until validation scores don't improve for 200 rounds\n",
      "[20]\ttraining's rmse: 0.344838\tvalid_1's rmse: 0.408076\n",
      "[40]\ttraining's rmse: 0.178581\tvalid_1's rmse: 0.271599\n",
      "[60]\ttraining's rmse: 0.145084\tvalid_1's rmse: 0.249537\n",
      "[80]\ttraining's rmse: 0.131031\tvalid_1's rmse: 0.247671\n",
      "[100]\ttraining's rmse: 0.122599\tvalid_1's rmse: 0.247192\n",
      "[120]\ttraining's rmse: 0.116816\tvalid_1's rmse: 0.247368\n",
      "[140]\ttraining's rmse: 0.112965\tvalid_1's rmse: 0.249198\n",
      "[160]\ttraining's rmse: 0.110149\tvalid_1's rmse: 0.250245\n",
      "[180]\ttraining's rmse: 0.107923\tvalid_1's rmse: 0.250997\n",
      "[200]\ttraining's rmse: 0.106101\tvalid_1's rmse: 0.251029\n",
      "[220]\ttraining's rmse: 0.104319\tvalid_1's rmse: 0.25135\n",
      "[240]\ttraining's rmse: 0.102757\tvalid_1's rmse: 0.251749\n",
      "[260]\ttraining's rmse: 0.101225\tvalid_1's rmse: 0.253681\n",
      "[280]\ttraining's rmse: 0.099962\tvalid_1's rmse: 0.255582\n",
      "Early stopping, best iteration is:\n",
      "[97]\ttraining's rmse: 0.123409\tvalid_1's rmse: 0.246909\n",
      "Iteration done, nrmlse: 1.2986928953109804\n",
      "Training until validation scores don't improve for 200 rounds\n",
      "[20]\ttraining's rmse: 0.344164\tvalid_1's rmse: 0.401678\n",
      "[40]\ttraining's rmse: 0.178606\tvalid_1's rmse: 0.26532\n",
      "[60]\ttraining's rmse: 0.144426\tvalid_1's rmse: 0.243076\n",
      "[80]\ttraining's rmse: 0.129597\tvalid_1's rmse: 0.240806\n",
      "[100]\ttraining's rmse: 0.120794\tvalid_1's rmse: 0.240641\n",
      "[120]\ttraining's rmse: 0.115268\tvalid_1's rmse: 0.241243\n",
      "[140]\ttraining's rmse: 0.111803\tvalid_1's rmse: 0.242028\n",
      "[160]\ttraining's rmse: 0.108943\tvalid_1's rmse: 0.242613\n",
      "[180]\ttraining's rmse: 0.106682\tvalid_1's rmse: 0.244282\n",
      "[200]\ttraining's rmse: 0.104618\tvalid_1's rmse: 0.245407\n",
      "[220]\ttraining's rmse: 0.102891\tvalid_1's rmse: 0.24554\n",
      "[240]\ttraining's rmse: 0.101372\tvalid_1's rmse: 0.246283\n",
      "[260]\ttraining's rmse: 0.0999932\tvalid_1's rmse: 0.247298\n",
      "[280]\ttraining's rmse: 0.0986196\tvalid_1's rmse: 0.247762\n",
      "Early stopping, best iteration is:\n",
      "[99]\ttraining's rmse: 0.121055\tvalid_1's rmse: 0.24011\n",
      "Iteration done, nrmlse: 0.9753696774269148\n",
      "Training until validation scores don't improve for 200 rounds\n",
      "[20]\ttraining's rmse: 0.342156\tvalid_1's rmse: 0.345254\n",
      "[40]\ttraining's rmse: 0.176621\tvalid_1's rmse: 0.189044\n",
      "[60]\ttraining's rmse: 0.14227\tvalid_1's rmse: 0.166056\n",
      "[80]\ttraining's rmse: 0.128746\tvalid_1's rmse: 0.163579\n",
      "[100]\ttraining's rmse: 0.119674\tvalid_1's rmse: 0.162427\n",
      "[120]\ttraining's rmse: 0.113999\tvalid_1's rmse: 0.161753\n",
      "[140]\ttraining's rmse: 0.110275\tvalid_1's rmse: 0.161592\n",
      "[160]\ttraining's rmse: 0.107583\tvalid_1's rmse: 0.161382\n",
      "[180]\ttraining's rmse: 0.105297\tvalid_1's rmse: 0.161018\n",
      "[200]\ttraining's rmse: 0.103414\tvalid_1's rmse: 0.160632\n",
      "[220]\ttraining's rmse: 0.101683\tvalid_1's rmse: 0.16064\n",
      "[240]\ttraining's rmse: 0.100126\tvalid_1's rmse: 0.160476\n",
      "[260]\ttraining's rmse: 0.0987583\tvalid_1's rmse: 0.160701\n",
      "[280]\ttraining's rmse: 0.0974245\tvalid_1's rmse: 0.160481\n",
      "[300]\ttraining's rmse: 0.0961066\tvalid_1's rmse: 0.160537\n",
      "[320]\ttraining's rmse: 0.0950639\tvalid_1's rmse: 0.160375\n",
      "[340]\ttraining's rmse: 0.0940851\tvalid_1's rmse: 0.16048\n",
      "[360]\ttraining's rmse: 0.0931484\tvalid_1's rmse: 0.160762\n",
      "[380]\ttraining's rmse: 0.0922251\tvalid_1's rmse: 0.160659\n",
      "[400]\ttraining's rmse: 0.0913938\tvalid_1's rmse: 0.160583\n",
      "[420]\ttraining's rmse: 0.09058\tvalid_1's rmse: 0.160641\n",
      "[440]\ttraining's rmse: 0.0898481\tvalid_1's rmse: 0.160751\n",
      "[460]\ttraining's rmse: 0.0890903\tvalid_1's rmse: 0.160842\n",
      "[480]\ttraining's rmse: 0.0883544\tvalid_1's rmse: 0.161092\n",
      "[500]\ttraining's rmse: 0.0876063\tvalid_1's rmse: 0.161041\n",
      "Early stopping, best iteration is:\n",
      "[310]\ttraining's rmse: 0.0954974\tvalid_1's rmse: 0.160352\n",
      "Iteration done, nrmlse: 0.38678122553962047\n",
      "FinalScore: 0.9649322828234823\n"
     ]
    }
   ],
   "source": [
    "# LogY No0s\n",
    "nrmlses = []\n",
    "for tr_ix, ts_ix in kf.split(data_3a):\n",
    "    data_3a2_tr_x = data_3a.iloc[tr_ix[:int(len(tr_ix)*.9)],:][feat_cols]\n",
    "    data_3a2_tr_y = np.log1p(data_3a.iloc[tr_ix[:int(len(tr_ix)*.9)],:].meter_reading)\n",
    "    data_3a2_val_x = data_3a.iloc[tr_ix[int(len(tr_ix)*.9):],:][feat_cols]\n",
    "    data_3a2_val_y = np.log1p(data_3a.iloc[tr_ix[int(len(tr_ix)*.9):],:].meter_reading)\n",
    "    data_3a2_tr_x = data_3a2_tr_x[data_3a2_tr_y > 0]\n",
    "    data_3a2_tr_y = data_3a2_tr_y[data_3a2_tr_y > 0]\n",
    "    data_3a2_val_x = data_3a2_val_x[data_3a2_val_y > 0]\n",
    "    data_3a2_val_y = data_3a2_val_y[data_3a2_val_y > 0]\n",
    "    lgb_train = lgb.Dataset(data_3a2_tr_x, data_3a2_tr_y)\n",
    "    lgb_eval = lgb.Dataset(data_3a2_val_x, data_3a2_val_y)\n",
    "    gbm_regress = lgb.train(lgb_reg_params, lgb_train, num_boost_round=2000, valid_sets=(lgb_train, lgb_eval),\n",
    "                            early_stopping_rounds=20, verbose_eval = 20)\n",
    "    data_3a2_ts_x = data_3a.iloc[ts_ix,:][feat_cols]\n",
    "    data_3a2_ts_y = data_3a.iloc[ts_ix,:].meter_reading\n",
    "    lgbm_hat = (gbm_regress.predict(data_3a2_ts_x, num_iteration=gbm_regress.best_iteration))\n",
    "    nrmlse = root_mean_squared_log_error(np.exp(lgbm_hat), data_3a2_ts_y)\n",
    "    print('Iteration done, nrmlse:', nrmlse)\n",
    "    nrmlses.append(nrmlse)\n",
    "print('FinalScore:', sum(nrmlses) / K)"
   ]
  },
  {
   "cell_type": "code",
   "execution_count": 168,
   "metadata": {},
   "outputs": [
    {
     "name": "stdout",
     "output_type": "stream",
     "text": [
      "Training until validation scores don't improve for 20 rounds\n",
      "[20]\ttraining's binary_logloss: 0.0196934\tvalid_1's binary_logloss: 0.0417943\n",
      "Early stopping, best iteration is:\n",
      "[19]\ttraining's binary_logloss: 0.020766\tvalid_1's binary_logloss: 0.0417425\n",
      "Training until validation scores don't improve for 200 rounds\n",
      "[20]\ttraining's rmse: 0.336914\tvalid_1's rmse: 0.408581\n",
      "[40]\ttraining's rmse: 0.169896\tvalid_1's rmse: 0.274901\n",
      "[60]\ttraining's rmse: 0.135494\tvalid_1's rmse: 0.25342\n",
      "[80]\ttraining's rmse: 0.123442\tvalid_1's rmse: 0.24995\n",
      "[100]\ttraining's rmse: 0.115958\tvalid_1's rmse: 0.250243\n",
      "[120]\ttraining's rmse: 0.110749\tvalid_1's rmse: 0.251036\n",
      "[140]\ttraining's rmse: 0.107049\tvalid_1's rmse: 0.251718\n",
      "[160]\ttraining's rmse: 0.104148\tvalid_1's rmse: 0.25155\n",
      "[180]\ttraining's rmse: 0.102134\tvalid_1's rmse: 0.251799\n",
      "[200]\ttraining's rmse: 0.100375\tvalid_1's rmse: 0.252746\n",
      "[220]\ttraining's rmse: 0.0987583\tvalid_1's rmse: 0.253083\n",
      "[240]\ttraining's rmse: 0.0973732\tvalid_1's rmse: 0.253202\n",
      "[260]\ttraining's rmse: 0.0959241\tvalid_1's rmse: 0.253589\n",
      "Early stopping, best iteration is:\n",
      "[79]\ttraining's rmse: 0.123806\tvalid_1's rmse: 0.249947\n",
      "Iteration done, nrmlse: 1.1364825801922325\n",
      "Training until validation scores don't improve for 20 rounds\n",
      "[20]\ttraining's binary_logloss: 0.0369758\tvalid_1's binary_logloss: 0.0424754\n",
      "[40]\ttraining's binary_logloss: 0.0198032\tvalid_1's binary_logloss: 0.0480309\n",
      "Early stopping, best iteration is:\n",
      "[21]\ttraining's binary_logloss: 0.0355441\tvalid_1's binary_logloss: 0.0424346\n",
      "Training until validation scores don't improve for 200 rounds\n",
      "[20]\ttraining's rmse: 0.340894\tvalid_1's rmse: 0.406941\n",
      "[40]\ttraining's rmse: 0.172307\tvalid_1's rmse: 0.271858\n",
      "[60]\ttraining's rmse: 0.138272\tvalid_1's rmse: 0.248518\n",
      "[80]\ttraining's rmse: 0.125359\tvalid_1's rmse: 0.246715\n",
      "[100]\ttraining's rmse: 0.117521\tvalid_1's rmse: 0.246139\n",
      "[120]\ttraining's rmse: 0.112382\tvalid_1's rmse: 0.247732\n",
      "[140]\ttraining's rmse: 0.108247\tvalid_1's rmse: 0.249892\n",
      "[160]\ttraining's rmse: 0.105315\tvalid_1's rmse: 0.250544\n",
      "[180]\ttraining's rmse: 0.103358\tvalid_1's rmse: 0.252477\n",
      "[200]\ttraining's rmse: 0.101357\tvalid_1's rmse: 0.253092\n",
      "[220]\ttraining's rmse: 0.0997385\tvalid_1's rmse: 0.253382\n",
      "[240]\ttraining's rmse: 0.098192\tvalid_1's rmse: 0.254419\n",
      "[260]\ttraining's rmse: 0.0967833\tvalid_1's rmse: 0.254589\n",
      "Early stopping, best iteration is:\n",
      "[76]\ttraining's rmse: 0.127264\tvalid_1's rmse: 0.245965\n",
      "Iteration done, nrmlse: 0.5077310617106914\n",
      "Training until validation scores don't improve for 20 rounds\n",
      "[20]\ttraining's binary_logloss: 0.0307194\tvalid_1's binary_logloss: 0.0410441\n",
      "[40]\ttraining's binary_logloss: 0.01689\tvalid_1's binary_logloss: 0.0470281\n",
      "Early stopping, best iteration is:\n",
      "[20]\ttraining's binary_logloss: 0.0307194\tvalid_1's binary_logloss: 0.0410441\n",
      "Training until validation scores don't improve for 200 rounds\n",
      "[20]\ttraining's rmse: 0.344838\tvalid_1's rmse: 0.408076\n",
      "[40]\ttraining's rmse: 0.178581\tvalid_1's rmse: 0.271599\n",
      "[60]\ttraining's rmse: 0.145084\tvalid_1's rmse: 0.249537\n",
      "[80]\ttraining's rmse: 0.131031\tvalid_1's rmse: 0.247671\n",
      "[100]\ttraining's rmse: 0.122599\tvalid_1's rmse: 0.247192\n",
      "[120]\ttraining's rmse: 0.116816\tvalid_1's rmse: 0.247368\n",
      "[140]\ttraining's rmse: 0.112965\tvalid_1's rmse: 0.249198\n",
      "[160]\ttraining's rmse: 0.110149\tvalid_1's rmse: 0.250245\n",
      "[180]\ttraining's rmse: 0.107923\tvalid_1's rmse: 0.250997\n",
      "[200]\ttraining's rmse: 0.106101\tvalid_1's rmse: 0.251029\n",
      "[220]\ttraining's rmse: 0.104319\tvalid_1's rmse: 0.25135\n",
      "[240]\ttraining's rmse: 0.102757\tvalid_1's rmse: 0.251749\n",
      "[260]\ttraining's rmse: 0.101225\tvalid_1's rmse: 0.253681\n",
      "[280]\ttraining's rmse: 0.099962\tvalid_1's rmse: 0.255582\n",
      "Early stopping, best iteration is:\n",
      "[97]\ttraining's rmse: 0.123409\tvalid_1's rmse: 0.246909\n",
      "Iteration done, nrmlse: 1.054571870281638\n",
      "Training until validation scores don't improve for 20 rounds\n",
      "[20]\ttraining's binary_logloss: 0.036706\tvalid_1's binary_logloss: 0.0426058\n",
      "[40]\ttraining's binary_logloss: 0.0196072\tvalid_1's binary_logloss: 0.048858\n",
      "Early stopping, best iteration is:\n",
      "[21]\ttraining's binary_logloss: 0.0356595\tvalid_1's binary_logloss: 0.0422109\n",
      "Training until validation scores don't improve for 200 rounds\n",
      "[20]\ttraining's rmse: 0.344164\tvalid_1's rmse: 0.401678\n",
      "[40]\ttraining's rmse: 0.178606\tvalid_1's rmse: 0.26532\n",
      "[60]\ttraining's rmse: 0.144426\tvalid_1's rmse: 0.243076\n",
      "[80]\ttraining's rmse: 0.129597\tvalid_1's rmse: 0.240806\n",
      "[100]\ttraining's rmse: 0.120794\tvalid_1's rmse: 0.240641\n",
      "[120]\ttraining's rmse: 0.115268\tvalid_1's rmse: 0.241243\n",
      "[140]\ttraining's rmse: 0.111803\tvalid_1's rmse: 0.242028\n",
      "[160]\ttraining's rmse: 0.108943\tvalid_1's rmse: 0.242613\n",
      "[180]\ttraining's rmse: 0.106682\tvalid_1's rmse: 0.244282\n",
      "[200]\ttraining's rmse: 0.104618\tvalid_1's rmse: 0.245407\n",
      "[220]\ttraining's rmse: 0.102891\tvalid_1's rmse: 0.24554\n",
      "[240]\ttraining's rmse: 0.101372\tvalid_1's rmse: 0.246283\n",
      "[260]\ttraining's rmse: 0.0999932\tvalid_1's rmse: 0.247298\n",
      "[280]\ttraining's rmse: 0.0986196\tvalid_1's rmse: 0.247762\n",
      "Early stopping, best iteration is:\n",
      "[99]\ttraining's rmse: 0.121055\tvalid_1's rmse: 0.24011\n",
      "Iteration done, nrmlse: 1.0142587057107029\n",
      "Training until validation scores don't improve for 20 rounds\n",
      "[20]\ttraining's binary_logloss: 0.038597\tvalid_1's binary_logloss: 0.371196\n",
      "Early stopping, best iteration is:\n",
      "[1]\ttraining's binary_logloss: 0.134583\tvalid_1's binary_logloss: 0.290775\n",
      "Training until validation scores don't improve for 200 rounds\n",
      "[20]\ttraining's rmse: 0.342156\tvalid_1's rmse: 0.345254\n",
      "[40]\ttraining's rmse: 0.176621\tvalid_1's rmse: 0.189044\n",
      "[60]\ttraining's rmse: 0.14227\tvalid_1's rmse: 0.166056\n",
      "[80]\ttraining's rmse: 0.128746\tvalid_1's rmse: 0.163579\n",
      "[100]\ttraining's rmse: 0.119674\tvalid_1's rmse: 0.162427\n",
      "[120]\ttraining's rmse: 0.113999\tvalid_1's rmse: 0.161753\n",
      "[140]\ttraining's rmse: 0.110275\tvalid_1's rmse: 0.161592\n",
      "[160]\ttraining's rmse: 0.107583\tvalid_1's rmse: 0.161382\n",
      "[180]\ttraining's rmse: 0.105297\tvalid_1's rmse: 0.161018\n",
      "[200]\ttraining's rmse: 0.103414\tvalid_1's rmse: 0.160632\n",
      "[220]\ttraining's rmse: 0.101683\tvalid_1's rmse: 0.16064\n",
      "[240]\ttraining's rmse: 0.100126\tvalid_1's rmse: 0.160476\n",
      "[260]\ttraining's rmse: 0.0987583\tvalid_1's rmse: 0.160701\n",
      "[280]\ttraining's rmse: 0.0974245\tvalid_1's rmse: 0.160481\n",
      "[300]\ttraining's rmse: 0.0961066\tvalid_1's rmse: 0.160537\n",
      "[320]\ttraining's rmse: 0.0950639\tvalid_1's rmse: 0.160375\n",
      "[340]\ttraining's rmse: 0.0940851\tvalid_1's rmse: 0.16048\n",
      "[360]\ttraining's rmse: 0.0931484\tvalid_1's rmse: 0.160762\n",
      "[380]\ttraining's rmse: 0.0922251\tvalid_1's rmse: 0.160659\n",
      "[400]\ttraining's rmse: 0.0913938\tvalid_1's rmse: 0.160583\n",
      "[420]\ttraining's rmse: 0.09058\tvalid_1's rmse: 0.160641\n",
      "[440]\ttraining's rmse: 0.0898481\tvalid_1's rmse: 0.160751\n",
      "[460]\ttraining's rmse: 0.0890903\tvalid_1's rmse: 0.160842\n",
      "[480]\ttraining's rmse: 0.0883544\tvalid_1's rmse: 0.161092\n",
      "[500]\ttraining's rmse: 0.0876063\tvalid_1's rmse: 0.161041\n",
      "Early stopping, best iteration is:\n",
      "[310]\ttraining's rmse: 0.0954974\tvalid_1's rmse: 0.160352\n",
      "Iteration done, nrmlse: 0.38678122553962047\n",
      "FinalScore: 0.819965088686977\n"
     ]
    }
   ],
   "source": [
    "# 2-steps\n",
    "nrmlses = []\n",
    "for tr_ix, ts_ix in kf.split(data_3a):\n",
    "    data_3a2_tr_x = data_3a.iloc[tr_ix[:int(len(tr_ix)*.9)],:][feat_cols]\n",
    "    data_3a2_tr_y = np.log1p(data_3a.iloc[tr_ix[:int(len(tr_ix)*.9)],:].meter_reading)\n",
    "    data_3a2_val_x = data_3a.iloc[tr_ix[int(len(tr_ix)*.9):],:][feat_cols]\n",
    "    data_3a2_val_y = np.log1p(data_3a.iloc[tr_ix[int(len(tr_ix)*.9):],:].meter_reading)\n",
    "    lgb_train = lgb.Dataset(data_3a2_tr_x, data_3a2_tr_y > 0)\n",
    "    lgb_eval = lgb.Dataset(data_3a2_val_x, data_3a2_val_y > 0)\n",
    "    class_params = {'boosting_type': 'gbdt', 'objective': 'binary', 'metric': {'binary_logloss'},\n",
    "                    'learning_rate': 0.1, 'feature_fraction': 0.8, 'bagging_fraction': 0.8,\n",
    "                    'bagging_freq' : 5}\n",
    "    gbm_class = lgb.train(class_params,\n",
    "                lgb_train,\n",
    "                num_boost_round=2000,\n",
    "                valid_sets=(lgb_train, lgb_eval),\n",
    "                early_stopping_rounds=20,\n",
    "                verbose_eval = 20)\n",
    "    lgb_train = lgb.Dataset(data_3a2_tr_x[data_3a2_tr_y > 0], data_3a2_tr_y[data_3a2_tr_y > 0])\n",
    "    lgb_eval = lgb.Dataset(data_3a2_val_x[data_3a2_val_y > 0] , data_3a2_val_y[data_3a2_val_y > 0])\n",
    "    gbm_regress = lgb.train(lgb_reg_params,\n",
    "                lgb_train,\n",
    "                num_boost_round=2000,\n",
    "                valid_sets=(lgb_train, lgb_eval),\n",
    "                early_stopping_rounds=20,\n",
    "                verbose_eval = 20)\n",
    "    data_3a2_ts_x = data_3a.iloc[ts_ix,:][feat_cols]\n",
    "    data_3a2_ts_y = data_3a.iloc[ts_ix,:].meter_reading\n",
    "    lgbm_hat = (gbm_class.predict(data_3a2_ts_x, num_iteration=gbm_class.best_iteration) > .5) *\\\n",
    "    (gbm_regress.predict(data_3a2_ts_x, num_iteration=gbm_regress.best_iteration))\n",
    "    nrmlse = root_mean_squared_log_error(np.exp(lgbm_hat), data_3a2_ts_y)\n",
    "    print('Iteration done, nrmlse:', nrmlse)\n",
    "    nrmlses.append(nrmlse)\n",
    "print('FinalScore:', sum(nrmlses) / K)"
   ]
  },
  {
   "cell_type": "code",
   "execution_count": 169,
   "metadata": {},
   "outputs": [
    {
     "name": "stdout",
     "output_type": "stream",
     "text": [
      "Training until validation scores don't improve for 200 rounds\n",
      "[20]\ttraining's rmse: 157.8\tvalid_1's rmse: 124.971\n",
      "[40]\ttraining's rmse: 140.907\tvalid_1's rmse: 116.844\n",
      "[60]\ttraining's rmse: 133.401\tvalid_1's rmse: 117.381\n",
      "[80]\ttraining's rmse: 125.511\tvalid_1's rmse: 119.977\n",
      "[100]\ttraining's rmse: 119.693\tvalid_1's rmse: 119.185\n",
      "[120]\ttraining's rmse: 114.772\tvalid_1's rmse: 120.887\n",
      "[140]\ttraining's rmse: 109.899\tvalid_1's rmse: 121.247\n",
      "[160]\ttraining's rmse: 106.235\tvalid_1's rmse: 122.154\n",
      "[180]\ttraining's rmse: 103.113\tvalid_1's rmse: 123.782\n",
      "[200]\ttraining's rmse: 99.1186\tvalid_1's rmse: 124.137\n",
      "[220]\ttraining's rmse: 96.026\tvalid_1's rmse: 125.503\n",
      "[240]\ttraining's rmse: 92.9901\tvalid_1's rmse: 125.953\n",
      "Early stopping, best iteration is:\n",
      "[42]\ttraining's rmse: 140.158\tvalid_1's rmse: 116.447\n",
      "Iteration done, nrmlse: 1.3959323989867758\n",
      "Training until validation scores don't improve for 200 rounds\n",
      "[20]\ttraining's rmse: 171.452\tvalid_1's rmse: 121.304\n",
      "[40]\ttraining's rmse: 154.7\tvalid_1's rmse: 116.922\n",
      "[60]\ttraining's rmse: 146.169\tvalid_1's rmse: 118.717\n",
      "[80]\ttraining's rmse: 137.732\tvalid_1's rmse: 121.007\n",
      "[100]\ttraining's rmse: 131.751\tvalid_1's rmse: 121.907\n",
      "[120]\ttraining's rmse: 126.184\tvalid_1's rmse: 124.563\n",
      "[140]\ttraining's rmse: 121.207\tvalid_1's rmse: 125.967\n",
      "[160]\ttraining's rmse: 116.859\tvalid_1's rmse: 126.547\n",
      "[180]\ttraining's rmse: 112.486\tvalid_1's rmse: 126.834\n",
      "[200]\ttraining's rmse: 109.112\tvalid_1's rmse: 129.493\n",
      "[220]\ttraining's rmse: 106.242\tvalid_1's rmse: 130.148\n",
      "Early stopping, best iteration is:\n",
      "[32]\ttraining's rmse: 159.745\tvalid_1's rmse: 115.562\n",
      "Iteration done, nrmlse: 0.9627196036301029\n",
      "Training until validation scores don't improve for 200 rounds\n",
      "[20]\ttraining's rmse: 165.369\tvalid_1's rmse: 123.501\n",
      "[40]\ttraining's rmse: 150.531\tvalid_1's rmse: 116.625\n",
      "[60]\ttraining's rmse: 143.32\tvalid_1's rmse: 117.571\n",
      "[80]\ttraining's rmse: 136.772\tvalid_1's rmse: 119.143\n",
      "[100]\ttraining's rmse: 131.654\tvalid_1's rmse: 119.814\n",
      "[120]\ttraining's rmse: 126.406\tvalid_1's rmse: 121.553\n",
      "[140]\ttraining's rmse: 122.33\tvalid_1's rmse: 123.217\n",
      "[160]\ttraining's rmse: 119.18\tvalid_1's rmse: 124.944\n",
      "[180]\ttraining's rmse: 113.982\tvalid_1's rmse: 127.772\n",
      "[200]\ttraining's rmse: 110.906\tvalid_1's rmse: 129.135\n",
      "[220]\ttraining's rmse: 107.49\tvalid_1's rmse: 131.3\n",
      "Early stopping, best iteration is:\n",
      "[35]\ttraining's rmse: 152.59\tvalid_1's rmse: 116.177\n",
      "Iteration done, nrmlse: 1.3941021565595582\n",
      "Training until validation scores don't improve for 200 rounds\n",
      "[20]\ttraining's rmse: 116.869\tvalid_1's rmse: 122.979\n",
      "[40]\ttraining's rmse: 99.0955\tvalid_1's rmse: 114.491\n",
      "[60]\ttraining's rmse: 92.2526\tvalid_1's rmse: 116.198\n",
      "[80]\ttraining's rmse: 86.8364\tvalid_1's rmse: 117.574\n",
      "[100]\ttraining's rmse: 82.4732\tvalid_1's rmse: 119.529\n",
      "[120]\ttraining's rmse: 78.9233\tvalid_1's rmse: 122.077\n",
      "[140]\ttraining's rmse: 76.071\tvalid_1's rmse: 125.71\n",
      "[160]\ttraining's rmse: 73.9396\tvalid_1's rmse: 126.288\n",
      "[180]\ttraining's rmse: 71.8372\tvalid_1's rmse: 127.245\n",
      "[200]\ttraining's rmse: 69.5561\tvalid_1's rmse: 127.741\n",
      "[220]\ttraining's rmse: 67.5911\tvalid_1's rmse: 128.175\n",
      "Early stopping, best iteration is:\n",
      "[33]\ttraining's rmse: 102.605\tvalid_1's rmse: 114.3\n",
      "Iteration done, nrmlse: 1.0702155751986477\n",
      "Training until validation scores don't improve for 200 rounds\n",
      "[20]\ttraining's rmse: 118.395\tvalid_1's rmse: 417.526\n",
      "[40]\ttraining's rmse: 100.741\tvalid_1's rmse: 412.63\n",
      "[60]\ttraining's rmse: 94.5512\tvalid_1's rmse: 412.141\n",
      "[80]\ttraining's rmse: 88.96\tvalid_1's rmse: 412.216\n",
      "[100]\ttraining's rmse: 84.2555\tvalid_1's rmse: 412.021\n",
      "[120]\ttraining's rmse: 80.4573\tvalid_1's rmse: 412.365\n",
      "[140]\ttraining's rmse: 77.516\tvalid_1's rmse: 412.426\n",
      "[160]\ttraining's rmse: 75.3523\tvalid_1's rmse: 412.326\n",
      "[180]\ttraining's rmse: 73.1355\tvalid_1's rmse: 412.233\n",
      "[200]\ttraining's rmse: 71.0233\tvalid_1's rmse: 412.302\n",
      "[220]\ttraining's rmse: 69.3918\tvalid_1's rmse: 412.409\n",
      "[240]\ttraining's rmse: 67.8362\tvalid_1's rmse: 412.456\n",
      "[260]\ttraining's rmse: 66.3043\tvalid_1's rmse: 412.355\n",
      "[280]\ttraining's rmse: 64.9146\tvalid_1's rmse: 412.314\n",
      "Early stopping, best iteration is:\n",
      "[87]\ttraining's rmse: 87.4558\tvalid_1's rmse: 411.914\n",
      "Iteration done, nrmlse: 0.47369551956973316\n"
     ]
    },
    {
     "name": "stderr",
     "output_type": "stream",
     "text": [
      "/Users/Ric/_personal/x_tsm/tsm/eval_metrics.py:5: RuntimeWarning: invalid value encountered in log\n",
      "  return np.sqrt(np.sum(np.power(np.log(predicted + 1) - np.log(actual + 1), 2)) / len(actual))\n"
     ]
    }
   ],
   "source": [
    "nrmlses = []\n",
    "for tr_ix, ts_ix in kf.split(data_3a):\n",
    "    data_3a2_tr_x = data_3a.iloc[tr_ix[:int(len(tr_ix)*.9)],:][feat_cols]\n",
    "    data_3a2_tr_y = data_3a.iloc[tr_ix[:int(len(tr_ix)*.9)],:].meter_reading\n",
    "    data_3a2_val_x = data_3a.iloc[tr_ix[int(len(tr_ix)*.9):],:][feat_cols]\n",
    "    data_3a2_val_y = data_3a.iloc[tr_ix[int(len(tr_ix)*.9):],:].meter_reading\n",
    "    data_3a2_tr_x = data_3a2_tr_x[data_3a2_tr_y > 0]\n",
    "    data_3a2_tr_y = data_3a2_tr_y[data_3a2_tr_y > 0]\n",
    "    data_3a2_val_x = data_3a2_val_x[data_3a2_val_y > 0]\n",
    "    data_3a2_val_y = data_3a2_val_y[data_3a2_val_y > 0]\n",
    "    lgb_train = lgb.Dataset(data_3a2_tr_x, data_3a2_tr_y)\n",
    "    lgb_eval = lgb.Dataset(data_3a2_val_x, data_3a2_val_y)\n",
    "    gbm_regress = lgb.train(lgb_reg_params, lgb_train, num_boost_round=2000, valid_sets=(lgb_train, lgb_eval),\n",
    "                            early_stopping_rounds=20, verbose_eval = 20)\n",
    "    data_3a2_ts_x = data_3a.iloc[ts_ix,:][feat_cols]\n",
    "    data_3a2_ts_y = data_3a.iloc[ts_ix,:].meter_reading\n",
    "    lgbm_hat = (gbm_regress.predict(data_3a2_ts_x, num_iteration=gbm_regress.best_iteration))\n",
    "    nrmlse = root_mean_squared_log_error(lgbm_hat, data_3a2_ts_y)\n",
    "    print('Iteration done, nrmlse:', nrmlse)\n",
    "    nrmlses.append(nrmlse)"
   ]
  },
  {
   "cell_type": "code",
   "execution_count": 170,
   "metadata": {},
   "outputs": [
    {
     "data": {
      "text/plain": [
       "1.0593330507889636"
      ]
     },
     "execution_count": 170,
     "metadata": {},
     "output_type": "execute_result"
    }
   ],
   "source": [
    "sum(nrmlses) / K"
   ]
  },
  {
   "cell_type": "code",
   "execution_count": null,
   "metadata": {},
   "outputs": [],
   "source": []
  }
 ],
 "metadata": {
  "kernelspec": {
   "display_name": "Python 3",
   "language": "python",
   "name": "python3"
  },
  "language_info": {
   "codemirror_mode": {
    "name": "ipython",
    "version": 3
   },
   "file_extension": ".py",
   "mimetype": "text/x-python",
   "name": "python",
   "nbconvert_exporter": "python",
   "pygments_lexer": "ipython3",
   "version": "3.6.1"
  }
 },
 "nbformat": 4,
 "nbformat_minor": 2
}
