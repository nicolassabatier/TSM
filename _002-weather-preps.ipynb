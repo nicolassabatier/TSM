{
 "cells": [
  {
   "cell_type": "markdown",
   "metadata": {},
   "source": [
    "# Step 2) Preparing weather data"
   ]
  },
  {
   "cell_type": "code",
   "execution_count": 1,
   "metadata": {},
   "outputs": [],
   "source": [
    "%load_ext autoreload\n",
    "%autoreload 2"
   ]
  },
  {
   "cell_type": "code",
   "execution_count": 2,
   "metadata": {},
   "outputs": [],
   "source": [
    "import pandas as pd"
   ]
  },
  {
   "cell_type": "code",
   "execution_count": 3,
   "metadata": {},
   "outputs": [],
   "source": [
    "import numpy as np"
   ]
  },
  {
   "cell_type": "code",
   "execution_count": 4,
   "metadata": {},
   "outputs": [],
   "source": [
    "from tsm.data_selector import split_data_frame_by_column"
   ]
  },
  {
   "cell_type": "code",
   "execution_count": 5,
   "metadata": {},
   "outputs": [],
   "source": [
    "from tsm.data_utils import compress_memory_usage"
   ]
  },
  {
   "cell_type": "code",
   "execution_count": 6,
   "metadata": {},
   "outputs": [],
   "source": [
    "NA_REPLACER = {\n",
    "    'air_temperature': 99,\n",
    "    'cloud_coverage': 99,\n",
    "    'dew_temperature': 99,\n",
    "    'precip_depth_1_hr': 999,\n",
    "    'sea_level_pressure': 9999,\n",
    "    'wind_direction': 999,\n",
    "    'wind_speed': 99\n",
    "}"
   ]
  },
  {
   "cell_type": "code",
   "execution_count": 11,
   "metadata": {},
   "outputs": [],
   "source": [
    "def interpolate_weather_data(data):\n",
    "    \n",
    "    sites_data = []\n",
    "    for site_data in split_data_frame_by_column(data, by='site_id', drop=False):\n",
    "        site_data['timestamp'] = pd.to_datetime(site_data['timestamp'])\n",
    "        site_data.set_index('timestamp', inplace=True)\n",
    "        for col in site_data.columns:\n",
    "            if col != 'site_id':\n",
    "                site_data[col].replace(NA_REPLACER[col], np.nan, inplace=True)\n",
    "                if site_data[col].isna().sum() < len(site_data):\n",
    "                    site_data[col] = site_data[col].interpolate(method='time')\n",
    "        sites_data.append(site_data)\n",
    "    \n",
    "    return pd.concat(sites_data).reset_index()"
   ]
  },
  {
   "cell_type": "code",
   "execution_count": 8,
   "metadata": {},
   "outputs": [],
   "source": [
    "def add_ewm_lags(data):\n",
    "    \n",
    "    sites_data = []\n",
    "    for site_data in split_data_frame_by_column(data, by='site_id', drop=False):\n",
    "        for col in site_data.columns:\n",
    "            if col != 'site_id' and col != 'timestamp':\n",
    "                \n",
    "                site_data[col + '_ewm_001'] = site_data[col].ewm(alpha=0.01).mean()\n",
    "                site_data[col + '_ewm_005'] = site_data[col].ewm(alpha=0.05).mean()\n",
    "                site_data[col + '_ewm_01'] = site_data[col].ewm(alpha=0.1).mean()\n",
    "                site_data[col + '_ewm_02'] = site_data[col].ewm(alpha=0.1).mean()\n",
    "        \n",
    "        sites_data.append(site_data)\n",
    "        \n",
    "    return pd.concat(sites_data)"
   ]
  },
  {
   "cell_type": "code",
   "execution_count": 19,
   "metadata": {},
   "outputs": [],
   "source": [
    "weather_file = \"data/comp/weather_test.pkl\""
   ]
  },
  {
   "cell_type": "code",
   "execution_count": 20,
   "metadata": {},
   "outputs": [
    {
     "name": "stdout",
     "output_type": "stream",
     "text": [
      "Splitter will return list of 16 dataframe\n",
      "Splitter will return list of 16 dataframe\n"
     ]
    },
    {
     "data": {
      "application/vnd.jupyter.widget-view+json": {
       "model_id": "018cfb11637f479da7ee8e1cf0f99cd0",
       "version_major": 2,
       "version_minor": 0
      },
      "text/plain": [
       "HBox(children=(IntProgress(value=0, description='DataFrame: compress_memory_usage', max=37, style=ProgressStyl…"
      ]
     },
     "metadata": {},
     "output_type": "display_data"
    },
    {
     "name": "stdout",
     "output_type": "stream",
     "text": [
      "\n",
      "Memory usage pre-compression was 74.29626750946045\n",
      "Memory usage after-compression was 41.51072597503662\n",
      "This is  55.87188612099644% of the initial size\n"
     ]
    }
   ],
   "source": [
    "weather_data, _ = compress_memory_usage(add_ewm_lags(interpolate_weather_data(pd.read_pickle(weather_file))), {})"
   ]
  },
  {
   "cell_type": "code",
   "execution_count": 21,
   "metadata": {},
   "outputs": [],
   "source": [
    "weather_data.to_pickle(weather_file)"
   ]
  }
 ],
 "metadata": {
  "kernelspec": {
   "display_name": "Python 3",
   "language": "python",
   "name": "python3"
  },
  "language_info": {
   "codemirror_mode": {
    "name": "ipython",
    "version": 3
   },
   "file_extension": ".py",
   "mimetype": "text/x-python",
   "name": "python",
   "nbconvert_exporter": "python",
   "pygments_lexer": "ipython3",
   "version": "3.5.3"
  }
 },
 "nbformat": 4,
 "nbformat_minor": 2
}
