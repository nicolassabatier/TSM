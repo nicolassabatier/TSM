{
 "cells": [
  {
   "cell_type": "code",
   "execution_count": 1,
   "metadata": {},
   "outputs": [],
   "source": [
    "%load_ext autoreload\n",
    "%autoreload 2"
   ]
  },
  {
   "cell_type": "code",
   "execution_count": 2,
   "metadata": {},
   "outputs": [],
   "source": [
    "import pandas as pd\n",
    "from tsm.data_selector import data_subset_by_dict\n",
    "import matplotlib.pyplot as plt\n",
    "import numpy as np"
   ]
  },
  {
   "cell_type": "code",
   "execution_count": 3,
   "metadata": {},
   "outputs": [],
   "source": [
    "train_data = pd.read_pickle('kaggle/input/ashrae-energy-prediction/train.pkl')"
   ]
  },
  {
   "cell_type": "code",
   "execution_count": 12,
   "metadata": {},
   "outputs": [
    {
     "data": {
      "text/plain": [
       "0     8165504\n",
       "6     4394864\n",
       "1     2264917\n",
       "4     2146413\n",
       "9     1662826\n",
       "3      398527\n",
       "7      242222\n",
       "8      213796\n",
       "5      125713\n",
       "2      114090\n",
       "11     112657\n",
       "15     111861\n",
       "12      96519\n",
       "13      77627\n",
       "14      56203\n",
       "10      32361\n",
       "Name: primary_use, dtype: int64"
      ]
     },
     "execution_count": 12,
     "metadata": {},
     "output_type": "execute_result"
    }
   ],
   "source": [
    "train_data.primary_use.value_counts()"
   ]
  },
  {
   "cell_type": "markdown",
   "metadata": {},
   "source": [
    "## Level 5A)\n",
    "* 1 primary use\n",
    "* 1 meter reading - meter 0\n",
    "* Site ID"
   ]
  },
  {
   "cell_type": "code",
   "execution_count": 13,
   "metadata": {},
   "outputs": [],
   "source": [
    "level_5a = {'primary_use': 1, 'meter': 0}\n",
    "level_5a_cols = ['building_id', 'site_id', 'meter_reading', 'dt_m', 'dt_w', 'dt_d', 'dt_hour', \n",
    "                 'dt_day_week', 'dt_day_month', 'dt_week_month']"
   ]
  },
  {
   "cell_type": "code",
   "execution_count": 14,
   "metadata": {},
   "outputs": [],
   "source": [
    "data_5a = data_subset_by_dict(train_data, level_5a, level_5a_cols)"
   ]
  },
  {
   "cell_type": "code",
   "execution_count": 15,
   "metadata": {},
   "outputs": [
    {
     "data": {
      "text/html": [
       "<div>\n",
       "<style scoped>\n",
       "    .dataframe tbody tr th:only-of-type {\n",
       "        vertical-align: middle;\n",
       "    }\n",
       "\n",
       "    .dataframe tbody tr th {\n",
       "        vertical-align: top;\n",
       "    }\n",
       "\n",
       "    .dataframe thead th {\n",
       "        text-align: right;\n",
       "    }\n",
       "</style>\n",
       "<table border=\"1\" class=\"dataframe\">\n",
       "  <thead>\n",
       "    <tr style=\"text-align: right;\">\n",
       "      <th></th>\n",
       "      <th>building_id</th>\n",
       "      <th>site_id</th>\n",
       "      <th>meter_reading</th>\n",
       "      <th>dt_m</th>\n",
       "      <th>dt_w</th>\n",
       "      <th>dt_d</th>\n",
       "      <th>dt_hour</th>\n",
       "      <th>dt_day_week</th>\n",
       "      <th>dt_day_month</th>\n",
       "      <th>dt_week_month</th>\n",
       "    </tr>\n",
       "  </thead>\n",
       "  <tbody>\n",
       "    <tr>\n",
       "      <th>10</th>\n",
       "      <td>10</td>\n",
       "      <td>0</td>\n",
       "      <td>0.0</td>\n",
       "      <td>1</td>\n",
       "      <td>53</td>\n",
       "      <td>1</td>\n",
       "      <td>0</td>\n",
       "      <td>4</td>\n",
       "      <td>1</td>\n",
       "      <td>1</td>\n",
       "    </tr>\n",
       "    <tr>\n",
       "      <th>39</th>\n",
       "      <td>40</td>\n",
       "      <td>0</td>\n",
       "      <td>0.0</td>\n",
       "      <td>1</td>\n",
       "      <td>53</td>\n",
       "      <td>1</td>\n",
       "      <td>0</td>\n",
       "      <td>4</td>\n",
       "      <td>1</td>\n",
       "      <td>1</td>\n",
       "    </tr>\n",
       "    <tr>\n",
       "      <th>57</th>\n",
       "      <td>59</td>\n",
       "      <td>0</td>\n",
       "      <td>0.0</td>\n",
       "      <td>1</td>\n",
       "      <td>53</td>\n",
       "      <td>1</td>\n",
       "      <td>0</td>\n",
       "      <td>4</td>\n",
       "      <td>1</td>\n",
       "      <td>1</td>\n",
       "    </tr>\n",
       "    <tr>\n",
       "      <th>85</th>\n",
       "      <td>87</td>\n",
       "      <td>0</td>\n",
       "      <td>0.0</td>\n",
       "      <td>1</td>\n",
       "      <td>53</td>\n",
       "      <td>1</td>\n",
       "      <td>0</td>\n",
       "      <td>4</td>\n",
       "      <td>1</td>\n",
       "      <td>1</td>\n",
       "    </tr>\n",
       "    <tr>\n",
       "      <th>86</th>\n",
       "      <td>88</td>\n",
       "      <td>0</td>\n",
       "      <td>0.0</td>\n",
       "      <td>1</td>\n",
       "      <td>53</td>\n",
       "      <td>1</td>\n",
       "      <td>0</td>\n",
       "      <td>4</td>\n",
       "      <td>1</td>\n",
       "      <td>1</td>\n",
       "    </tr>\n",
       "  </tbody>\n",
       "</table>\n",
       "</div>"
      ],
      "text/plain": [
       "    building_id  site_id  meter_reading  dt_m  dt_w  dt_d  dt_hour  \\\n",
       "10           10        0            0.0     1    53     1        0   \n",
       "39           40        0            0.0     1    53     1        0   \n",
       "57           59        0            0.0     1    53     1        0   \n",
       "85           87        0            0.0     1    53     1        0   \n",
       "86           88        0            0.0     1    53     1        0   \n",
       "\n",
       "    dt_day_week  dt_day_month  dt_week_month  \n",
       "10            4             1              1  \n",
       "39            4             1              1  \n",
       "57            4             1              1  \n",
       "85            4             1              1  \n",
       "86            4             1              1  "
      ]
     },
     "execution_count": 15,
     "metadata": {},
     "output_type": "execute_result"
    }
   ],
   "source": [
    "data_5a.head()"
   ]
  },
  {
   "cell_type": "code",
   "execution_count": 16,
   "metadata": {},
   "outputs": [
    {
     "data": {
      "text/plain": [
       "14"
      ]
     },
     "execution_count": 16,
     "metadata": {},
     "output_type": "execute_result"
    }
   ],
   "source": [
    "len(set(data_5a.site_id))"
   ]
  },
  {
   "cell_type": "code",
   "execution_count": 17,
   "metadata": {},
   "outputs": [
    {
     "data": {
      "text/plain": [
       "179"
      ]
     },
     "execution_count": 17,
     "metadata": {},
     "output_type": "execute_result"
    }
   ],
   "source": [
    "len(set(data_5a.building_id))"
   ]
  },
  {
   "cell_type": "code",
   "execution_count": 18,
   "metadata": {},
   "outputs": [
    {
     "name": "stderr",
     "output_type": "stream",
     "text": [
      "/Library/Frameworks/Python.framework/Versions/3.6/lib/python3.6/site-packages/lightgbm/__init__.py:48: UserWarning: Starting from version 2.2.1, the library file in distribution wheels for macOS is built by the Apple Clang (Xcode_8.3.3) compiler.\n",
      "This means that in case of installing LightGBM from PyPI via the ``pip install lightgbm`` command, you don't need to install the gcc compiler anymore.\n",
      "Instead of that, you need to install the OpenMP library, which is required for running LightGBM on the system with the Apple Clang compiler.\n",
      "You can install the OpenMP library by the following command: ``brew install libomp``.\n",
      "  \"You can install the OpenMP library by the following command: ``brew install libomp``.\", UserWarning)\n"
     ]
    }
   ],
   "source": [
    "import lightgbm as lgb"
   ]
  },
  {
   "cell_type": "code",
   "execution_count": 19,
   "metadata": {},
   "outputs": [],
   "source": [
    "from tsm.eval_metrics import root_mean_squared_log_error"
   ]
  },
  {
   "cell_type": "code",
   "execution_count": 20,
   "metadata": {},
   "outputs": [],
   "source": [
    "SEED = 7"
   ]
  },
  {
   "cell_type": "code",
   "execution_count": 21,
   "metadata": {},
   "outputs": [],
   "source": [
    "lgb_reg_params = {'objective':'regression',  'boosting_type':'gbdt', 'metric':'rmse',\n",
    "                  'n_jobs':-1, 'learning_rate':0.07, 'num_leaves': 2**8, 'max_depth':-1,\n",
    "                  'tree_learner':'serial', 'colsample_bytree': 0.7, 'subsample_freq':1,\n",
    "                  'subsample':0.5, 'max_bin':255, 'verbose':1, 'seed': SEED, 'early_stopping_rounds': 40} "
   ]
  },
  {
   "cell_type": "code",
   "execution_count": 22,
   "metadata": {},
   "outputs": [],
   "source": [
    "# Cross Validation\n",
    "from sklearn.model_selection import KFold"
   ]
  },
  {
   "cell_type": "code",
   "execution_count": 23,
   "metadata": {},
   "outputs": [],
   "source": [
    "K = 5\n",
    "kf = KFold(n_splits=K)"
   ]
  },
  {
   "cell_type": "code",
   "execution_count": 25,
   "metadata": {},
   "outputs": [],
   "source": [
    "feat_cols = ['building_id', 'site_id', 'dt_m', 'dt_w', 'dt_d', 'dt_hour', \n",
    "             'dt_day_week', 'dt_day_month', 'dt_week_month']"
   ]
  },
  {
   "cell_type": "code",
   "execution_count": 26,
   "metadata": {},
   "outputs": [
    {
     "name": "stderr",
     "output_type": "stream",
     "text": [
      "/Library/Frameworks/Python.framework/Versions/3.6/lib/python3.6/site-packages/lightgbm/engine.py:153: UserWarning: Found `early_stopping_rounds` in params. Will use it instead of argument\n",
      "  warnings.warn(\"Found `{}` in params. Will use it instead of argument\".format(alias))\n"
     ]
    },
    {
     "name": "stdout",
     "output_type": "stream",
     "text": [
      "Training until validation scores don't improve for 40 rounds\n",
      "[20]\ttraining's rmse: 104.504\tvalid_1's rmse: 104.533\n",
      "[40]\ttraining's rmse: 64.4752\tvalid_1's rmse: 68.0111\n",
      "[60]\ttraining's rmse: 55.5058\tvalid_1's rmse: 62.8308\n",
      "[80]\ttraining's rmse: 50.7556\tvalid_1's rmse: 62.0566\n",
      "[100]\ttraining's rmse: 48.7052\tvalid_1's rmse: 62.3951\n",
      "Early stopping, best iteration is:\n",
      "[76]\ttraining's rmse: 51.24\tvalid_1's rmse: 61.8567\n"
     ]
    },
    {
     "name": "stderr",
     "output_type": "stream",
     "text": [
      "/Users/Ric/_personal/x_tsm/tsm/eval_metrics.py:5: RuntimeWarning: invalid value encountered in log\n",
      "  return np.sqrt(np.sum(np.power(np.log(predicted + 1) - np.log(actual + 1), 2)) / len(actual))\n"
     ]
    },
    {
     "name": "stdout",
     "output_type": "stream",
     "text": [
      "Iteration done, nrmlse: 0.9147511177005977\n",
      "Training until validation scores don't improve for 40 rounds\n",
      "[20]\ttraining's rmse: 107.267\tvalid_1's rmse: 107.079\n",
      "[40]\ttraining's rmse: 67.9961\tvalid_1's rmse: 68.3983\n",
      "[60]\ttraining's rmse: 59.0902\tvalid_1's rmse: 62.771\n",
      "[80]\ttraining's rmse: 54.3492\tvalid_1's rmse: 61.198\n",
      "[100]\ttraining's rmse: 52.2522\tvalid_1's rmse: 61.557\n",
      "[120]\ttraining's rmse: 50.7028\tvalid_1's rmse: 61.864\n",
      "Early stopping, best iteration is:\n",
      "[80]\ttraining's rmse: 54.3492\tvalid_1's rmse: 61.198\n",
      "Iteration done, nrmlse: 1.0905780289853297\n",
      "Training until validation scores don't improve for 40 rounds\n",
      "[20]\ttraining's rmse: 103.899\tvalid_1's rmse: 106.688\n",
      "[40]\ttraining's rmse: 67.0821\tvalid_1's rmse: 68.2716\n",
      "[60]\ttraining's rmse: 58.8813\tvalid_1's rmse: 62.8168\n",
      "[80]\ttraining's rmse: 54.7206\tvalid_1's rmse: 61.5554\n",
      "[100]\ttraining's rmse: 52.8112\tvalid_1's rmse: 62.0648\n",
      "[120]\ttraining's rmse: 51.3197\tvalid_1's rmse: 62.2418\n",
      "Early stopping, best iteration is:\n",
      "[80]\ttraining's rmse: 54.7206\tvalid_1's rmse: 61.5554\n",
      "Iteration done, nrmlse: 0.998589881769353\n",
      "Training until validation scores don't improve for 40 rounds\n",
      "[20]\ttraining's rmse: 103.182\tvalid_1's rmse: 106.951\n",
      "[40]\ttraining's rmse: 65.1745\tvalid_1's rmse: 68.247\n",
      "[60]\ttraining's rmse: 56.5047\tvalid_1's rmse: 62.4956\n",
      "[80]\ttraining's rmse: 51.9073\tvalid_1's rmse: 60.8544\n",
      "[100]\ttraining's rmse: 49.8181\tvalid_1's rmse: 61.0138\n",
      "[120]\ttraining's rmse: 48.3656\tvalid_1's rmse: 61.2854\n",
      "Early stopping, best iteration is:\n",
      "[80]\ttraining's rmse: 51.9073\tvalid_1's rmse: 60.8544\n",
      "Iteration done, nrmlse: 0.9662020965916156\n",
      "Training until validation scores don't improve for 40 rounds\n",
      "[20]\ttraining's rmse: 103.646\tvalid_1's rmse: 118.123\n",
      "[40]\ttraining's rmse: 65.8744\tvalid_1's rmse: 92.6437\n",
      "[60]\ttraining's rmse: 57.3833\tvalid_1's rmse: 90.5879\n",
      "[80]\ttraining's rmse: 52.925\tvalid_1's rmse: 90.6447\n",
      "[100]\ttraining's rmse: 50.9267\tvalid_1's rmse: 91.2581\n",
      "Early stopping, best iteration is:\n",
      "[72]\ttraining's rmse: 54.1943\tvalid_1's rmse: 90.3074\n",
      "Iteration done, nrmlse: 0.9225914951438964\n",
      "FinalScore: 0.9785425240381584\n"
     ]
    }
   ],
   "source": [
    "nrmlses = []\n",
    "for tr_ix, ts_ix in kf.split(data_5a):\n",
    "    data_5a1_tr_x = data_5a.iloc[tr_ix[:int(len(tr_ix)*.9)],:][feat_cols]\n",
    "    data_5a1_tr_y = data_5a.iloc[tr_ix[:int(len(tr_ix)*.9)],:].meter_reading\n",
    "    data_5a1_val_x = data_5a.iloc[tr_ix[int(len(tr_ix)*.9):],:][feat_cols]\n",
    "    data_5a1_val_y = data_5a.iloc[tr_ix[int(len(tr_ix)*.9):],:].meter_reading\n",
    "    lgb_train = lgb.Dataset(data_5a1_tr_x, data_5a1_tr_y)\n",
    "    lgb_eval = lgb.Dataset(data_5a1_val_x, data_5a1_val_y)\n",
    "    gbm_regress = lgb.train(lgb_reg_params, lgb_train, num_boost_round=2000, valid_sets=(lgb_train, lgb_eval),\n",
    "                            early_stopping_rounds=20, verbose_eval = 20)\n",
    "    data_5a1_ts_x = data_5a.iloc[ts_ix,:][feat_cols]\n",
    "    data_5a1_ts_y = data_5a.iloc[ts_ix,:].meter_reading\n",
    "    lgbm_hat = (gbm_regress.predict(data_5a1_ts_x, num_iteration=gbm_regress.best_iteration))\n",
    "    nrmlse = root_mean_squared_log_error(lgbm_hat, data_5a1_ts_y)\n",
    "    print('Iteration done, nrmlse:', nrmlse)\n",
    "    nrmlses.append(nrmlse)\n",
    "print('FinalScore:', sum(nrmlses) / K)"
   ]
  },
  {
   "cell_type": "code",
   "execution_count": 38,
   "metadata": {},
   "outputs": [],
   "source": [
    "feat_cols = ['building_id', 'site_id_mean', 'dt_m', 'dt_w', 'dt_d', 'dt_hour', \n",
    "             'dt_day_week', 'dt_day_month', 'dt_week_month']"
   ]
  },
  {
   "cell_type": "code",
   "execution_count": 39,
   "metadata": {},
   "outputs": [
    {
     "name": "stderr",
     "output_type": "stream",
     "text": [
      "/Library/Frameworks/Python.framework/Versions/3.6/lib/python3.6/site-packages/ipykernel_launcher.py:6: SettingWithCopyWarning: \n",
      "A value is trying to be set on a copy of a slice from a DataFrame.\n",
      "Try using .loc[row_indexer,col_indexer] = value instead\n",
      "\n",
      "See the caveats in the documentation: http://pandas.pydata.org/pandas-docs/stable/indexing.html#indexing-view-versus-copy\n",
      "  \n",
      "/Library/Frameworks/Python.framework/Versions/3.6/lib/python3.6/site-packages/ipykernel_launcher.py:10: SettingWithCopyWarning: \n",
      "A value is trying to be set on a copy of a slice from a DataFrame.\n",
      "Try using .loc[row_indexer,col_indexer] = value instead\n",
      "\n",
      "See the caveats in the documentation: http://pandas.pydata.org/pandas-docs/stable/indexing.html#indexing-view-versus-copy\n",
      "  # Remove the CWD from sys.path while we load stuff.\n"
     ]
    },
    {
     "name": "stdout",
     "output_type": "stream",
     "text": [
      "Training until validation scores don't improve for 40 rounds\n",
      "[20]\ttraining's rmse: 104.526\tvalid_1's rmse: 104.565\n",
      "[40]\ttraining's rmse: 64.5215\tvalid_1's rmse: 67.9205\n",
      "[60]\ttraining's rmse: 55.5031\tvalid_1's rmse: 63.0459\n",
      "[80]\ttraining's rmse: 50.6891\tvalid_1's rmse: 62.1984\n",
      "[100]\ttraining's rmse: 48.5753\tvalid_1's rmse: 62.8547\n",
      "Early stopping, best iteration is:\n",
      "[74]\ttraining's rmse: 51.5427\tvalid_1's rmse: 62.1577\n"
     ]
    },
    {
     "name": "stderr",
     "output_type": "stream",
     "text": [
      "/Library/Frameworks/Python.framework/Versions/3.6/lib/python3.6/site-packages/ipykernel_launcher.py:18: SettingWithCopyWarning: \n",
      "A value is trying to be set on a copy of a slice from a DataFrame.\n",
      "Try using .loc[row_indexer,col_indexer] = value instead\n",
      "\n",
      "See the caveats in the documentation: http://pandas.pydata.org/pandas-docs/stable/indexing.html#indexing-view-versus-copy\n"
     ]
    },
    {
     "name": "stdout",
     "output_type": "stream",
     "text": [
      "Iteration done, nrmlse: 0.9337120409527903\n",
      "Training until validation scores don't improve for 40 rounds\n",
      "[20]\ttraining's rmse: 107.32\tvalid_1's rmse: 106.444\n",
      "[40]\ttraining's rmse: 68.0428\tvalid_1's rmse: 67.6736\n",
      "[60]\ttraining's rmse: 59.0753\tvalid_1's rmse: 62.2627\n",
      "[80]\ttraining's rmse: 54.3752\tvalid_1's rmse: 60.8162\n",
      "[100]\ttraining's rmse: 52.2662\tvalid_1's rmse: 61.1037\n",
      "Early stopping, best iteration is:\n",
      "[79]\ttraining's rmse: 54.5537\tvalid_1's rmse: 60.7362\n",
      "Iteration done, nrmlse: 1.1056979977728238\n",
      "Training until validation scores don't improve for 40 rounds\n",
      "[20]\ttraining's rmse: 103.905\tvalid_1's rmse: 106.59\n",
      "[40]\ttraining's rmse: 67.0124\tvalid_1's rmse: 68.4711\n",
      "[60]\ttraining's rmse: 58.8923\tvalid_1's rmse: 63.1222\n",
      "[80]\ttraining's rmse: 54.7208\tvalid_1's rmse: 62.0003\n",
      "[100]\ttraining's rmse: 52.8181\tvalid_1's rmse: 62.4144\n",
      "[120]\ttraining's rmse: 51.4515\tvalid_1's rmse: 62.5848\n",
      "Early stopping, best iteration is:\n",
      "[81]\ttraining's rmse: 54.6571\tvalid_1's rmse: 61.9961\n",
      "Iteration done, nrmlse: 1.0173401083037827\n",
      "Training until validation scores don't improve for 40 rounds\n",
      "[20]\ttraining's rmse: 103.159\tvalid_1's rmse: 107.072\n",
      "[40]\ttraining's rmse: 65.08\tvalid_1's rmse: 68.6943\n",
      "[60]\ttraining's rmse: 56.3617\tvalid_1's rmse: 62.7941\n",
      "[80]\ttraining's rmse: 51.7735\tvalid_1's rmse: 61.1361\n",
      "[100]\ttraining's rmse: 49.7558\tvalid_1's rmse: 61.2862\n",
      "Early stopping, best iteration is:\n",
      "[78]\ttraining's rmse: 52.0446\tvalid_1's rmse: 61.1002\n",
      "Iteration done, nrmlse: 1.0027800931633144\n",
      "Training until validation scores don't improve for 40 rounds\n",
      "[20]\ttraining's rmse: 103.724\tvalid_1's rmse: 118.164\n",
      "[40]\ttraining's rmse: 65.9313\tvalid_1's rmse: 92.2879\n",
      "[60]\ttraining's rmse: 57.3175\tvalid_1's rmse: 90.177\n",
      "[80]\ttraining's rmse: 52.8196\tvalid_1's rmse: 90.0837\n",
      "[100]\ttraining's rmse: 50.9146\tvalid_1's rmse: 90.5843\n",
      "Early stopping, best iteration is:\n",
      "[73]\ttraining's rmse: 53.86\tvalid_1's rmse: 89.8061\n",
      "Iteration done, nrmlse: 0.9160126833193657\n",
      "FinalScore: 0.9951085847024153\n"
     ]
    }
   ],
   "source": [
    "# Simple building_id mean\n",
    "nrmlses = []\n",
    "for tr_ix, ts_ix in kf.split(data_5a):\n",
    "    full_training_data = data_5a.iloc[tr_ix[:int(len(tr_ix)*.9)],:]\n",
    "    site_id_means = full_training_data.groupby('site_id')['meter_reading'].mean().to_dict()\n",
    "    full_training_data['site_id_mean'] = full_training_data.site_id.apply(lambda x: site_id_means[x])\n",
    "    data_5a2_tr_x = full_training_data[feat_cols]\n",
    "    data_5a2_tr_y = data_5a.iloc[tr_ix[:int(len(tr_ix)*.9)],:].meter_reading\n",
    "    data_5a2_val_x = data_5a.iloc[tr_ix[int(len(tr_ix)*.9):],:]\n",
    "    data_5a2_val_x['site_id_mean'] = data_5a2_val_x.site_id.apply(lambda x: site_id_means[x])\n",
    "    data_5a2_val_x = data_5a2_val_x[feat_cols]\n",
    "    data_5a2_val_y = data_5a.iloc[tr_ix[int(len(tr_ix)*.9):],:].meter_reading\n",
    "    lgb_train = lgb.Dataset(data_5a2_tr_x, data_5a2_tr_y)\n",
    "    lgb_eval = lgb.Dataset(data_5a2_val_x, data_5a2_val_y)\n",
    "    gbm_regress = lgb.train(lgb_reg_params, lgb_train, num_boost_round=2000, valid_sets=(lgb_train, lgb_eval),\n",
    "                            early_stopping_rounds=20, verbose_eval = 20)\n",
    "    data_5a2_ts_x = data_5a.iloc[ts_ix,:]\n",
    "    data_5a2_ts_x['site_id_mean'] = data_5a2_ts_x.site_id.apply(lambda x: site_id_means[x])\n",
    "    data_5a2_ts_x = data_5a2_ts_x[feat_cols]\n",
    "    data_5a2_ts_y = data_5a.iloc[ts_ix,:].meter_reading\n",
    "    lgbm_hat = (gbm_regress.predict(data_5a2_ts_x, num_iteration=gbm_regress.best_iteration))\n",
    "    nrmlse = root_mean_squared_log_error(lgbm_hat, data_5a2_ts_y)\n",
    "    print('Iteration done, nrmlse:', nrmlse)\n",
    "    nrmlses.append(nrmlse)\n",
    "print('FinalScore:', sum(nrmlses) / K)"
   ]
  },
  {
   "cell_type": "code",
   "execution_count": 42,
   "metadata": {},
   "outputs": [
    {
     "name": "stdout",
     "output_type": "stream",
     "text": [
      "Training until validation scores don't improve for 40 rounds\n",
      "[20]\ttraining's rmse: 92.2488\tvalid_1's rmse: 91.4311\n",
      "[40]\ttraining's rmse: 59.4937\tvalid_1's rmse: 64.2938\n",
      "[60]\ttraining's rmse: 52.2074\tvalid_1's rmse: 62.4267\n",
      "[80]\ttraining's rmse: 48.7975\tvalid_1's rmse: 63.0233\n",
      "Early stopping, best iteration is:\n",
      "[56]\ttraining's rmse: 53.0344\tvalid_1's rmse: 62.3055\n",
      "Iteration done, nrmlse: 0.9871468957185453\n"
     ]
    },
    {
     "ename": "AssertionError",
     "evalue": "10 columns passed, passed data had 11 columns",
     "output_type": "error",
     "traceback": [
      "\u001b[0;31m---------------------------------------------------------------------------\u001b[0m",
      "\u001b[0;31mAssertionError\u001b[0m                            Traceback (most recent call last)",
      "\u001b[0;32m<ipython-input-42-d6d3ca50a3b4>\u001b[0m in \u001b[0;36m<module>\u001b[0;34m\u001b[0m\n\u001b[1;32m     11\u001b[0m     \u001b[0;31m# Using Means\u001b[0m\u001b[0;34m\u001b[0m\u001b[0;34m\u001b[0m\u001b[0m\n\u001b[1;32m     12\u001b[0m     sid_means_tr = pd.DataFrame(full_training_data.site_id.apply(lambda x: [x['meter_reading'] for x in sid_dicts[x]]).values.tolist(),\n\u001b[0;32m---> 13\u001b[0;31m                       columns=['site_id_dt_m_{}_mean'.format(m) for m in [mm['dt_m'] for mm in sid_dicts[sid]]]).reset_index(drop=True)\n\u001b[0m\u001b[1;32m     14\u001b[0m     \u001b[0mdata_4a2_tr_x\u001b[0m \u001b[0;34m=\u001b[0m \u001b[0mfull_training_data\u001b[0m\u001b[0;34m.\u001b[0m\u001b[0mreset_index\u001b[0m\u001b[0;34m(\u001b[0m\u001b[0mdrop\u001b[0m\u001b[0;34m=\u001b[0m\u001b[0;32mTrue\u001b[0m\u001b[0;34m)\u001b[0m\u001b[0;34m.\u001b[0m\u001b[0mmerge\u001b[0m\u001b[0;34m(\u001b[0m\u001b[0msid_means_tr\u001b[0m\u001b[0;34m,\u001b[0m \u001b[0mleft_index\u001b[0m\u001b[0;34m=\u001b[0m\u001b[0;32mTrue\u001b[0m\u001b[0;34m,\u001b[0m \u001b[0mright_index\u001b[0m\u001b[0;34m=\u001b[0m\u001b[0;32mTrue\u001b[0m\u001b[0;34m)\u001b[0m\u001b[0;34m\u001b[0m\u001b[0m\n\u001b[1;32m     15\u001b[0m     \u001b[0mdata_4a2_tr_x\u001b[0m \u001b[0;34m=\u001b[0m \u001b[0mdata_4a2_tr_x\u001b[0m\u001b[0;34m[\u001b[0m\u001b[0;34m[\u001b[0m\u001b[0mx\u001b[0m \u001b[0;32mfor\u001b[0m \u001b[0mx\u001b[0m \u001b[0;32min\u001b[0m \u001b[0mlist\u001b[0m\u001b[0;34m(\u001b[0m\u001b[0mdata_4a2_tr_x\u001b[0m\u001b[0;34m)\u001b[0m \u001b[0;32mif\u001b[0m \u001b[0mx\u001b[0m \u001b[0;32mnot\u001b[0m \u001b[0;32min\u001b[0m \u001b[0;34m[\u001b[0m\u001b[0;34m'meter_reading'\u001b[0m\u001b[0;34m,\u001b[0m \u001b[0;34m'site_id'\u001b[0m\u001b[0;34m]\u001b[0m\u001b[0;34m]\u001b[0m\u001b[0;34m]\u001b[0m\u001b[0;34m.\u001b[0m\u001b[0mfillna\u001b[0m\u001b[0;34m(\u001b[0m\u001b[0;36m0\u001b[0m\u001b[0;34m)\u001b[0m\u001b[0;34m\u001b[0m\u001b[0m\n",
      "\u001b[0;32m/Library/Frameworks/Python.framework/Versions/3.6/lib/python3.6/site-packages/pandas/core/frame.py\u001b[0m in \u001b[0;36m__init__\u001b[0;34m(self, data, index, columns, dtype, copy)\u001b[0m\n\u001b[1;32m    433\u001b[0m                     \u001b[0;32mif\u001b[0m \u001b[0mis_named_tuple\u001b[0m\u001b[0;34m(\u001b[0m\u001b[0mdata\u001b[0m\u001b[0;34m[\u001b[0m\u001b[0;36m0\u001b[0m\u001b[0;34m]\u001b[0m\u001b[0;34m)\u001b[0m \u001b[0;32mand\u001b[0m \u001b[0mcolumns\u001b[0m \u001b[0;32mis\u001b[0m \u001b[0;32mNone\u001b[0m\u001b[0;34m:\u001b[0m\u001b[0;34m\u001b[0m\u001b[0m\n\u001b[1;32m    434\u001b[0m                         \u001b[0mcolumns\u001b[0m \u001b[0;34m=\u001b[0m \u001b[0mdata\u001b[0m\u001b[0;34m[\u001b[0m\u001b[0;36m0\u001b[0m\u001b[0;34m]\u001b[0m\u001b[0;34m.\u001b[0m\u001b[0m_fields\u001b[0m\u001b[0;34m\u001b[0m\u001b[0m\n\u001b[0;32m--> 435\u001b[0;31m                     \u001b[0marrays\u001b[0m\u001b[0;34m,\u001b[0m \u001b[0mcolumns\u001b[0m \u001b[0;34m=\u001b[0m \u001b[0mto_arrays\u001b[0m\u001b[0;34m(\u001b[0m\u001b[0mdata\u001b[0m\u001b[0;34m,\u001b[0m \u001b[0mcolumns\u001b[0m\u001b[0;34m,\u001b[0m \u001b[0mdtype\u001b[0m\u001b[0;34m=\u001b[0m\u001b[0mdtype\u001b[0m\u001b[0;34m)\u001b[0m\u001b[0;34m\u001b[0m\u001b[0m\n\u001b[0m\u001b[1;32m    436\u001b[0m                     \u001b[0mcolumns\u001b[0m \u001b[0;34m=\u001b[0m \u001b[0mensure_index\u001b[0m\u001b[0;34m(\u001b[0m\u001b[0mcolumns\u001b[0m\u001b[0;34m)\u001b[0m\u001b[0;34m\u001b[0m\u001b[0m\n\u001b[1;32m    437\u001b[0m \u001b[0;34m\u001b[0m\u001b[0m\n",
      "\u001b[0;32m/Library/Frameworks/Python.framework/Versions/3.6/lib/python3.6/site-packages/pandas/core/internals/construction.py\u001b[0m in \u001b[0;36mto_arrays\u001b[0;34m(data, columns, coerce_float, dtype)\u001b[0m\n\u001b[1;32m    402\u001b[0m     \u001b[0;32mif\u001b[0m \u001b[0misinstance\u001b[0m\u001b[0;34m(\u001b[0m\u001b[0mdata\u001b[0m\u001b[0;34m[\u001b[0m\u001b[0;36m0\u001b[0m\u001b[0;34m]\u001b[0m\u001b[0;34m,\u001b[0m \u001b[0;34m(\u001b[0m\u001b[0mlist\u001b[0m\u001b[0;34m,\u001b[0m \u001b[0mtuple\u001b[0m\u001b[0;34m)\u001b[0m\u001b[0;34m)\u001b[0m\u001b[0;34m:\u001b[0m\u001b[0;34m\u001b[0m\u001b[0m\n\u001b[1;32m    403\u001b[0m         return _list_to_arrays(data, columns, coerce_float=coerce_float,\n\u001b[0;32m--> 404\u001b[0;31m                                dtype=dtype)\n\u001b[0m\u001b[1;32m    405\u001b[0m     \u001b[0;32melif\u001b[0m \u001b[0misinstance\u001b[0m\u001b[0;34m(\u001b[0m\u001b[0mdata\u001b[0m\u001b[0;34m[\u001b[0m\u001b[0;36m0\u001b[0m\u001b[0;34m]\u001b[0m\u001b[0;34m,\u001b[0m \u001b[0mcompat\u001b[0m\u001b[0;34m.\u001b[0m\u001b[0mMapping\u001b[0m\u001b[0;34m)\u001b[0m\u001b[0;34m:\u001b[0m\u001b[0;34m\u001b[0m\u001b[0m\n\u001b[1;32m    406\u001b[0m         return _list_of_dict_to_arrays(data, columns,\n",
      "\u001b[0;32m/Library/Frameworks/Python.framework/Versions/3.6/lib/python3.6/site-packages/pandas/core/internals/construction.py\u001b[0m in \u001b[0;36m_list_to_arrays\u001b[0;34m(data, columns, coerce_float, dtype)\u001b[0m\n\u001b[1;32m    434\u001b[0m         \u001b[0mcontent\u001b[0m \u001b[0;34m=\u001b[0m \u001b[0mlist\u001b[0m\u001b[0;34m(\u001b[0m\u001b[0mlib\u001b[0m\u001b[0;34m.\u001b[0m\u001b[0mto_object_array\u001b[0m\u001b[0;34m(\u001b[0m\u001b[0mdata\u001b[0m\u001b[0;34m)\u001b[0m\u001b[0;34m.\u001b[0m\u001b[0mT\u001b[0m\u001b[0;34m)\u001b[0m\u001b[0;34m\u001b[0m\u001b[0m\n\u001b[1;32m    435\u001b[0m     return _convert_object_array(content, columns, dtype=dtype,\n\u001b[0;32m--> 436\u001b[0;31m                                  coerce_float=coerce_float)\n\u001b[0m\u001b[1;32m    437\u001b[0m \u001b[0;34m\u001b[0m\u001b[0m\n\u001b[1;32m    438\u001b[0m \u001b[0;34m\u001b[0m\u001b[0m\n",
      "\u001b[0;32m/Library/Frameworks/Python.framework/Versions/3.6/lib/python3.6/site-packages/pandas/core/internals/construction.py\u001b[0m in \u001b[0;36m_convert_object_array\u001b[0;34m(content, columns, coerce_float, dtype)\u001b[0m\n\u001b[1;32m    490\u001b[0m             raise AssertionError('{col:d} columns passed, passed data had '\n\u001b[1;32m    491\u001b[0m                                  '{con} columns'.format(col=len(columns),\n\u001b[0;32m--> 492\u001b[0;31m                                                         con=len(content)))\n\u001b[0m\u001b[1;32m    493\u001b[0m \u001b[0;34m\u001b[0m\u001b[0m\n\u001b[1;32m    494\u001b[0m     \u001b[0;31m# provide soft conversion of object dtypes\u001b[0m\u001b[0;34m\u001b[0m\u001b[0;34m\u001b[0m\u001b[0m\n",
      "\u001b[0;31mAssertionError\u001b[0m: 10 columns passed, passed data had 11 columns"
     ]
    }
   ],
   "source": [
    "# Site_id mean by month\n",
    "nrmlses = []\n",
    "for tr_ix, ts_ix in kf.split(data_5a):\n",
    "    # Building Means\n",
    "    full_training_data = data_5a.iloc[tr_ix[:int(len(tr_ix)*.9)],:]\n",
    "    site_id_means = full_training_data.groupby(['site_id', 'dt_m'], as_index=False)['meter_reading'].mean()\n",
    "    sid_dicts = {}\n",
    "    for sid in list(set(site_id_means.site_id)):\n",
    "        sid_data = site_id_means[site_id_means.site_id == sid][['dt_m', 'meter_reading']].to_dict('records')\n",
    "        sid_dicts[sid] = sid_data\n",
    "    # Using Means\n",
    "    sid_means_tr = pd.DataFrame(full_training_data.site_id.apply(lambda x: [x['meter_reading'] for x in sid_dicts[x]]).values.tolist(),\n",
    "                      columns=['site_id_dt_m_{}_mean'.format(m) for m in [mm['dt_m'] for mm in sid_dicts[sid]]]).reset_index(drop=True)\n",
    "    data_4a2_tr_x = full_training_data.reset_index(drop=True).merge(sid_means_tr, left_index=True, right_index=True)\n",
    "    data_4a2_tr_x = data_4a2_tr_x[[x for x in list(data_4a2_tr_x) if x not in ['meter_reading', 'site_id']]].fillna(0)\n",
    "    data_4a2_tr_y = data_5a.iloc[tr_ix[:int(len(tr_ix)*.9)],:].meter_reading\n",
    "    \n",
    "    data_4a2_val_x = data_5a.iloc[tr_ix[int(len(tr_ix)*.9):],:]\n",
    "    bid_means_val = pd.DataFrame(data_4a2_val_x.site_id.apply(lambda x: [x['meter_reading'] for x in sid_dicts[x]]).values.tolist(),\n",
    "                  columns=['site_id_dt_m_{}_mean'.format(m) for m in [mm['dt_m'] for mm in sid_dicts[sid]]]).reset_index(drop=True)\n",
    "    data_4a2_val_x = data_4a2_val_x.reset_index(drop=True).merge(bid_means_val, left_index=True, right_index=True)\n",
    "    data_4a2_val_x = data_4a2_val_x[[x for x in list(data_4a2_val_x) if x not in ['meter_reading', 'site_id']]].fillna(0)\n",
    "    data_4a2_val_y = data_5a.iloc[tr_ix[int(len(tr_ix)*.9):],:].meter_reading\n",
    "    \n",
    "    lgb_train = lgb.Dataset(data_4a2_tr_x, data_4a2_tr_y)\n",
    "    lgb_eval = lgb.Dataset(data_4a2_val_x, data_4a2_val_y)\n",
    "    gbm_regress = lgb.train(lgb_reg_params, lgb_train, num_boost_round=2000, valid_sets=(lgb_train, lgb_eval),\n",
    "                            early_stopping_rounds=20, verbose_eval = 20)\n",
    "    \n",
    "    data_4a2_ts_x = data_5a.iloc[ts_ix,:]\n",
    "    bid_means_ts = pd.DataFrame(data_4a2_ts_x.site_id.apply(lambda x: [x['meter_reading'] for x in sid_dicts[x]]).values.tolist(),\n",
    "                  columns=['site_id_dt_m_{}_mean'.format(m) for m in [mm['dt_m'] for mm in sid_dicts[sid]]]).reset_index(drop=True)\n",
    "    data_4a2_ts_x = data_4a2_ts_x.reset_index(drop=True).merge(bid_means_ts, left_index=True, right_index=True)\n",
    "    data_4a2_ts_x = data_4a2_ts_x[[x for x in list(data_4a2_ts_x) if x not in ['meter_reading', 'site_id']]].fillna(0)\n",
    "    data_4a2_ts_y = data_5a.iloc[ts_ix,:].meter_reading\n",
    "    \n",
    "    lgbm_hat = (gbm_regress.predict(data_4a2_ts_x, num_iteration=gbm_regress.best_iteration))\n",
    "    nrmlse = root_mean_squared_log_error(lgbm_hat, data_4a2_ts_y)\n",
    "    print('Iteration done, nrmlse:', nrmlse)\n",
    "    nrmlses.append(nrmlse)\n",
    "print('FinalScore:', sum(nrmlses) / K)"
   ]
  },
  {
   "cell_type": "code",
   "execution_count": null,
   "metadata": {},
   "outputs": [],
   "source": []
  }
 ],
 "metadata": {
  "kernelspec": {
   "display_name": "Python 3",
   "language": "python",
   "name": "python3"
  },
  "language_info": {
   "codemirror_mode": {
    "name": "ipython",
    "version": 3
   },
   "file_extension": ".py",
   "mimetype": "text/x-python",
   "name": "python",
   "nbconvert_exporter": "python",
   "pygments_lexer": "ipython3",
   "version": "3.6.1"
  }
 },
 "nbformat": 4,
 "nbformat_minor": 2
}
