{
 "cells": [
  {
   "cell_type": "markdown",
   "metadata": {},
   "source": [
    "# Step 4) Preparing training data"
   ]
  },
  {
   "cell_type": "code",
   "execution_count": 1,
   "metadata": {},
   "outputs": [],
   "source": [
    "import pandas as pd"
   ]
  },
  {
   "cell_type": "code",
   "execution_count": 2,
   "metadata": {},
   "outputs": [],
   "source": [
    "import numpy as np"
   ]
  },
  {
   "cell_type": "code",
   "execution_count": 3,
   "metadata": {},
   "outputs": [],
   "source": [
    "from tsm.data_utils import time_processing, ordinal2wave, compress_memory_usage"
   ]
  },
  {
   "cell_type": "code",
   "execution_count": 4,
   "metadata": {},
   "outputs": [],
   "source": [
    "from tsm.normalizers import scale_and_save_data_frame_columns"
   ]
  },
  {
   "cell_type": "code",
   "execution_count": 5,
   "metadata": {},
   "outputs": [],
   "source": [
    "import os"
   ]
  },
  {
   "cell_type": "markdown",
   "metadata": {},
   "source": [
    "### Inputs"
   ]
  },
  {
   "cell_type": "code",
   "execution_count": 6,
   "metadata": {},
   "outputs": [],
   "source": [
    "SEED = 42"
   ]
  },
  {
   "cell_type": "code",
   "execution_count": 7,
   "metadata": {},
   "outputs": [],
   "source": [
    "np.random.seed(SEED)"
   ]
  },
  {
   "cell_type": "markdown",
   "metadata": {},
   "source": [
    "## Pipeline for training data preparation"
   ]
  },
  {
   "cell_type": "code",
   "execution_count": 8,
   "metadata": {},
   "outputs": [],
   "source": [
    "def pipeline_prepare_training_data(meter_no: int):\n",
    "    data_path = 'data/comp/train_meter_{}.pkl'.format(str(meter_no))\n",
    "    df = pd.read_pickle(data_path).reset_index(drop=True)\n",
    "    df['log_meter_reading'] = np.log1p(df['meter_reading'])\n",
    "    df = time_processing(df, 'timestamp')\n",
    "    df = ordinal2wave('dt_m', df)\n",
    "    df = ordinal2wave('dt_w', df)\n",
    "    df = ordinal2wave('dt_d', df)\n",
    "    df = ordinal2wave('dt_hour', df)\n",
    "    df = ordinal2wave('dt_day_week', df)\n",
    "    df = ordinal2wave('dt_day_month', df)\n",
    "    df = ordinal2wave('dt_week_month', df)\n",
    "    df['day_suspicious'] = df.groupby([\"building_id\",\"dt_d\"])['meter_reading'].transform(\"min\") < 1\n",
    "    df['month_suspicious'] = df.groupby([\"building_id\",\"dt_m\"])['meter_reading'].transform(\"min\") < 1\n",
    "    df = scale_and_save_data_frame_columns(df=df, \n",
    "                                           columns=['dt_m', 'dt_w', 'dt_d', 'dt_hour', 'dt_day_week', 'dt_day_month', 'dt_week_month'],\n",
    "                                           store_path='data/objects/train_meter_{}'.format(str(meter_no)))\n",
    "\n",
    "    building_data = pd.read_pickle('data/prep/building_metadata.pkl')\n",
    "    df = df.merge(building_data, on='building_id',  how='left')\n",
    "    del building_data\n",
    "    weather_data = pd.read_pickle('data/prep/weather_train.pkl')\n",
    "    df = df.merge(weather_data, on=['site_id', 'timestamp'], how='left')\n",
    "    del weather_data\n",
    "    df.drop('meter_reading', axis=1, inplace=True)\n",
    "    df, _ = compress_memory_usage(df)\n",
    "    return df"
   ]
  },
  {
   "cell_type": "code",
   "execution_count": 27,
   "metadata": {},
   "outputs": [],
   "source": [
    "mtno = 3"
   ]
  },
  {
   "cell_type": "code",
   "execution_count": 28,
   "metadata": {},
   "outputs": [
    {
     "data": {
      "application/vnd.jupyter.widget-view+json": {
       "model_id": "98281538c8fc430884903574d67da40f",
       "version_major": 2,
       "version_minor": 0
      },
      "text/plain": [
       "HBox(children=(IntProgress(value=0, max=1264037), HTML(value='')))"
      ]
     },
     "metadata": {},
     "output_type": "display_data"
    },
    {
     "name": "stdout",
     "output_type": "stream",
     "text": [
      "\n"
     ]
    },
    {
     "data": {
      "application/vnd.jupyter.widget-view+json": {
       "model_id": "fb3f0d689eb34f9e935ec61867b21c6b",
       "version_major": 2,
       "version_minor": 0
      },
      "text/plain": [
       "HBox(children=(IntProgress(value=0, description='DataFrame: compress_memory_usage', max=66, style=ProgressStyl…"
      ]
     },
     "metadata": {},
     "output_type": "display_data"
    },
    {
     "name": "stdout",
     "output_type": "stream",
     "text": [
      "\n",
      "Memory usage pre-compression was 417.09594917297363\n",
      "Memory usage after-compression was 315.83566093444824\n",
      "This is  75.72254335260115% of the initial size\n",
      "CPU times: user 8.18 s, sys: 884 ms, total: 9.06 s\n",
      "Wall time: 9 s\n"
     ]
    }
   ],
   "source": [
    "%%time\n",
    "mt = pipeline_prepare_training_data(meter_no=mtno)"
   ]
  },
  {
   "cell_type": "code",
   "execution_count": 29,
   "metadata": {},
   "outputs": [
    {
     "data": {
      "text/html": [
       "<div>\n",
       "<style scoped>\n",
       "    .dataframe tbody tr th:only-of-type {\n",
       "        vertical-align: middle;\n",
       "    }\n",
       "\n",
       "    .dataframe tbody tr th {\n",
       "        vertical-align: top;\n",
       "    }\n",
       "\n",
       "    .dataframe thead th {\n",
       "        text-align: right;\n",
       "    }\n",
       "</style>\n",
       "<table border=\"1\" class=\"dataframe\">\n",
       "  <thead>\n",
       "    <tr style=\"text-align: right;\">\n",
       "      <th></th>\n",
       "      <th>building_id</th>\n",
       "      <th>timestamp</th>\n",
       "      <th>log_meter_reading</th>\n",
       "      <th>dt_m</th>\n",
       "      <th>dt_w</th>\n",
       "      <th>dt_d</th>\n",
       "      <th>dt_hour</th>\n",
       "      <th>dt_day_week</th>\n",
       "      <th>dt_day_month</th>\n",
       "      <th>dt_week_month</th>\n",
       "      <th>...</th>\n",
       "      <th>sea_level_pressure_ewm_01</th>\n",
       "      <th>sea_level_pressure_ewm_02</th>\n",
       "      <th>wind_direction_ewm_001</th>\n",
       "      <th>wind_direction_ewm_005</th>\n",
       "      <th>wind_direction_ewm_01</th>\n",
       "      <th>wind_direction_ewm_02</th>\n",
       "      <th>wind_speed_ewm_001</th>\n",
       "      <th>wind_speed_ewm_005</th>\n",
       "      <th>wind_speed_ewm_01</th>\n",
       "      <th>wind_speed_ewm_02</th>\n",
       "    </tr>\n",
       "  </thead>\n",
       "  <tbody>\n",
       "    <tr>\n",
       "      <td>0</td>\n",
       "      <td>106</td>\n",
       "      <td>2016-01-01</td>\n",
       "      <td>0.000000</td>\n",
       "      <td>0.0</td>\n",
       "      <td>1.0</td>\n",
       "      <td>0.0</td>\n",
       "      <td>0.0</td>\n",
       "      <td>0.666667</td>\n",
       "      <td>0.0</td>\n",
       "      <td>0.0</td>\n",
       "      <td>...</td>\n",
       "      <td>0.685824</td>\n",
       "      <td>0.685824</td>\n",
       "      <td>0.666667</td>\n",
       "      <td>0.666667</td>\n",
       "      <td>0.666667</td>\n",
       "      <td>0.666667</td>\n",
       "      <td>0.163158</td>\n",
       "      <td>0.163158</td>\n",
       "      <td>0.163158</td>\n",
       "      <td>0.163158</td>\n",
       "    </tr>\n",
       "    <tr>\n",
       "      <td>1</td>\n",
       "      <td>109</td>\n",
       "      <td>2016-01-01</td>\n",
       "      <td>0.000000</td>\n",
       "      <td>0.0</td>\n",
       "      <td>1.0</td>\n",
       "      <td>0.0</td>\n",
       "      <td>0.0</td>\n",
       "      <td>0.666667</td>\n",
       "      <td>0.0</td>\n",
       "      <td>0.0</td>\n",
       "      <td>...</td>\n",
       "      <td>0.685824</td>\n",
       "      <td>0.685824</td>\n",
       "      <td>0.666667</td>\n",
       "      <td>0.666667</td>\n",
       "      <td>0.666667</td>\n",
       "      <td>0.666667</td>\n",
       "      <td>0.163158</td>\n",
       "      <td>0.163158</td>\n",
       "      <td>0.163158</td>\n",
       "      <td>0.163158</td>\n",
       "    </tr>\n",
       "    <tr>\n",
       "      <td>2</td>\n",
       "      <td>112</td>\n",
       "      <td>2016-01-01</td>\n",
       "      <td>4.584743</td>\n",
       "      <td>0.0</td>\n",
       "      <td>1.0</td>\n",
       "      <td>0.0</td>\n",
       "      <td>0.0</td>\n",
       "      <td>0.666667</td>\n",
       "      <td>0.0</td>\n",
       "      <td>0.0</td>\n",
       "      <td>...</td>\n",
       "      <td>0.685824</td>\n",
       "      <td>0.685824</td>\n",
       "      <td>0.666667</td>\n",
       "      <td>0.666667</td>\n",
       "      <td>0.666667</td>\n",
       "      <td>0.666667</td>\n",
       "      <td>0.163158</td>\n",
       "      <td>0.163158</td>\n",
       "      <td>0.163158</td>\n",
       "      <td>0.163158</td>\n",
       "    </tr>\n",
       "    <tr>\n",
       "      <td>3</td>\n",
       "      <td>113</td>\n",
       "      <td>2016-01-01</td>\n",
       "      <td>3.025146</td>\n",
       "      <td>0.0</td>\n",
       "      <td>1.0</td>\n",
       "      <td>0.0</td>\n",
       "      <td>0.0</td>\n",
       "      <td>0.666667</td>\n",
       "      <td>0.0</td>\n",
       "      <td>0.0</td>\n",
       "      <td>...</td>\n",
       "      <td>0.685824</td>\n",
       "      <td>0.685824</td>\n",
       "      <td>0.666667</td>\n",
       "      <td>0.666667</td>\n",
       "      <td>0.666667</td>\n",
       "      <td>0.666667</td>\n",
       "      <td>0.163158</td>\n",
       "      <td>0.163158</td>\n",
       "      <td>0.163158</td>\n",
       "      <td>0.163158</td>\n",
       "    </tr>\n",
       "    <tr>\n",
       "      <td>4</td>\n",
       "      <td>114</td>\n",
       "      <td>2016-01-01</td>\n",
       "      <td>4.615120</td>\n",
       "      <td>0.0</td>\n",
       "      <td>1.0</td>\n",
       "      <td>0.0</td>\n",
       "      <td>0.0</td>\n",
       "      <td>0.666667</td>\n",
       "      <td>0.0</td>\n",
       "      <td>0.0</td>\n",
       "      <td>...</td>\n",
       "      <td>0.685824</td>\n",
       "      <td>0.685824</td>\n",
       "      <td>0.666667</td>\n",
       "      <td>0.666667</td>\n",
       "      <td>0.666667</td>\n",
       "      <td>0.666667</td>\n",
       "      <td>0.163158</td>\n",
       "      <td>0.163158</td>\n",
       "      <td>0.163158</td>\n",
       "      <td>0.163158</td>\n",
       "    </tr>\n",
       "  </tbody>\n",
       "</table>\n",
       "<p>5 rows × 66 columns</p>\n",
       "</div>"
      ],
      "text/plain": [
       "   building_id  timestamp  log_meter_reading  dt_m  dt_w  dt_d  dt_hour  \\\n",
       "0          106 2016-01-01           0.000000   0.0   1.0   0.0      0.0   \n",
       "1          109 2016-01-01           0.000000   0.0   1.0   0.0      0.0   \n",
       "2          112 2016-01-01           4.584743   0.0   1.0   0.0      0.0   \n",
       "3          113 2016-01-01           3.025146   0.0   1.0   0.0      0.0   \n",
       "4          114 2016-01-01           4.615120   0.0   1.0   0.0      0.0   \n",
       "\n",
       "   dt_day_week  dt_day_month  dt_week_month  ...  sea_level_pressure_ewm_01  \\\n",
       "0     0.666667           0.0            0.0  ...                   0.685824   \n",
       "1     0.666667           0.0            0.0  ...                   0.685824   \n",
       "2     0.666667           0.0            0.0  ...                   0.685824   \n",
       "3     0.666667           0.0            0.0  ...                   0.685824   \n",
       "4     0.666667           0.0            0.0  ...                   0.685824   \n",
       "\n",
       "   sea_level_pressure_ewm_02  wind_direction_ewm_001  wind_direction_ewm_005  \\\n",
       "0                   0.685824                0.666667                0.666667   \n",
       "1                   0.685824                0.666667                0.666667   \n",
       "2                   0.685824                0.666667                0.666667   \n",
       "3                   0.685824                0.666667                0.666667   \n",
       "4                   0.685824                0.666667                0.666667   \n",
       "\n",
       "   wind_direction_ewm_01  wind_direction_ewm_02  wind_speed_ewm_001  \\\n",
       "0               0.666667               0.666667            0.163158   \n",
       "1               0.666667               0.666667            0.163158   \n",
       "2               0.666667               0.666667            0.163158   \n",
       "3               0.666667               0.666667            0.163158   \n",
       "4               0.666667               0.666667            0.163158   \n",
       "\n",
       "   wind_speed_ewm_005  wind_speed_ewm_01  wind_speed_ewm_02  \n",
       "0            0.163158           0.163158           0.163158  \n",
       "1            0.163158           0.163158           0.163158  \n",
       "2            0.163158           0.163158           0.163158  \n",
       "3            0.163158           0.163158           0.163158  \n",
       "4            0.163158           0.163158           0.163158  \n",
       "\n",
       "[5 rows x 66 columns]"
      ]
     },
     "execution_count": 29,
     "metadata": {},
     "output_type": "execute_result"
    }
   ],
   "source": [
    "# Check\n",
    "mt.head()"
   ]
  },
  {
   "cell_type": "code",
   "execution_count": 30,
   "metadata": {},
   "outputs": [],
   "source": [
    "# Save\n",
    "mt.to_pickle('data/prep/train_meter_{}.pkl'.format(mtno))"
   ]
  },
  {
   "cell_type": "code",
   "execution_count": 31,
   "metadata": {},
   "outputs": [],
   "source": [
    "del mt"
   ]
  },
  {
   "cell_type": "code",
   "execution_count": 32,
   "metadata": {},
   "outputs": [],
   "source": [
    "# Delete old\n",
    "os.remove('data/comp/train_meter_{}.pkl'.format(mtno))"
   ]
  }
 ],
 "metadata": {
  "kernelspec": {
   "display_name": "Python 3",
   "language": "python",
   "name": "python3"
  },
  "language_info": {
   "codemirror_mode": {
    "name": "ipython",
    "version": 3
   },
   "file_extension": ".py",
   "mimetype": "text/x-python",
   "name": "python",
   "nbconvert_exporter": "python",
   "pygments_lexer": "ipython3",
   "version": "3.5.3"
  }
 },
 "nbformat": 4,
 "nbformat_minor": 2
}
