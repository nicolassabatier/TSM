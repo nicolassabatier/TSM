{
 "cells": [
  {
   "cell_type": "code",
   "execution_count": 1,
   "metadata": {},
   "outputs": [],
   "source": [
    "import pandas as pd"
   ]
  },
  {
   "cell_type": "code",
   "execution_count": 3,
   "metadata": {},
   "outputs": [],
   "source": [
    "test_data = pd.read_pickle('/home/Ric/TSM/kaggle/test_data_meter_2.pkl')"
   ]
  },
  {
   "cell_type": "code",
   "execution_count": 5,
   "metadata": {},
   "outputs": [
    {
     "data": {
      "text/plain": [
       "row_id                        uint32\n",
       "building_id                   uint16\n",
       "timestamp             datetime64[ns]\n",
       "site_id                        uint8\n",
       "primary_use                   object\n",
       "square_feet                   uint32\n",
       "year_built                    uint16\n",
       "floor_count                    uint8\n",
       "air_temperature              float32\n",
       "cloud_coverage                 uint8\n",
       "dew_temperature              float32\n",
       "precip_depth_1_hr              int16\n",
       "sea_level_pressure           float32\n",
       "wind_direction                uint16\n",
       "wind_speed                   float32\n",
       "dt_m                            int8\n",
       "dt_w                            int8\n",
       "dt_d                           int16\n",
       "dt_hour                         int8\n",
       "dt_day_week                     int8\n",
       "dt_day_month                    int8\n",
       "dt_week_month                   int8\n",
       "dt_m_sin                     float64\n",
       "dt_m_cos                     float64\n",
       "dt_w_sin                     float64\n",
       "dt_w_cos                     float64\n",
       "dt_d_sin                     float64\n",
       "dt_d_cos                     float64\n",
       "dt_hour_sin                  float64\n",
       "dt_hour_cos                  float64\n",
       "dt_day_week_sin              float64\n",
       "dt_day_week_cos              float64\n",
       "dt_day_month_sin             float64\n",
       "dt_day_month_cos             float64\n",
       "dt_week_month_sin            float64\n",
       "dt_week_month_cos            float64\n",
       "dtype: object"
      ]
     },
     "execution_count": 5,
     "metadata": {},
     "output_type": "execute_result"
    }
   ],
   "source": [
    "test_data.dtypes"
   ]
  },
  {
   "cell_type": "code",
   "execution_count": 4,
   "metadata": {},
   "outputs": [],
   "source": [
    "from sklearn.externals import joblib"
   ]
  },
  {
   "cell_type": "code",
   "execution_count": 5,
   "metadata": {},
   "outputs": [],
   "source": [
    "mt0_mod = joblib.load('models/mt0_gbm_regress.pkl')\n",
    "mt1_mod = joblib.load('models/mt1_gbm_regress.pkl')\n",
    "mt2_mod = joblib.load('models/mt2_gbm_regress.pkl')\n",
    "mt3_mod = joblib.load('models/mt3_gbm_regress.pkl')"
   ]
  },
  {
   "cell_type": "code",
   "execution_count": 9,
   "metadata": {},
   "outputs": [],
   "source": [
    "models = {\n",
    "    0: mt0_mod, 1: mt1_mod, 2: mt2_mod, 3: mt3_mod\n",
    "}"
   ]
  },
  {
   "cell_type": "code",
   "execution_count": 6,
   "metadata": {},
   "outputs": [],
   "source": [
    "from tqdm.auto import tqdm\n",
    "tqdm.pandas()"
   ]
  },
  {
   "cell_type": "code",
   "execution_count": 10,
   "metadata": {},
   "outputs": [],
   "source": [
    "feats = [x for x in list(test_data) if x not in ['row_id', 'meter', 'timestamp']]"
   ]
  },
  {
   "cell_type": "code",
   "execution_count": null,
   "metadata": {},
   "outputs": [
    {
     "data": {
      "application/vnd.jupyter.widget-view+json": {
       "model_id": "090e72d4ffe245e7add2e8a2ed5ea29b",
       "version_major": 2,
       "version_minor": 0
      },
      "text/plain": [
       "HBox(children=(IntProgress(value=0, max=41697600), HTML(value='')))"
      ]
     },
     "metadata": {},
     "output_type": "display_data"
    }
   ],
   "source": [
    "test_data['yhat'] = test_data.progress_apply(lambda r: models[r.meter].predict(r[feats]), axis=1)"
   ]
  },
  {
   "cell_type": "code",
   "execution_count": 7,
   "metadata": {},
   "outputs": [],
   "source": [
    "train = pd.read_pickle('/home/Ric/TSM/kaggle/train_data.pkl')"
   ]
  },
  {
   "cell_type": "code",
   "execution_count": 8,
   "metadata": {},
   "outputs": [
    {
     "data": {
      "text/plain": [
       "building_id            uint16\n",
       "meter                   uint8\n",
       "timestamp              object\n",
       "meter_reading         float32\n",
       "site_id                 uint8\n",
       "primary_use            object\n",
       "square_feet            uint32\n",
       "year_built             uint16\n",
       "floor_count             uint8\n",
       "air_temperature       float32\n",
       "cloud_coverage          uint8\n",
       "dew_temperature       float32\n",
       "precip_depth_1_hr       int16\n",
       "sea_level_pressure    float32\n",
       "wind_direction         uint16\n",
       "wind_speed            float32\n",
       "dtype: object"
      ]
     },
     "execution_count": 8,
     "metadata": {},
     "output_type": "execute_result"
    }
   ],
   "source": [
    "train.dtypes"
   ]
  },
  {
   "cell_type": "code",
   "execution_count": null,
   "metadata": {},
   "outputs": [],
   "source": []
  }
 ],
 "metadata": {
  "kernelspec": {
   "display_name": "Python 3",
   "language": "python",
   "name": "python3"
  },
  "language_info": {
   "codemirror_mode": {
    "name": "ipython",
    "version": 3
   },
   "file_extension": ".py",
   "mimetype": "text/x-python",
   "name": "python",
   "nbconvert_exporter": "python",
   "pygments_lexer": "ipython3",
   "version": "3.5.3"
  }
 },
 "nbformat": 4,
 "nbformat_minor": 2
}
