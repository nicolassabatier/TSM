{
 "cells": [
  {
   "cell_type": "code",
   "execution_count": 2,
   "metadata": {},
   "outputs": [],
   "source": [
    "%load_ext autoreload\n",
    "%autoreload 2"
   ]
  },
  {
   "cell_type": "code",
   "execution_count": 3,
   "metadata": {},
   "outputs": [
    {
     "name": "stderr",
     "output_type": "stream",
     "text": [
      "/Users/Ric/_macos_programs/environments/python/x_tsm/lib/python3.7/site-packages/tqdm/std.py:648: FutureWarning: The Panel class is removed from pandas. Accessing it from the top-level namespace will also be removed in the next version\n",
      "  from pandas import Panel\n"
     ]
    }
   ],
   "source": [
    "import pandas as pd\n",
    "from tsm.data_utils import get_data_sample, time_processing, df_to_x_y, train_dev_test_split"
   ]
  },
  {
   "cell_type": "code",
   "execution_count": 4,
   "metadata": {},
   "outputs": [],
   "source": [
    "import numpy as np"
   ]
  },
  {
   "cell_type": "code",
   "execution_count": 5,
   "metadata": {},
   "outputs": [],
   "source": [
    "from tsm.model_baselines import dummy_regressor_accuracy\n",
    "from tsm.eval_metrics  import root_mean_squared_log_error"
   ]
  },
  {
   "cell_type": "code",
   "execution_count": 77,
   "metadata": {},
   "outputs": [],
   "source": [
    "from tsm.data_utils import ordinal2wave"
   ]
  },
  {
   "cell_type": "markdown",
   "metadata": {},
   "source": [
    "## Load and Prepare Data for Experiments"
   ]
  },
  {
   "cell_type": "code",
   "execution_count": 6,
   "metadata": {},
   "outputs": [],
   "source": [
    "train_data = pd.read_pickle('kaggle/input/ashrae-energy-prediction/train.pkl')"
   ]
  },
  {
   "cell_type": "markdown",
   "metadata": {},
   "source": [
    "### Full Training Data"
   ]
  },
  {
   "cell_type": "code",
   "execution_count": 7,
   "metadata": {},
   "outputs": [],
   "source": [
    "trdf, dvdf, tsdf = train_dev_test_split(train_data)"
   ]
  },
  {
   "cell_type": "code",
   "execution_count": 8,
   "metadata": {},
   "outputs": [],
   "source": [
    "x_idx = [0, 1] + [x for x in range(4, len(list(train_data)))]\n",
    "y_idx = 3"
   ]
  },
  {
   "cell_type": "code",
   "execution_count": 9,
   "metadata": {},
   "outputs": [],
   "source": [
    "tr_x, tr_y = df_to_x_y(trdf, x_idx, y_idx)\n",
    "dv_x, dv_y = df_to_x_y(dvdf, x_idx, y_idx)\n",
    "ts_x, ts_y = df_to_x_y(tsdf, x_idx, y_idx)"
   ]
  },
  {
   "cell_type": "code",
   "execution_count": 10,
   "metadata": {},
   "outputs": [
    {
     "name": "stdout",
     "output_type": "stream",
     "text": [
      "DummyRegressor accuracy: 4.191078645829351\n"
     ]
    }
   ],
   "source": [
    "# Dummy regressor\n",
    "dummy = dummy_regressor_accuracy(tr_x, tr_y, root_mean_squared_log_error)"
   ]
  },
  {
   "cell_type": "code",
   "execution_count": 16,
   "metadata": {},
   "outputs": [],
   "source": [
    "# Smarter Dummy: takes the mean by meter type\n",
    "def smart_dummy_predict(tr_df, tr_x, meter_idx_in_df: int = 1):\n",
    "    mean_by_type = tr_df.groupby('meter')['meter_reading'].mean().to_dict()\n",
    "    return np.array([mean_by_type[r] for r in tr_x[:, meter_idx_in_df]])"
   ]
  },
  {
   "cell_type": "code",
   "execution_count": 17,
   "metadata": {},
   "outputs": [
    {
     "data": {
      "text/plain": [
       "3.0861123708683027"
      ]
     },
     "execution_count": 17,
     "metadata": {},
     "output_type": "execute_result"
    }
   ],
   "source": [
    "# Smart dummy training accuracy\n",
    "root_mean_squared_log_error(smart_dummy_predict(trdf, tr_x), tr_y)"
   ]
  },
  {
   "cell_type": "code",
   "execution_count": 18,
   "metadata": {},
   "outputs": [
    {
     "data": {
      "text/plain": [
       "2.907413743289485"
      ]
     },
     "execution_count": 18,
     "metadata": {},
     "output_type": "execute_result"
    }
   ],
   "source": [
    "# Smart dummy test accuracy\n",
    "root_mean_squared_log_error(smart_dummy_predict(trdf, ts_x), ts_y)"
   ]
  },
  {
   "cell_type": "markdown",
   "metadata": {},
   "source": [
    "## Let me experiment with a single site before scaling"
   ]
  },
  {
   "cell_type": "code",
   "execution_count": 27,
   "metadata": {},
   "outputs": [
    {
     "name": "stderr",
     "output_type": "stream",
     "text": [
      "/Users/Ric/_macos_programs/environments/python/x_tsm/lib/python3.7/site-packages/tqdm/std.py:648: FutureWarning: The Panel class is removed from pandas. Accessing it from the top-level namespace will also be removed in the next version\n",
      "  from pandas import Panel\n"
     ]
    },
    {
     "data": {
      "text/plain": [
       "1298    35136\n",
       "1249    35136\n",
       "1301    35128\n",
       "1241    35116\n",
       "1296    35115\n",
       "        ...  \n",
       "783      2657\n",
       "420      2327\n",
       "53       1685\n",
       "604      1012\n",
       "403       479\n",
       "Name: building_id, Length: 1449, dtype: int64"
      ]
     },
     "execution_count": 27,
     "metadata": {},
     "output_type": "execute_result"
    }
   ],
   "source": [
    "train_data.building_id.value_counts()"
   ]
  },
  {
   "cell_type": "code",
   "execution_count": 121,
   "metadata": {},
   "outputs": [],
   "source": [
    "sample_site = train_data[train_data.building_id == 1241]"
   ]
  },
  {
   "cell_type": "code",
   "execution_count": 122,
   "metadata": {},
   "outputs": [
    {
     "data": {
      "text/plain": [
       "35116"
      ]
     },
     "execution_count": 122,
     "metadata": {},
     "output_type": "execute_result"
    }
   ],
   "source": [
    "len(sample_site)"
   ]
  },
  {
   "cell_type": "code",
   "execution_count": 123,
   "metadata": {},
   "outputs": [
    {
     "name": "stderr",
     "output_type": "stream",
     "text": [
      "/Users/Ric/_personal/x_tsm/tsm/data_utils.py:85: SettingWithCopyWarning: \n",
      "A value is trying to be set on a copy of a slice from a DataFrame.\n",
      "Try using .loc[row_indexer,col_indexer] = value instead\n",
      "\n",
      "See the caveats in the documentation: http://pandas.pydata.org/pandas-docs/stable/user_guide/indexing.html#returning-a-view-versus-a-copy\n",
      "  df[f'{col_name}_sin'] = np.sin(2 * np.pi * df[col_name] / df[col_name].max())\n",
      "/Users/Ric/_personal/x_tsm/tsm/data_utils.py:86: SettingWithCopyWarning: \n",
      "A value is trying to be set on a copy of a slice from a DataFrame.\n",
      "Try using .loc[row_indexer,col_indexer] = value instead\n",
      "\n",
      "See the caveats in the documentation: http://pandas.pydata.org/pandas-docs/stable/user_guide/indexing.html#returning-a-view-versus-a-copy\n",
      "  df[f'{col_name}_cos'] = np.cos(2 * np.pi * df[col_name] / df[col_name].max())\n"
     ]
    }
   ],
   "source": [
    "ordinal2wave('dt_m', sample_site)\n",
    "ordinal2wave('dt_m', sample_site)\n",
    "ordinal2wave('dt_w', sample_site)\n",
    "ordinal2wave('dt_d', sample_site)\n",
    "ordinal2wave('dt_hour', sample_site)\n",
    "ordinal2wave('dt_day_week', sample_site)\n",
    "ordinal2wave('dt_day_month', sample_site)\n",
    "ordinal2wave('dt_week_month', sample_site)"
   ]
  },
  {
   "cell_type": "code",
   "execution_count": 124,
   "metadata": {},
   "outputs": [],
   "source": [
    "tr_smp, ts_smp = train_dev_test_split(sample_site, train_pct=0.75, dev_pct=0)"
   ]
  },
  {
   "cell_type": "code",
   "execution_count": 125,
   "metadata": {},
   "outputs": [],
   "source": [
    "x_idx = [0, 1] + [x for x in range(4, len(list(sample_site)))]\n",
    "y_idx = 3"
   ]
  },
  {
   "cell_type": "code",
   "execution_count": 126,
   "metadata": {},
   "outputs": [],
   "source": [
    "tr_smpx, tr_smpy = df_to_x_y(tr_smp, x_idx, y_idx)\n",
    "ts_smpx, ts_smpy = df_to_x_y(ts_smp, x_idx, y_idx)"
   ]
  },
  {
   "cell_type": "code",
   "execution_count": 51,
   "metadata": {},
   "outputs": [
    {
     "data": {
      "text/plain": [
       "2.854176101352186"
      ]
     },
     "execution_count": 51,
     "metadata": {},
     "output_type": "execute_result"
    }
   ],
   "source": [
    "# Smart dummy training accuracy\n",
    "root_mean_squared_log_error(smart_dummy_predict(tr_smp, tr_smpx), tr_smpy)"
   ]
  },
  {
   "cell_type": "code",
   "execution_count": 52,
   "metadata": {},
   "outputs": [
    {
     "data": {
      "text/plain": [
       "3.832249108691976"
      ]
     },
     "execution_count": 52,
     "metadata": {},
     "output_type": "execute_result"
    }
   ],
   "source": [
    "# Smart dummy training accuracy\n",
    "root_mean_squared_log_error(smart_dummy_predict(tr_smp, ts_smpx), ts_smpy)"
   ]
  },
  {
   "cell_type": "code",
   "execution_count": 127,
   "metadata": {},
   "outputs": [],
   "source": [
    "# Let's try a Random Forest regression\n",
    "from sklearn.ensemble import RandomForestRegressor\n",
    "rfrg = RandomForestRegressor(n_jobs=-1, max_depth=5, n_estimators=39)"
   ]
  },
  {
   "cell_type": "code",
   "execution_count": 128,
   "metadata": {},
   "outputs": [
    {
     "data": {
      "text/plain": [
       "RandomForestRegressor(bootstrap=True, criterion='mse', max_depth=5,\n",
       "                      max_features='auto', max_leaf_nodes=None,\n",
       "                      min_impurity_decrease=0.0, min_impurity_split=None,\n",
       "                      min_samples_leaf=1, min_samples_split=2,\n",
       "                      min_weight_fraction_leaf=0.0, n_estimators=39, n_jobs=-1,\n",
       "                      oob_score=False, random_state=None, verbose=0,\n",
       "                      warm_start=False)"
      ]
     },
     "execution_count": 128,
     "metadata": {},
     "output_type": "execute_result"
    }
   ],
   "source": [
    "rfrg.fit(tr_smpx, tr_smpy)"
   ]
  },
  {
   "cell_type": "code",
   "execution_count": 129,
   "metadata": {},
   "outputs": [
    {
     "data": {
      "text/plain": [
       "0.7046630115659629"
      ]
     },
     "execution_count": 129,
     "metadata": {},
     "output_type": "execute_result"
    }
   ],
   "source": [
    "root_mean_squared_log_error(rfrg.predict(tr_smpx), tr_smpy)"
   ]
  },
  {
   "cell_type": "code",
   "execution_count": 130,
   "metadata": {},
   "outputs": [
    {
     "data": {
      "text/plain": [
       "1.7567391977444955"
      ]
     },
     "execution_count": 130,
     "metadata": {},
     "output_type": "execute_result"
    }
   ],
   "source": [
    "root_mean_squared_log_error(rfrg.predict(ts_smpx), ts_smpy)"
   ]
  },
  {
   "cell_type": "code",
   "execution_count": 134,
   "metadata": {},
   "outputs": [
    {
     "data": {
      "text/html": [
       "<div>\n",
       "<style scoped>\n",
       "    .dataframe tbody tr th:only-of-type {\n",
       "        vertical-align: middle;\n",
       "    }\n",
       "\n",
       "    .dataframe tbody tr th {\n",
       "        vertical-align: top;\n",
       "    }\n",
       "\n",
       "    .dataframe thead th {\n",
       "        text-align: right;\n",
       "    }\n",
       "</style>\n",
       "<table border=\"1\" class=\"dataframe\">\n",
       "  <thead>\n",
       "    <tr style=\"text-align: right;\">\n",
       "      <th></th>\n",
       "      <th>building_id</th>\n",
       "      <th>meter</th>\n",
       "      <th>meter_reading</th>\n",
       "      <th>site_id</th>\n",
       "      <th>primary_use</th>\n",
       "      <th>square_feet</th>\n",
       "      <th>year_built</th>\n",
       "      <th>floor_count</th>\n",
       "      <th>air_temperature</th>\n",
       "      <th>cloud_coverage</th>\n",
       "      <th>dew_temperature</th>\n",
       "      <th>precip_depth_1_hr</th>\n",
       "      <th>sea_level_pressure</th>\n",
       "      <th>wind_direction</th>\n",
       "      <th>wind_speed</th>\n",
       "      <th>dt_m</th>\n",
       "      <th>dt_w</th>\n",
       "      <th>dt_d</th>\n",
       "      <th>dt_hour</th>\n",
       "      <th>dt_day_week</th>\n",
       "      <th>dt_day_month</th>\n",
       "      <th>dt_week_month</th>\n",
       "      <th>dt_m_sin</th>\n",
       "      <th>dt_m_cos</th>\n",
       "      <th>dt_w_sin</th>\n",
       "      <th>dt_w_cos</th>\n",
       "      <th>dt_d_sin</th>\n",
       "      <th>dt_d_cos</th>\n",
       "      <th>dt_hour_sin</th>\n",
       "      <th>dt_hour_cos</th>\n",
       "      <th>dt_day_week_sin</th>\n",
       "      <th>dt_day_week_cos</th>\n",
       "      <th>dt_day_month_sin</th>\n",
       "      <th>dt_day_month_cos</th>\n",
       "      <th>dt_week_month_sin</th>\n",
       "      <th>dt_week_month_cos</th>\n",
       "    </tr>\n",
       "  </thead>\n",
       "  <tbody>\n",
       "    <tr>\n",
       "      <td>count</td>\n",
       "      <td>35116.0</td>\n",
       "      <td>35116.000000</td>\n",
       "      <td>35116.000000</td>\n",
       "      <td>35116.0</td>\n",
       "      <td>35116.0</td>\n",
       "      <td>35116.0</td>\n",
       "      <td>35116.0</td>\n",
       "      <td>35116.0</td>\n",
       "      <td>35116.000000</td>\n",
       "      <td>35116.000000</td>\n",
       "      <td>35116.000000</td>\n",
       "      <td>35116.000000</td>\n",
       "      <td>35116.000000</td>\n",
       "      <td>35116.000000</td>\n",
       "      <td>35116.000000</td>\n",
       "      <td>35116.000000</td>\n",
       "      <td>35116.000000</td>\n",
       "      <td>35116.000000</td>\n",
       "      <td>35116.000000</td>\n",
       "      <td>35116.000000</td>\n",
       "      <td>35116.000000</td>\n",
       "      <td>35116.000000</td>\n",
       "      <td>3.511600e+04</td>\n",
       "      <td>3.511600e+04</td>\n",
       "      <td>3.511600e+04</td>\n",
       "      <td>35116.000000</td>\n",
       "      <td>3.511600e+04</td>\n",
       "      <td>35116.000000</td>\n",
       "      <td>35116.000000</td>\n",
       "      <td>35116.000000</td>\n",
       "      <td>35116.000000</td>\n",
       "      <td>35116.000000</td>\n",
       "      <td>3.511600e+04</td>\n",
       "      <td>35116.000000</td>\n",
       "      <td>3.511600e+04</td>\n",
       "      <td>35116.000000</td>\n",
       "    </tr>\n",
       "    <tr>\n",
       "      <td>mean</td>\n",
       "      <td>1241.0</td>\n",
       "      <td>1.499231</td>\n",
       "      <td>1161.941650</td>\n",
       "      <td>14.0</td>\n",
       "      <td>3.0</td>\n",
       "      <td>194188.0</td>\n",
       "      <td>9999.0</td>\n",
       "      <td>99.0</td>\n",
       "      <td>13.334033</td>\n",
       "      <td>37.741001</td>\n",
       "      <td>5.857646</td>\n",
       "      <td>5.063959</td>\n",
       "      <td>1136.098145</td>\n",
       "      <td>215.140677</td>\n",
       "      <td>3.403981</td>\n",
       "      <td>6.514466</td>\n",
       "      <td>26.651669</td>\n",
       "      <td>183.525829</td>\n",
       "      <td>11.499801</td>\n",
       "      <td>3.006863</td>\n",
       "      <td>15.757774</td>\n",
       "      <td>2.705092</td>\n",
       "      <td>-3.258210e-03</td>\n",
       "      <td>-5.074021e-04</td>\n",
       "      <td>-9.512725e-05</td>\n",
       "      <td>-0.013280</td>\n",
       "      <td>-3.909839e-04</td>\n",
       "      <td>0.000399</td>\n",
       "      <td>0.000049</td>\n",
       "      <td>0.041569</td>\n",
       "      <td>-0.004439</td>\n",
       "      <td>0.141787</td>\n",
       "      <td>4.050461e-04</td>\n",
       "      <td>-0.015820</td>\n",
       "      <td>-6.695355e-05</td>\n",
       "      <td>-0.147164</td>\n",
       "    </tr>\n",
       "    <tr>\n",
       "      <td>std</td>\n",
       "      <td>0.0</td>\n",
       "      <td>1.117795</td>\n",
       "      <td>1165.212280</td>\n",
       "      <td>0.0</td>\n",
       "      <td>0.0</td>\n",
       "      <td>0.0</td>\n",
       "      <td>0.0</td>\n",
       "      <td>0.0</td>\n",
       "      <td>10.572361</td>\n",
       "      <td>47.738782</td>\n",
       "      <td>10.970021</td>\n",
       "      <td>65.778553</td>\n",
       "      <td>1030.093384</td>\n",
       "      <td>189.904433</td>\n",
       "      <td>5.968377</td>\n",
       "      <td>3.452085</td>\n",
       "      <td>15.102369</td>\n",
       "      <td>105.680366</td>\n",
       "      <td>6.921934</td>\n",
       "      <td>1.997702</td>\n",
       "      <td>8.814005</td>\n",
       "      <td>1.272251</td>\n",
       "      <td>7.062429e-01</td>\n",
       "      <td>7.079820e-01</td>\n",
       "      <td>7.118772e-01</td>\n",
       "      <td>0.702199</td>\n",
       "      <td>7.071145e-01</td>\n",
       "      <td>0.707119</td>\n",
       "      <td>0.692215</td>\n",
       "      <td>0.720513</td>\n",
       "      <td>0.655980</td>\n",
       "      <td>0.741347</td>\n",
       "      <td>7.129733e-01</td>\n",
       "      <td>0.701033</td>\n",
       "      <td>7.575730e-01</td>\n",
       "      <td>0.635967</td>\n",
       "    </tr>\n",
       "    <tr>\n",
       "      <td>min</td>\n",
       "      <td>1241.0</td>\n",
       "      <td>0.000000</td>\n",
       "      <td>0.000000</td>\n",
       "      <td>14.0</td>\n",
       "      <td>3.0</td>\n",
       "      <td>194188.0</td>\n",
       "      <td>9999.0</td>\n",
       "      <td>99.0</td>\n",
       "      <td>-15.600000</td>\n",
       "      <td>0.000000</td>\n",
       "      <td>-25.600000</td>\n",
       "      <td>-1.000000</td>\n",
       "      <td>989.599976</td>\n",
       "      <td>0.000000</td>\n",
       "      <td>0.000000</td>\n",
       "      <td>1.000000</td>\n",
       "      <td>1.000000</td>\n",
       "      <td>1.000000</td>\n",
       "      <td>0.000000</td>\n",
       "      <td>0.000000</td>\n",
       "      <td>1.000000</td>\n",
       "      <td>1.000000</td>\n",
       "      <td>-1.000000e+00</td>\n",
       "      <td>-1.000000e+00</td>\n",
       "      <td>-9.995608e-01</td>\n",
       "      <td>-0.998244</td>\n",
       "      <td>-9.999632e-01</td>\n",
       "      <td>-1.000000</td>\n",
       "      <td>-0.997669</td>\n",
       "      <td>-0.990686</td>\n",
       "      <td>-0.866025</td>\n",
       "      <td>-1.000000</td>\n",
       "      <td>-9.987165e-01</td>\n",
       "      <td>-0.994869</td>\n",
       "      <td>-9.510565e-01</td>\n",
       "      <td>-0.809017</td>\n",
       "    </tr>\n",
       "    <tr>\n",
       "      <td>25%</td>\n",
       "      <td>1241.0</td>\n",
       "      <td>0.000000</td>\n",
       "      <td>176.592995</td>\n",
       "      <td>14.0</td>\n",
       "      <td>3.0</td>\n",
       "      <td>194188.0</td>\n",
       "      <td>9999.0</td>\n",
       "      <td>99.0</td>\n",
       "      <td>5.000000</td>\n",
       "      <td>0.000000</td>\n",
       "      <td>-2.800000</td>\n",
       "      <td>0.000000</td>\n",
       "      <td>1011.799988</td>\n",
       "      <td>70.000000</td>\n",
       "      <td>1.500000</td>\n",
       "      <td>4.000000</td>\n",
       "      <td>14.000000</td>\n",
       "      <td>92.000000</td>\n",
       "      <td>6.000000</td>\n",
       "      <td>1.000000</td>\n",
       "      <td>8.000000</td>\n",
       "      <td>2.000000</td>\n",
       "      <td>-8.660254e-01</td>\n",
       "      <td>-8.660254e-01</td>\n",
       "      <td>-6.965510e-01</td>\n",
       "      <td>-0.717507</td>\n",
       "      <td>-7.101350e-01</td>\n",
       "      <td>-0.704066</td>\n",
       "      <td>-0.631088</td>\n",
       "      <td>-0.775711</td>\n",
       "      <td>-0.866025</td>\n",
       "      <td>-0.500000</td>\n",
       "      <td>-7.247928e-01</td>\n",
       "      <td>-0.758758</td>\n",
       "      <td>-5.877853e-01</td>\n",
       "      <td>-0.809017</td>\n",
       "    </tr>\n",
       "    <tr>\n",
       "      <td>50%</td>\n",
       "      <td>1241.0</td>\n",
       "      <td>1.000000</td>\n",
       "      <td>850.369995</td>\n",
       "      <td>14.0</td>\n",
       "      <td>3.0</td>\n",
       "      <td>194188.0</td>\n",
       "      <td>9999.0</td>\n",
       "      <td>99.0</td>\n",
       "      <td>13.300000</td>\n",
       "      <td>0.000000</td>\n",
       "      <td>6.100000</td>\n",
       "      <td>0.000000</td>\n",
       "      <td>1016.700012</td>\n",
       "      <td>220.000000</td>\n",
       "      <td>2.600000</td>\n",
       "      <td>7.000000</td>\n",
       "      <td>27.000000</td>\n",
       "      <td>184.000000</td>\n",
       "      <td>11.000000</td>\n",
       "      <td>3.000000</td>\n",
       "      <td>16.000000</td>\n",
       "      <td>3.000000</td>\n",
       "      <td>-2.449294e-16</td>\n",
       "      <td>6.123234e-17</td>\n",
       "      <td>-2.449294e-16</td>\n",
       "      <td>0.029633</td>\n",
       "      <td>-2.449294e-16</td>\n",
       "      <td>0.008583</td>\n",
       "      <td>0.000000</td>\n",
       "      <td>-0.068242</td>\n",
       "      <td>0.000000</td>\n",
       "      <td>0.500000</td>\n",
       "      <td>-2.449294e-16</td>\n",
       "      <td>-0.050649</td>\n",
       "      <td>-2.449294e-16</td>\n",
       "      <td>0.309017</td>\n",
       "    </tr>\n",
       "    <tr>\n",
       "      <td>75%</td>\n",
       "      <td>1241.0</td>\n",
       "      <td>2.000000</td>\n",
       "      <td>1858.587524</td>\n",
       "      <td>14.0</td>\n",
       "      <td>3.0</td>\n",
       "      <td>194188.0</td>\n",
       "      <td>9999.0</td>\n",
       "      <td>99.0</td>\n",
       "      <td>21.700001</td>\n",
       "      <td>99.000000</td>\n",
       "      <td>15.000000</td>\n",
       "      <td>0.000000</td>\n",
       "      <td>1021.200012</td>\n",
       "      <td>300.000000</td>\n",
       "      <td>4.100000</td>\n",
       "      <td>10.000000</td>\n",
       "      <td>40.000000</td>\n",
       "      <td>275.000000</td>\n",
       "      <td>17.000000</td>\n",
       "      <td>5.000000</td>\n",
       "      <td>23.000000</td>\n",
       "      <td>4.000000</td>\n",
       "      <td>5.000000e-01</td>\n",
       "      <td>8.660254e-01</td>\n",
       "      <td>6.965510e-01</td>\n",
       "      <td>0.674983</td>\n",
       "      <td>7.101350e-01</td>\n",
       "      <td>0.704066</td>\n",
       "      <td>0.656025</td>\n",
       "      <td>0.682553</td>\n",
       "      <td>0.866025</td>\n",
       "      <td>1.000000</td>\n",
       "      <td>7.247928e-01</td>\n",
       "      <td>0.688967</td>\n",
       "      <td>5.877853e-01</td>\n",
       "      <td>0.309017</td>\n",
       "    </tr>\n",
       "    <tr>\n",
       "      <td>max</td>\n",
       "      <td>1241.0</td>\n",
       "      <td>3.000000</td>\n",
       "      <td>6148.330078</td>\n",
       "      <td>14.0</td>\n",
       "      <td>3.0</td>\n",
       "      <td>194188.0</td>\n",
       "      <td>9999.0</td>\n",
       "      <td>99.0</td>\n",
       "      <td>99.000000</td>\n",
       "      <td>99.000000</td>\n",
       "      <td>99.000000</td>\n",
       "      <td>999.000000</td>\n",
       "      <td>9999.000000</td>\n",
       "      <td>999.000000</td>\n",
       "      <td>99.000000</td>\n",
       "      <td>12.000000</td>\n",
       "      <td>53.000000</td>\n",
       "      <td>366.000000</td>\n",
       "      <td>23.000000</td>\n",
       "      <td>6.000000</td>\n",
       "      <td>31.000000</td>\n",
       "      <td>5.000000</td>\n",
       "      <td>1.000000e+00</td>\n",
       "      <td>1.000000e+00</td>\n",
       "      <td>9.995608e-01</td>\n",
       "      <td>1.000000</td>\n",
       "      <td>9.999632e-01</td>\n",
       "      <td>1.000000</td>\n",
       "      <td>0.997669</td>\n",
       "      <td>1.000000</td>\n",
       "      <td>0.866025</td>\n",
       "      <td>1.000000</td>\n",
       "      <td>9.987165e-01</td>\n",
       "      <td>1.000000</td>\n",
       "      <td>9.510565e-01</td>\n",
       "      <td>1.000000</td>\n",
       "    </tr>\n",
       "  </tbody>\n",
       "</table>\n",
       "</div>"
      ],
      "text/plain": [
       "       building_id         meter  meter_reading  site_id  primary_use  \\\n",
       "count      35116.0  35116.000000   35116.000000  35116.0      35116.0   \n",
       "mean        1241.0      1.499231    1161.941650     14.0          3.0   \n",
       "std            0.0      1.117795    1165.212280      0.0          0.0   \n",
       "min         1241.0      0.000000       0.000000     14.0          3.0   \n",
       "25%         1241.0      0.000000     176.592995     14.0          3.0   \n",
       "50%         1241.0      1.000000     850.369995     14.0          3.0   \n",
       "75%         1241.0      2.000000    1858.587524     14.0          3.0   \n",
       "max         1241.0      3.000000    6148.330078     14.0          3.0   \n",
       "\n",
       "       square_feet  year_built  floor_count  air_temperature  cloud_coverage  \\\n",
       "count      35116.0     35116.0      35116.0     35116.000000    35116.000000   \n",
       "mean      194188.0      9999.0         99.0        13.334033       37.741001   \n",
       "std            0.0         0.0          0.0        10.572361       47.738782   \n",
       "min       194188.0      9999.0         99.0       -15.600000        0.000000   \n",
       "25%       194188.0      9999.0         99.0         5.000000        0.000000   \n",
       "50%       194188.0      9999.0         99.0        13.300000        0.000000   \n",
       "75%       194188.0      9999.0         99.0        21.700001       99.000000   \n",
       "max       194188.0      9999.0         99.0        99.000000       99.000000   \n",
       "\n",
       "       dew_temperature  precip_depth_1_hr  sea_level_pressure  wind_direction  \\\n",
       "count     35116.000000       35116.000000        35116.000000    35116.000000   \n",
       "mean          5.857646           5.063959         1136.098145      215.140677   \n",
       "std          10.970021          65.778553         1030.093384      189.904433   \n",
       "min         -25.600000          -1.000000          989.599976        0.000000   \n",
       "25%          -2.800000           0.000000         1011.799988       70.000000   \n",
       "50%           6.100000           0.000000         1016.700012      220.000000   \n",
       "75%          15.000000           0.000000         1021.200012      300.000000   \n",
       "max          99.000000         999.000000         9999.000000      999.000000   \n",
       "\n",
       "         wind_speed          dt_m          dt_w          dt_d       dt_hour  \\\n",
       "count  35116.000000  35116.000000  35116.000000  35116.000000  35116.000000   \n",
       "mean       3.403981      6.514466     26.651669    183.525829     11.499801   \n",
       "std        5.968377      3.452085     15.102369    105.680366      6.921934   \n",
       "min        0.000000      1.000000      1.000000      1.000000      0.000000   \n",
       "25%        1.500000      4.000000     14.000000     92.000000      6.000000   \n",
       "50%        2.600000      7.000000     27.000000    184.000000     11.000000   \n",
       "75%        4.100000     10.000000     40.000000    275.000000     17.000000   \n",
       "max       99.000000     12.000000     53.000000    366.000000     23.000000   \n",
       "\n",
       "        dt_day_week  dt_day_month  dt_week_month      dt_m_sin      dt_m_cos  \\\n",
       "count  35116.000000  35116.000000   35116.000000  3.511600e+04  3.511600e+04   \n",
       "mean       3.006863     15.757774       2.705092 -3.258210e-03 -5.074021e-04   \n",
       "std        1.997702      8.814005       1.272251  7.062429e-01  7.079820e-01   \n",
       "min        0.000000      1.000000       1.000000 -1.000000e+00 -1.000000e+00   \n",
       "25%        1.000000      8.000000       2.000000 -8.660254e-01 -8.660254e-01   \n",
       "50%        3.000000     16.000000       3.000000 -2.449294e-16  6.123234e-17   \n",
       "75%        5.000000     23.000000       4.000000  5.000000e-01  8.660254e-01   \n",
       "max        6.000000     31.000000       5.000000  1.000000e+00  1.000000e+00   \n",
       "\n",
       "           dt_w_sin      dt_w_cos      dt_d_sin      dt_d_cos   dt_hour_sin  \\\n",
       "count  3.511600e+04  35116.000000  3.511600e+04  35116.000000  35116.000000   \n",
       "mean  -9.512725e-05     -0.013280 -3.909839e-04      0.000399      0.000049   \n",
       "std    7.118772e-01      0.702199  7.071145e-01      0.707119      0.692215   \n",
       "min   -9.995608e-01     -0.998244 -9.999632e-01     -1.000000     -0.997669   \n",
       "25%   -6.965510e-01     -0.717507 -7.101350e-01     -0.704066     -0.631088   \n",
       "50%   -2.449294e-16      0.029633 -2.449294e-16      0.008583      0.000000   \n",
       "75%    6.965510e-01      0.674983  7.101350e-01      0.704066      0.656025   \n",
       "max    9.995608e-01      1.000000  9.999632e-01      1.000000      0.997669   \n",
       "\n",
       "        dt_hour_cos  dt_day_week_sin  dt_day_week_cos  dt_day_month_sin  \\\n",
       "count  35116.000000     35116.000000     35116.000000      3.511600e+04   \n",
       "mean       0.041569        -0.004439         0.141787      4.050461e-04   \n",
       "std        0.720513         0.655980         0.741347      7.129733e-01   \n",
       "min       -0.990686        -0.866025        -1.000000     -9.987165e-01   \n",
       "25%       -0.775711        -0.866025        -0.500000     -7.247928e-01   \n",
       "50%       -0.068242         0.000000         0.500000     -2.449294e-16   \n",
       "75%        0.682553         0.866025         1.000000      7.247928e-01   \n",
       "max        1.000000         0.866025         1.000000      9.987165e-01   \n",
       "\n",
       "       dt_day_month_cos  dt_week_month_sin  dt_week_month_cos  \n",
       "count      35116.000000       3.511600e+04       35116.000000  \n",
       "mean          -0.015820      -6.695355e-05          -0.147164  \n",
       "std            0.701033       7.575730e-01           0.635967  \n",
       "min           -0.994869      -9.510565e-01          -0.809017  \n",
       "25%           -0.758758      -5.877853e-01          -0.809017  \n",
       "50%           -0.050649      -2.449294e-16           0.309017  \n",
       "75%            0.688967       5.877853e-01           0.309017  \n",
       "max            1.000000       9.510565e-01           1.000000  "
      ]
     },
     "execution_count": 134,
     "metadata": {},
     "output_type": "execute_result"
    }
   ],
   "source": [
    "pd.set_option('display.max_columns', 200)\n",
    "sample_site.describe()"
   ]
  },
  {
   "cell_type": "markdown",
   "metadata": {},
   "source": [
    "## Time Series Modelling"
   ]
  },
  {
   "cell_type": "markdown",
   "metadata": {},
   "source": [
    "### Let's start using no feature other than meter reading and meter type"
   ]
  },
  {
   "cell_type": "code",
   "execution_count": 146,
   "metadata": {},
   "outputs": [],
   "source": [
    "from datetime import timedelta"
   ]
  },
  {
   "cell_type": "code",
   "execution_count": 139,
   "metadata": {},
   "outputs": [],
   "source": [
    "sample_site_ts = sample_site[['meter', 'meter_reading', 'timestamp']]"
   ]
  },
  {
   "cell_type": "code",
   "execution_count": 160,
   "metadata": {},
   "outputs": [
    {
     "name": "stderr",
     "output_type": "stream",
     "text": [
      "/Users/Ric/_macos_programs/environments/python/x_tsm/lib/python3.7/site-packages/tqdm/std.py:648: FutureWarning: The Panel class is removed from pandas. Accessing it from the top-level namespace will also be removed in the next version\n",
      "  from pandas import Panel\n"
     ]
    }
   ],
   "source": [
    "from tsm.data_utils import add_k_past_lags"
   ]
  },
  {
   "cell_type": "code",
   "execution_count": 195,
   "metadata": {},
   "outputs": [
    {
     "data": {
      "application/vnd.jupyter.widget-view+json": {
       "model_id": "11af460bf667463e95ceb203371c37eb",
       "version_major": 2,
       "version_minor": 0
      },
      "text/plain": [
       "HBox(children=(IntProgress(value=0, max=35116), HTML(value='')))"
      ]
     },
     "metadata": {},
     "output_type": "display_data"
    },
    {
     "name": "stdout",
     "output_type": "stream",
     "text": [
      "\n"
     ]
    }
   ],
   "source": [
    "sample_site_ts = sample_site_ts.progress_apply(lambda r: add_k_past_lags(r, sample_site_ts, 'timestamp', 'meter_reading', 'meter'), axis=1)"
   ]
  },
  {
   "cell_type": "code",
   "execution_count": 198,
   "metadata": {},
   "outputs": [],
   "source": [
    "sample_site_ts.dropna(inplace=True)"
   ]
  },
  {
   "cell_type": "code",
   "execution_count": 199,
   "metadata": {},
   "outputs": [
    {
     "data": {
      "text/html": [
       "<div>\n",
       "<style scoped>\n",
       "    .dataframe tbody tr th:only-of-type {\n",
       "        vertical-align: middle;\n",
       "    }\n",
       "\n",
       "    .dataframe tbody tr th {\n",
       "        vertical-align: top;\n",
       "    }\n",
       "\n",
       "    .dataframe thead th {\n",
       "        text-align: right;\n",
       "    }\n",
       "</style>\n",
       "<table border=\"1\" class=\"dataframe\">\n",
       "  <thead>\n",
       "    <tr style=\"text-align: right;\">\n",
       "      <th></th>\n",
       "      <th>meter</th>\n",
       "      <th>meter_reading</th>\n",
       "      <th>timestamp</th>\n",
       "      <th>meter_reading_t-1</th>\n",
       "      <th>meter_reading_t-2</th>\n",
       "      <th>meter_reading_t-3</th>\n",
       "      <th>meter_reading_t-4</th>\n",
       "      <th>meter_reading_t-5</th>\n",
       "      <th>meter_reading_t-6</th>\n",
       "      <th>meter_reading_t-7</th>\n",
       "      <th>meter_reading_t-8</th>\n",
       "      <th>meter_reading_t-9</th>\n",
       "      <th>meter_reading_t-10</th>\n",
       "    </tr>\n",
       "  </thead>\n",
       "  <tbody>\n",
       "    <tr>\n",
       "      <td>24785</td>\n",
       "      <td>0</td>\n",
       "      <td>174.171997</td>\n",
       "      <td>2016-01-01 10:00:00</td>\n",
       "      <td>234.179993</td>\n",
       "      <td>294.156006</td>\n",
       "      <td>354.152008</td>\n",
       "      <td>294.121002</td>\n",
       "      <td>294.101990</td>\n",
       "      <td>294.089996</td>\n",
       "      <td>234.147995</td>\n",
       "      <td>234.164001</td>\n",
       "      <td>234.151993</td>\n",
       "      <td>234.160004</td>\n",
       "    </tr>\n",
       "    <tr>\n",
       "      <td>24786</td>\n",
       "      <td>1</td>\n",
       "      <td>1050.310059</td>\n",
       "      <td>2016-01-01 10:00:00</td>\n",
       "      <td>2249.919922</td>\n",
       "      <td>2080.939941</td>\n",
       "      <td>1995.560059</td>\n",
       "      <td>2011.180054</td>\n",
       "      <td>1988.310059</td>\n",
       "      <td>1785.680054</td>\n",
       "      <td>1149.339966</td>\n",
       "      <td>1122.380005</td>\n",
       "      <td>1140.790039</td>\n",
       "      <td>1144.390015</td>\n",
       "    </tr>\n",
       "    <tr>\n",
       "      <td>24787</td>\n",
       "      <td>2</td>\n",
       "      <td>1241.439941</td>\n",
       "      <td>2016-01-01 10:00:00</td>\n",
       "      <td>2398.879883</td>\n",
       "      <td>2548.489990</td>\n",
       "      <td>2207.290039</td>\n",
       "      <td>2661.340088</td>\n",
       "      <td>2249.280029</td>\n",
       "      <td>2225.659912</td>\n",
       "      <td>2186.290039</td>\n",
       "      <td>1805.719971</td>\n",
       "      <td>1771.609985</td>\n",
       "      <td>2251.909912</td>\n",
       "    </tr>\n",
       "    <tr>\n",
       "      <td>24788</td>\n",
       "      <td>3</td>\n",
       "      <td>1689.939941</td>\n",
       "      <td>2016-01-01 10:00:00</td>\n",
       "      <td>1331.800049</td>\n",
       "      <td>1466.300049</td>\n",
       "      <td>2528.439941</td>\n",
       "      <td>2692.550049</td>\n",
       "      <td>2547.929932</td>\n",
       "      <td>2249.989990</td>\n",
       "      <td>1786.969971</td>\n",
       "      <td>1656.900024</td>\n",
       "      <td>1638.579956</td>\n",
       "      <td>1922.689941</td>\n",
       "    </tr>\n",
       "    <tr>\n",
       "      <td>27084</td>\n",
       "      <td>0</td>\n",
       "      <td>234.171997</td>\n",
       "      <td>2016-01-01 11:00:00</td>\n",
       "      <td>294.156006</td>\n",
       "      <td>354.152008</td>\n",
       "      <td>294.121002</td>\n",
       "      <td>294.101990</td>\n",
       "      <td>294.089996</td>\n",
       "      <td>234.147995</td>\n",
       "      <td>234.164001</td>\n",
       "      <td>234.151993</td>\n",
       "      <td>234.160004</td>\n",
       "      <td>174.171997</td>\n",
       "    </tr>\n",
       "    <tr>\n",
       "      <td>...</td>\n",
       "      <td>...</td>\n",
       "      <td>...</td>\n",
       "      <td>...</td>\n",
       "      <td>...</td>\n",
       "      <td>...</td>\n",
       "      <td>...</td>\n",
       "      <td>...</td>\n",
       "      <td>...</td>\n",
       "      <td>...</td>\n",
       "      <td>...</td>\n",
       "      <td>...</td>\n",
       "      <td>...</td>\n",
       "      <td>...</td>\n",
       "    </tr>\n",
       "    <tr>\n",
       "      <td>20213257</td>\n",
       "      <td>3</td>\n",
       "      <td>0.760000</td>\n",
       "      <td>2016-12-31 22:00:00</td>\n",
       "      <td>1.090000</td>\n",
       "      <td>1.110000</td>\n",
       "      <td>1.110000</td>\n",
       "      <td>1.120000</td>\n",
       "      <td>1.110000</td>\n",
       "      <td>1.080000</td>\n",
       "      <td>1.030000</td>\n",
       "      <td>0.950000</td>\n",
       "      <td>0.870000</td>\n",
       "      <td>0.810000</td>\n",
       "    </tr>\n",
       "    <tr>\n",
       "      <td>20215619</td>\n",
       "      <td>0</td>\n",
       "      <td>260.000000</td>\n",
       "      <td>2016-12-31 23:00:00</td>\n",
       "      <td>264.000000</td>\n",
       "      <td>273.000000</td>\n",
       "      <td>260.000000</td>\n",
       "      <td>276.000000</td>\n",
       "      <td>282.000000</td>\n",
       "      <td>266.000000</td>\n",
       "      <td>262.000000</td>\n",
       "      <td>252.000000</td>\n",
       "      <td>252.000000</td>\n",
       "      <td>257.000000</td>\n",
       "    </tr>\n",
       "    <tr>\n",
       "      <td>20215620</td>\n",
       "      <td>1</td>\n",
       "      <td>617.379028</td>\n",
       "      <td>2016-12-31 23:00:00</td>\n",
       "      <td>563.203003</td>\n",
       "      <td>551.807007</td>\n",
       "      <td>559.666016</td>\n",
       "      <td>616.874023</td>\n",
       "      <td>676.291992</td>\n",
       "      <td>692.562988</td>\n",
       "      <td>691.482971</td>\n",
       "      <td>714.997009</td>\n",
       "      <td>702.973999</td>\n",
       "      <td>662.281982</td>\n",
       "    </tr>\n",
       "    <tr>\n",
       "      <td>20215621</td>\n",
       "      <td>2</td>\n",
       "      <td>1965.829956</td>\n",
       "      <td>2016-12-31 23:00:00</td>\n",
       "      <td>2947.429932</td>\n",
       "      <td>3034.040039</td>\n",
       "      <td>2973.669922</td>\n",
       "      <td>2753.209961</td>\n",
       "      <td>1703.369995</td>\n",
       "      <td>2349.020020</td>\n",
       "      <td>1918.579956</td>\n",
       "      <td>1942.199951</td>\n",
       "      <td>1989.449951</td>\n",
       "      <td>1860.839966</td>\n",
       "    </tr>\n",
       "    <tr>\n",
       "      <td>20215622</td>\n",
       "      <td>3</td>\n",
       "      <td>0.740000</td>\n",
       "      <td>2016-12-31 23:00:00</td>\n",
       "      <td>1.110000</td>\n",
       "      <td>1.110000</td>\n",
       "      <td>1.120000</td>\n",
       "      <td>1.110000</td>\n",
       "      <td>1.080000</td>\n",
       "      <td>1.030000</td>\n",
       "      <td>0.950000</td>\n",
       "      <td>0.870000</td>\n",
       "      <td>0.810000</td>\n",
       "      <td>0.760000</td>\n",
       "    </tr>\n",
       "  </tbody>\n",
       "</table>\n",
       "<p>35056 rows × 13 columns</p>\n",
       "</div>"
      ],
      "text/plain": [
       "          meter  meter_reading           timestamp  meter_reading_t-1  \\\n",
       "24785         0     174.171997 2016-01-01 10:00:00         234.179993   \n",
       "24786         1    1050.310059 2016-01-01 10:00:00        2249.919922   \n",
       "24787         2    1241.439941 2016-01-01 10:00:00        2398.879883   \n",
       "24788         3    1689.939941 2016-01-01 10:00:00        1331.800049   \n",
       "27084         0     234.171997 2016-01-01 11:00:00         294.156006   \n",
       "...         ...            ...                 ...                ...   \n",
       "20213257      3       0.760000 2016-12-31 22:00:00           1.090000   \n",
       "20215619      0     260.000000 2016-12-31 23:00:00         264.000000   \n",
       "20215620      1     617.379028 2016-12-31 23:00:00         563.203003   \n",
       "20215621      2    1965.829956 2016-12-31 23:00:00        2947.429932   \n",
       "20215622      3       0.740000 2016-12-31 23:00:00           1.110000   \n",
       "\n",
       "          meter_reading_t-2  meter_reading_t-3  meter_reading_t-4  \\\n",
       "24785            294.156006         354.152008         294.121002   \n",
       "24786           2080.939941        1995.560059        2011.180054   \n",
       "24787           2548.489990        2207.290039        2661.340088   \n",
       "24788           1466.300049        2528.439941        2692.550049   \n",
       "27084            354.152008         294.121002         294.101990   \n",
       "...                     ...                ...                ...   \n",
       "20213257           1.110000           1.110000           1.120000   \n",
       "20215619         273.000000         260.000000         276.000000   \n",
       "20215620         551.807007         559.666016         616.874023   \n",
       "20215621        3034.040039        2973.669922        2753.209961   \n",
       "20215622           1.110000           1.120000           1.110000   \n",
       "\n",
       "          meter_reading_t-5  meter_reading_t-6  meter_reading_t-7  \\\n",
       "24785            294.101990         294.089996         234.147995   \n",
       "24786           1988.310059        1785.680054        1149.339966   \n",
       "24787           2249.280029        2225.659912        2186.290039   \n",
       "24788           2547.929932        2249.989990        1786.969971   \n",
       "27084            294.089996         234.147995         234.164001   \n",
       "...                     ...                ...                ...   \n",
       "20213257           1.110000           1.080000           1.030000   \n",
       "20215619         282.000000         266.000000         262.000000   \n",
       "20215620         676.291992         692.562988         691.482971   \n",
       "20215621        1703.369995        2349.020020        1918.579956   \n",
       "20215622           1.080000           1.030000           0.950000   \n",
       "\n",
       "          meter_reading_t-8  meter_reading_t-9  meter_reading_t-10  \n",
       "24785            234.164001         234.151993          234.160004  \n",
       "24786           1122.380005        1140.790039         1144.390015  \n",
       "24787           1805.719971        1771.609985         2251.909912  \n",
       "24788           1656.900024        1638.579956         1922.689941  \n",
       "27084            234.151993         234.160004          174.171997  \n",
       "...                     ...                ...                 ...  \n",
       "20213257           0.950000           0.870000            0.810000  \n",
       "20215619         252.000000         252.000000          257.000000  \n",
       "20215620         714.997009         702.973999          662.281982  \n",
       "20215621        1942.199951        1989.449951         1860.839966  \n",
       "20215622           0.870000           0.810000            0.760000  \n",
       "\n",
       "[35056 rows x 13 columns]"
      ]
     },
     "execution_count": 199,
     "metadata": {},
     "output_type": "execute_result"
    }
   ],
   "source": [
    "sample_site_ts"
   ]
  },
  {
   "cell_type": "code",
   "execution_count": 241,
   "metadata": {},
   "outputs": [],
   "source": [
    "tr_smpts, ts_smpts = train_dev_test_split(sample_site_ts, train_pct=0.75, dev_pct=0)"
   ]
  },
  {
   "cell_type": "code",
   "execution_count": 242,
   "metadata": {},
   "outputs": [],
   "source": [
    "tsx_idx = [0] + [x for x in range(3, len(list(sample_site_ts)))]\n",
    "tsy_idx = 1"
   ]
  },
  {
   "cell_type": "code",
   "execution_count": 243,
   "metadata": {},
   "outputs": [],
   "source": [
    "tr_smpx, tr_smpy = df_to_x_y(tr_smpts, tsx_idx, tsy_idx)\n",
    "ts_smpx, ts_smpy = df_to_x_y(ts_smpts, tsx_idx, tsy_idx)"
   ]
  },
  {
   "cell_type": "code",
   "execution_count": 254,
   "metadata": {},
   "outputs": [
    {
     "data": {
      "text/plain": [
       "RandomForestRegressor(bootstrap=True, criterion='mse', max_depth=25,\n",
       "                      max_features='auto', max_leaf_nodes=None,\n",
       "                      min_impurity_decrease=0.0, min_impurity_split=None,\n",
       "                      min_samples_leaf=1, min_samples_split=2,\n",
       "                      min_weight_fraction_leaf=0.0, n_estimators=39, n_jobs=-1,\n",
       "                      oob_score=False, random_state=None, verbose=0,\n",
       "                      warm_start=False)"
      ]
     },
     "execution_count": 254,
     "metadata": {},
     "output_type": "execute_result"
    }
   ],
   "source": [
    "rfrg = RandomForestRegressor(n_jobs=-1, max_depth=25, n_estimators=39)\n",
    "rfrg.fit(tr_smpx, tr_smpy)"
   ]
  },
  {
   "cell_type": "code",
   "execution_count": 255,
   "metadata": {},
   "outputs": [
    {
     "data": {
      "text/plain": [
       "0.4863791492424107"
      ]
     },
     "execution_count": 255,
     "metadata": {},
     "output_type": "execute_result"
    }
   ],
   "source": [
    "root_mean_squared_log_error(rfrg.predict(tr_smpx), tr_smpy)"
   ]
  },
  {
   "cell_type": "code",
   "execution_count": 256,
   "metadata": {},
   "outputs": [
    {
     "data": {
      "text/plain": [
       "0.4455103092395611"
      ]
     },
     "execution_count": 256,
     "metadata": {},
     "output_type": "execute_result"
    }
   ],
   "source": [
    "root_mean_squared_log_error(rfrg.predict(ts_smpx), ts_smpy)"
   ]
  },
  {
   "cell_type": "code",
   "execution_count": 222,
   "metadata": {},
   "outputs": [],
   "source": [
    "# 10 past lags + features?\n",
    "sample_ts_with_feats = sample_site_ts.merge(sample_site)"
   ]
  },
  {
   "cell_type": "code",
   "execution_count": 223,
   "metadata": {},
   "outputs": [],
   "source": [
    "tr_smptsf, ts_smptsf = train_dev_test_split(sample_ts_with_feats, train_pct=0.75, dev_pct=0)"
   ]
  },
  {
   "cell_type": "code",
   "execution_count": 224,
   "metadata": {},
   "outputs": [
    {
     "data": {
      "text/html": [
       "<div>\n",
       "<style scoped>\n",
       "    .dataframe tbody tr th:only-of-type {\n",
       "        vertical-align: middle;\n",
       "    }\n",
       "\n",
       "    .dataframe tbody tr th {\n",
       "        vertical-align: top;\n",
       "    }\n",
       "\n",
       "    .dataframe thead th {\n",
       "        text-align: right;\n",
       "    }\n",
       "</style>\n",
       "<table border=\"1\" class=\"dataframe\">\n",
       "  <thead>\n",
       "    <tr style=\"text-align: right;\">\n",
       "      <th></th>\n",
       "      <th>meter</th>\n",
       "      <th>meter_reading</th>\n",
       "      <th>timestamp</th>\n",
       "      <th>meter_reading_t-1</th>\n",
       "      <th>meter_reading_t-2</th>\n",
       "      <th>meter_reading_t-3</th>\n",
       "      <th>meter_reading_t-4</th>\n",
       "      <th>meter_reading_t-5</th>\n",
       "      <th>meter_reading_t-6</th>\n",
       "      <th>meter_reading_t-7</th>\n",
       "      <th>meter_reading_t-8</th>\n",
       "      <th>meter_reading_t-9</th>\n",
       "      <th>meter_reading_t-10</th>\n",
       "      <th>building_id</th>\n",
       "      <th>site_id</th>\n",
       "      <th>primary_use</th>\n",
       "      <th>square_feet</th>\n",
       "      <th>year_built</th>\n",
       "      <th>floor_count</th>\n",
       "      <th>air_temperature</th>\n",
       "      <th>cloud_coverage</th>\n",
       "      <th>dew_temperature</th>\n",
       "      <th>precip_depth_1_hr</th>\n",
       "      <th>sea_level_pressure</th>\n",
       "      <th>wind_direction</th>\n",
       "      <th>wind_speed</th>\n",
       "      <th>dt_m</th>\n",
       "      <th>dt_w</th>\n",
       "      <th>dt_d</th>\n",
       "      <th>dt_hour</th>\n",
       "      <th>dt_day_week</th>\n",
       "      <th>dt_day_month</th>\n",
       "      <th>dt_week_month</th>\n",
       "      <th>dt_m_sin</th>\n",
       "      <th>dt_m_cos</th>\n",
       "      <th>dt_w_sin</th>\n",
       "      <th>dt_w_cos</th>\n",
       "      <th>dt_d_sin</th>\n",
       "      <th>dt_d_cos</th>\n",
       "      <th>dt_hour_sin</th>\n",
       "      <th>dt_hour_cos</th>\n",
       "      <th>dt_day_week_sin</th>\n",
       "      <th>dt_day_week_cos</th>\n",
       "      <th>dt_day_month_sin</th>\n",
       "      <th>dt_day_month_cos</th>\n",
       "      <th>dt_week_month_sin</th>\n",
       "      <th>dt_week_month_cos</th>\n",
       "    </tr>\n",
       "  </thead>\n",
       "  <tbody>\n",
       "    <tr>\n",
       "      <td>0</td>\n",
       "      <td>0</td>\n",
       "      <td>174.171997</td>\n",
       "      <td>2016-01-01 10:00:00</td>\n",
       "      <td>234.179993</td>\n",
       "      <td>294.156006</td>\n",
       "      <td>354.152008</td>\n",
       "      <td>294.121002</td>\n",
       "      <td>294.101990</td>\n",
       "      <td>294.089996</td>\n",
       "      <td>234.147995</td>\n",
       "      <td>234.164001</td>\n",
       "      <td>234.151993</td>\n",
       "      <td>234.160004</td>\n",
       "      <td>1241</td>\n",
       "      <td>14</td>\n",
       "      <td>3</td>\n",
       "      <td>194188</td>\n",
       "      <td>9999</td>\n",
       "      <td>99</td>\n",
       "      <td>3.3</td>\n",
       "      <td>0</td>\n",
       "      <td>-3.3</td>\n",
       "      <td>0</td>\n",
       "      <td>1018.000000</td>\n",
       "      <td>280</td>\n",
       "      <td>2.6</td>\n",
       "      <td>1</td>\n",
       "      <td>53</td>\n",
       "      <td>1</td>\n",
       "      <td>10</td>\n",
       "      <td>4</td>\n",
       "      <td>1</td>\n",
       "      <td>1</td>\n",
       "      <td>0.5</td>\n",
       "      <td>0.866025</td>\n",
       "      <td>-2.449294e-16</td>\n",
       "      <td>1.0</td>\n",
       "      <td>0.017166</td>\n",
       "      <td>0.999853</td>\n",
       "      <td>0.398401</td>\n",
       "      <td>-0.917211</td>\n",
       "      <td>-0.866025</td>\n",
       "      <td>-0.5</td>\n",
       "      <td>0.201299</td>\n",
       "      <td>0.97953</td>\n",
       "      <td>0.951057</td>\n",
       "      <td>0.309017</td>\n",
       "    </tr>\n",
       "    <tr>\n",
       "      <td>1</td>\n",
       "      <td>1</td>\n",
       "      <td>1050.310059</td>\n",
       "      <td>2016-01-01 10:00:00</td>\n",
       "      <td>2249.919922</td>\n",
       "      <td>2080.939941</td>\n",
       "      <td>1995.560059</td>\n",
       "      <td>2011.180054</td>\n",
       "      <td>1988.310059</td>\n",
       "      <td>1785.680054</td>\n",
       "      <td>1149.339966</td>\n",
       "      <td>1122.380005</td>\n",
       "      <td>1140.790039</td>\n",
       "      <td>1144.390015</td>\n",
       "      <td>1241</td>\n",
       "      <td>14</td>\n",
       "      <td>3</td>\n",
       "      <td>194188</td>\n",
       "      <td>9999</td>\n",
       "      <td>99</td>\n",
       "      <td>3.3</td>\n",
       "      <td>0</td>\n",
       "      <td>-3.3</td>\n",
       "      <td>0</td>\n",
       "      <td>1018.000000</td>\n",
       "      <td>280</td>\n",
       "      <td>2.6</td>\n",
       "      <td>1</td>\n",
       "      <td>53</td>\n",
       "      <td>1</td>\n",
       "      <td>10</td>\n",
       "      <td>4</td>\n",
       "      <td>1</td>\n",
       "      <td>1</td>\n",
       "      <td>0.5</td>\n",
       "      <td>0.866025</td>\n",
       "      <td>-2.449294e-16</td>\n",
       "      <td>1.0</td>\n",
       "      <td>0.017166</td>\n",
       "      <td>0.999853</td>\n",
       "      <td>0.398401</td>\n",
       "      <td>-0.917211</td>\n",
       "      <td>-0.866025</td>\n",
       "      <td>-0.5</td>\n",
       "      <td>0.201299</td>\n",
       "      <td>0.97953</td>\n",
       "      <td>0.951057</td>\n",
       "      <td>0.309017</td>\n",
       "    </tr>\n",
       "    <tr>\n",
       "      <td>2</td>\n",
       "      <td>2</td>\n",
       "      <td>1241.439941</td>\n",
       "      <td>2016-01-01 10:00:00</td>\n",
       "      <td>2398.879883</td>\n",
       "      <td>2548.489990</td>\n",
       "      <td>2207.290039</td>\n",
       "      <td>2661.340088</td>\n",
       "      <td>2249.280029</td>\n",
       "      <td>2225.659912</td>\n",
       "      <td>2186.290039</td>\n",
       "      <td>1805.719971</td>\n",
       "      <td>1771.609985</td>\n",
       "      <td>2251.909912</td>\n",
       "      <td>1241</td>\n",
       "      <td>14</td>\n",
       "      <td>3</td>\n",
       "      <td>194188</td>\n",
       "      <td>9999</td>\n",
       "      <td>99</td>\n",
       "      <td>3.3</td>\n",
       "      <td>0</td>\n",
       "      <td>-3.3</td>\n",
       "      <td>0</td>\n",
       "      <td>1018.000000</td>\n",
       "      <td>280</td>\n",
       "      <td>2.6</td>\n",
       "      <td>1</td>\n",
       "      <td>53</td>\n",
       "      <td>1</td>\n",
       "      <td>10</td>\n",
       "      <td>4</td>\n",
       "      <td>1</td>\n",
       "      <td>1</td>\n",
       "      <td>0.5</td>\n",
       "      <td>0.866025</td>\n",
       "      <td>-2.449294e-16</td>\n",
       "      <td>1.0</td>\n",
       "      <td>0.017166</td>\n",
       "      <td>0.999853</td>\n",
       "      <td>0.398401</td>\n",
       "      <td>-0.917211</td>\n",
       "      <td>-0.866025</td>\n",
       "      <td>-0.5</td>\n",
       "      <td>0.201299</td>\n",
       "      <td>0.97953</td>\n",
       "      <td>0.951057</td>\n",
       "      <td>0.309017</td>\n",
       "    </tr>\n",
       "    <tr>\n",
       "      <td>3</td>\n",
       "      <td>3</td>\n",
       "      <td>1689.939941</td>\n",
       "      <td>2016-01-01 10:00:00</td>\n",
       "      <td>1331.800049</td>\n",
       "      <td>1466.300049</td>\n",
       "      <td>2528.439941</td>\n",
       "      <td>2692.550049</td>\n",
       "      <td>2547.929932</td>\n",
       "      <td>2249.989990</td>\n",
       "      <td>1786.969971</td>\n",
       "      <td>1656.900024</td>\n",
       "      <td>1638.579956</td>\n",
       "      <td>1922.689941</td>\n",
       "      <td>1241</td>\n",
       "      <td>14</td>\n",
       "      <td>3</td>\n",
       "      <td>194188</td>\n",
       "      <td>9999</td>\n",
       "      <td>99</td>\n",
       "      <td>3.3</td>\n",
       "      <td>0</td>\n",
       "      <td>-3.3</td>\n",
       "      <td>0</td>\n",
       "      <td>1018.000000</td>\n",
       "      <td>280</td>\n",
       "      <td>2.6</td>\n",
       "      <td>1</td>\n",
       "      <td>53</td>\n",
       "      <td>1</td>\n",
       "      <td>10</td>\n",
       "      <td>4</td>\n",
       "      <td>1</td>\n",
       "      <td>1</td>\n",
       "      <td>0.5</td>\n",
       "      <td>0.866025</td>\n",
       "      <td>-2.449294e-16</td>\n",
       "      <td>1.0</td>\n",
       "      <td>0.017166</td>\n",
       "      <td>0.999853</td>\n",
       "      <td>0.398401</td>\n",
       "      <td>-0.917211</td>\n",
       "      <td>-0.866025</td>\n",
       "      <td>-0.5</td>\n",
       "      <td>0.201299</td>\n",
       "      <td>0.97953</td>\n",
       "      <td>0.951057</td>\n",
       "      <td>0.309017</td>\n",
       "    </tr>\n",
       "    <tr>\n",
       "      <td>4</td>\n",
       "      <td>0</td>\n",
       "      <td>234.171997</td>\n",
       "      <td>2016-01-01 11:00:00</td>\n",
       "      <td>294.156006</td>\n",
       "      <td>354.152008</td>\n",
       "      <td>294.121002</td>\n",
       "      <td>294.101990</td>\n",
       "      <td>294.089996</td>\n",
       "      <td>234.147995</td>\n",
       "      <td>234.164001</td>\n",
       "      <td>234.151993</td>\n",
       "      <td>234.160004</td>\n",
       "      <td>174.171997</td>\n",
       "      <td>1241</td>\n",
       "      <td>14</td>\n",
       "      <td>3</td>\n",
       "      <td>194188</td>\n",
       "      <td>9999</td>\n",
       "      <td>99</td>\n",
       "      <td>3.3</td>\n",
       "      <td>0</td>\n",
       "      <td>-3.3</td>\n",
       "      <td>0</td>\n",
       "      <td>1017.900024</td>\n",
       "      <td>280</td>\n",
       "      <td>2.6</td>\n",
       "      <td>1</td>\n",
       "      <td>53</td>\n",
       "      <td>1</td>\n",
       "      <td>11</td>\n",
       "      <td>4</td>\n",
       "      <td>1</td>\n",
       "      <td>1</td>\n",
       "      <td>0.5</td>\n",
       "      <td>0.866025</td>\n",
       "      <td>-2.449294e-16</td>\n",
       "      <td>1.0</td>\n",
       "      <td>0.017166</td>\n",
       "      <td>0.999853</td>\n",
       "      <td>0.136167</td>\n",
       "      <td>-0.990686</td>\n",
       "      <td>-0.866025</td>\n",
       "      <td>-0.5</td>\n",
       "      <td>0.201299</td>\n",
       "      <td>0.97953</td>\n",
       "      <td>0.951057</td>\n",
       "      <td>0.309017</td>\n",
       "    </tr>\n",
       "  </tbody>\n",
       "</table>\n",
       "</div>"
      ],
      "text/plain": [
       "   meter  meter_reading           timestamp  meter_reading_t-1  \\\n",
       "0      0     174.171997 2016-01-01 10:00:00         234.179993   \n",
       "1      1    1050.310059 2016-01-01 10:00:00        2249.919922   \n",
       "2      2    1241.439941 2016-01-01 10:00:00        2398.879883   \n",
       "3      3    1689.939941 2016-01-01 10:00:00        1331.800049   \n",
       "4      0     234.171997 2016-01-01 11:00:00         294.156006   \n",
       "\n",
       "   meter_reading_t-2  meter_reading_t-3  meter_reading_t-4  meter_reading_t-5  \\\n",
       "0         294.156006         354.152008         294.121002         294.101990   \n",
       "1        2080.939941        1995.560059        2011.180054        1988.310059   \n",
       "2        2548.489990        2207.290039        2661.340088        2249.280029   \n",
       "3        1466.300049        2528.439941        2692.550049        2547.929932   \n",
       "4         354.152008         294.121002         294.101990         294.089996   \n",
       "\n",
       "   meter_reading_t-6  meter_reading_t-7  meter_reading_t-8  meter_reading_t-9  \\\n",
       "0         294.089996         234.147995         234.164001         234.151993   \n",
       "1        1785.680054        1149.339966        1122.380005        1140.790039   \n",
       "2        2225.659912        2186.290039        1805.719971        1771.609985   \n",
       "3        2249.989990        1786.969971        1656.900024        1638.579956   \n",
       "4         234.147995         234.164001         234.151993         234.160004   \n",
       "\n",
       "   meter_reading_t-10  building_id  site_id  primary_use  square_feet  \\\n",
       "0          234.160004         1241       14            3       194188   \n",
       "1         1144.390015         1241       14            3       194188   \n",
       "2         2251.909912         1241       14            3       194188   \n",
       "3         1922.689941         1241       14            3       194188   \n",
       "4          174.171997         1241       14            3       194188   \n",
       "\n",
       "   year_built  floor_count  air_temperature  cloud_coverage  dew_temperature  \\\n",
       "0        9999           99              3.3               0             -3.3   \n",
       "1        9999           99              3.3               0             -3.3   \n",
       "2        9999           99              3.3               0             -3.3   \n",
       "3        9999           99              3.3               0             -3.3   \n",
       "4        9999           99              3.3               0             -3.3   \n",
       "\n",
       "   precip_depth_1_hr  sea_level_pressure  wind_direction  wind_speed  dt_m  \\\n",
       "0                  0         1018.000000             280         2.6     1   \n",
       "1                  0         1018.000000             280         2.6     1   \n",
       "2                  0         1018.000000             280         2.6     1   \n",
       "3                  0         1018.000000             280         2.6     1   \n",
       "4                  0         1017.900024             280         2.6     1   \n",
       "\n",
       "   dt_w  dt_d  dt_hour  dt_day_week  dt_day_month  dt_week_month  dt_m_sin  \\\n",
       "0    53     1       10            4             1              1       0.5   \n",
       "1    53     1       10            4             1              1       0.5   \n",
       "2    53     1       10            4             1              1       0.5   \n",
       "3    53     1       10            4             1              1       0.5   \n",
       "4    53     1       11            4             1              1       0.5   \n",
       "\n",
       "   dt_m_cos      dt_w_sin  dt_w_cos  dt_d_sin  dt_d_cos  dt_hour_sin  \\\n",
       "0  0.866025 -2.449294e-16       1.0  0.017166  0.999853     0.398401   \n",
       "1  0.866025 -2.449294e-16       1.0  0.017166  0.999853     0.398401   \n",
       "2  0.866025 -2.449294e-16       1.0  0.017166  0.999853     0.398401   \n",
       "3  0.866025 -2.449294e-16       1.0  0.017166  0.999853     0.398401   \n",
       "4  0.866025 -2.449294e-16       1.0  0.017166  0.999853     0.136167   \n",
       "\n",
       "   dt_hour_cos  dt_day_week_sin  dt_day_week_cos  dt_day_month_sin  \\\n",
       "0    -0.917211        -0.866025             -0.5          0.201299   \n",
       "1    -0.917211        -0.866025             -0.5          0.201299   \n",
       "2    -0.917211        -0.866025             -0.5          0.201299   \n",
       "3    -0.917211        -0.866025             -0.5          0.201299   \n",
       "4    -0.990686        -0.866025             -0.5          0.201299   \n",
       "\n",
       "   dt_day_month_cos  dt_week_month_sin  dt_week_month_cos  \n",
       "0           0.97953           0.951057           0.309017  \n",
       "1           0.97953           0.951057           0.309017  \n",
       "2           0.97953           0.951057           0.309017  \n",
       "3           0.97953           0.951057           0.309017  \n",
       "4           0.97953           0.951057           0.309017  "
      ]
     },
     "execution_count": 224,
     "metadata": {},
     "output_type": "execute_result"
    }
   ],
   "source": [
    "sample_ts_with_feats.head()"
   ]
  },
  {
   "cell_type": "code",
   "execution_count": 225,
   "metadata": {},
   "outputs": [],
   "source": [
    "tsfx_idx = [0] + [x for x in range(3, len(list(sample_ts_with_feats)))]\n",
    "tsfy_idx = 1"
   ]
  },
  {
   "cell_type": "code",
   "execution_count": 226,
   "metadata": {},
   "outputs": [],
   "source": [
    "tr_smfpx, tr_smfpy = df_to_x_y(tr_smptsf, tsfx_idx, tsfy_idx)\n",
    "ts_smfpx, ts_smfpy = df_to_x_y(ts_smptsf, tsfx_idx, tsfy_idx)"
   ]
  },
  {
   "cell_type": "code",
   "execution_count": 251,
   "metadata": {},
   "outputs": [
    {
     "data": {
      "text/plain": [
       "RandomForestRegressor(bootstrap=True, criterion='mse', max_depth=5,\n",
       "                      max_features='auto', max_leaf_nodes=None,\n",
       "                      min_impurity_decrease=0.0, min_impurity_split=None,\n",
       "                      min_samples_leaf=1, min_samples_split=2,\n",
       "                      min_weight_fraction_leaf=0.0, n_estimators=39, n_jobs=-1,\n",
       "                      oob_score=False, random_state=None, verbose=0,\n",
       "                      warm_start=False)"
      ]
     },
     "execution_count": 251,
     "metadata": {},
     "output_type": "execute_result"
    }
   ],
   "source": [
    "rfrg = RandomForestRegressor(n_jobs=-1, max_depth=5, n_estimators=39)\n",
    "rfrg.fit(tr_smfpx, tr_smfpy)"
   ]
  },
  {
   "cell_type": "code",
   "execution_count": 252,
   "metadata": {},
   "outputs": [
    {
     "data": {
      "text/plain": [
       "0.6806889120941725"
      ]
     },
     "execution_count": 252,
     "metadata": {},
     "output_type": "execute_result"
    }
   ],
   "source": [
    "root_mean_squared_log_error(rfrg.predict(tr_smfpx), tr_smfpy)"
   ]
  },
  {
   "cell_type": "code",
   "execution_count": 253,
   "metadata": {},
   "outputs": [
    {
     "data": {
      "text/plain": [
       "2.0278930312016406"
      ]
     },
     "execution_count": 253,
     "metadata": {},
     "output_type": "execute_result"
    }
   ],
   "source": [
    "root_mean_squared_log_error(rfrg.predict(ts_smfpx), ts_smfpy)"
   ]
  },
  {
   "cell_type": "code",
   "execution_count": 257,
   "metadata": {},
   "outputs": [
    {
     "data": {
      "text/plain": [
       "(26292, 47)"
      ]
     },
     "execution_count": 257,
     "metadata": {},
     "output_type": "execute_result"
    }
   ],
   "source": [
    "tr_smptsf.shape"
   ]
  },
  {
   "cell_type": "code",
   "execution_count": 259,
   "metadata": {},
   "outputs": [],
   "source": [
    "# Save processed features before leaving\n",
    "sample_ts_with_feats.to_pickle('kaggle/input/ashrae-energy-prediction/store_1241_10lags_train.pkl')"
   ]
  },
  {
   "cell_type": "code",
   "execution_count": null,
   "metadata": {},
   "outputs": [],
   "source": []
  }
 ],
 "metadata": {
  "kernelspec": {
   "display_name": "Python 3",
   "language": "python",
   "name": "python3"
  },
  "language_info": {
   "codemirror_mode": {
    "name": "ipython",
    "version": 3
   },
   "file_extension": ".py",
   "mimetype": "text/x-python",
   "name": "python",
   "nbconvert_exporter": "python",
   "pygments_lexer": "ipython3",
   "version": "3.6.1"
  }
 },
 "nbformat": 4,
 "nbformat_minor": 2
}
